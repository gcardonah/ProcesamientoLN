{
  "nbformat": 4,
  "nbformat_minor": 0,
  "metadata": {
    "colab": {
      "name": "Copia de Untitled2.ipynb",
      "provenance": [],
      "collapsed_sections": []
    },
    "kernelspec": {
      "name": "python3",
      "display_name": "Python 3"
    }
  },
  "cells": [
    {
      "cell_type": "code",
      "metadata": {
        "id": "m1w33xr3pfMI"
      },
      "source": [
        "import os\n",
        "from zipfile import ZipFile\n",
        "\n",
        "# cargo y descomprimo en drive\n",
        "direccion = '/content/python_books.zip'\n",
        "\n",
        "# Descomprimir el archivo ZIP\n",
        "with ZipFile(direccion) as archivo:\n",
        "    archivo.extractall(\"../\")\n"
      ],
      "execution_count": 8,
      "outputs": []
    },
    {
      "cell_type": "code",
      "metadata": {
        "colab": {
          "base_uri": "https://localhost:8080/"
        },
        "id": "5xXF-BtarS15",
        "outputId": "0c91dbab-0b05-4811-e9d5-abf2112ed4cc"
      },
      "source": [
        "# Leer los archivos del directorio descomprimido\n",
        "for raiz, dirs, archivos in os.walk(\"../python_books\"):\n",
        "    # print(raiz, dirs, archivos)\t\n",
        "    for a in archivos: \n",
        "        print(a)"
      ],
      "execution_count": 9,
      "outputs": [
        {
          "output_type": "stream",
          "text": [
            "Python - Finance.pdf\n",
            "Python  Data Science Cookbook.pdf\n",
            "Python - AWS.pdf\n"
          ],
          "name": "stdout"
        }
      ]
    },
    {
      "cell_type": "code",
      "metadata": {
        "colab": {
          "base_uri": "https://localhost:8080/"
        },
        "id": "ylx-3Xx7uX8D",
        "outputId": "de8b23b8-ecf9-48c1-a336-f85c36e3bc56"
      },
      "source": [
        "pip install pymupdf"
      ],
      "execution_count": 10,
      "outputs": [
        {
          "output_type": "stream",
          "text": [
            "Requirement already satisfied: pymupdf in /usr/local/lib/python3.7/dist-packages (1.18.9)\n"
          ],
          "name": "stdout"
        }
      ]
    },
    {
      "cell_type": "code",
      "metadata": {
        "id": "bzkrK5yOuX3w"
      },
      "source": [
        "import fitz\n",
        "\n",
        "def leer_pdf(archivopdf):\n",
        "  documento = fitz.open(archivopdf)\n",
        "  #print(\"número de paginas: \", documento.pageCount)\n",
        "  pagina = documento.loadPage(0)\n",
        "  texto_pagina = pagina.getText(\"text\")\n",
        "  return texto_pagina\n",
        "\n",
        "def contar_palabras(texto):\n",
        "  palabras = texto.split()\n",
        "  cantidad_palabras = len(palabras)\n",
        "  return cantidad_palabras\n",
        "\n",
        "def retornar_conteo(archivopdf):\n",
        "  textopdf = leer_pdf(archivopdf)\n",
        "  contarpalabras = contar_palabras(textopdf)\n",
        "  return contarpalabras \n",
        "\n",
        "def num_mayor(n1,n2,n3):\n",
        "\tif n1>n2 and n1>n3:\n",
        "\t\treturn n1\n",
        "\telif n2>n3:\n",
        "\t\treturn n2\n",
        "\treturn n3\n"
      ],
      "execution_count": 34,
      "outputs": []
    },
    {
      "cell_type": "code",
      "metadata": {
        "colab": {
          "base_uri": "https://localhost:8080/"
        },
        "id": "9A7ZH2Q5zp8x",
        "outputId": "81e05fe3-7e5e-4f46-c1ea-a4619faf8171"
      },
      "source": [
        "pagina1 = retornar_conteo(\"../python_books/Python - Finance.pdf\")\n",
        "#print(pagina1)\n",
        "pagina2 = retornar_conteo(\"../python_books/Python  Data Science Cookbook.pdf\")\n",
        "#print(pagina2)\n",
        "pagina3 = retornar_conteo(\"../python_books/Python - AWS.pdf\")\n",
        "#print(pagina3)\n",
        "\n",
        "datocont = num_mayor(pagina1, pagina2, pagina3)\n",
        "print(\"El archivo .pdf que tiene mas palabras: \" , datocont)"
      ],
      "execution_count": 35,
      "outputs": [
        {
          "output_type": "stream",
          "text": [
            "El archivo .pdf que tiene mas palabras:  535\n"
          ],
          "name": "stdout"
        }
      ]
    }
  ]
}