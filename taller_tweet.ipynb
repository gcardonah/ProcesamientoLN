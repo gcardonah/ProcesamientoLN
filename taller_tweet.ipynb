{
 "cells": [
  {
   "cell_type": "markdown",
   "id": "elder-yukon",
   "metadata": {},
   "source": [
    "<img src='https://encrypted-tbn0.gstatic.com/images?q=tbn%3AANd9GcQ-VfNtOyJbsaxu43Kztf_cv1mgBG6ZIQZEVw&usqp=CAU'>\n",
    "\n",
    "# Procesamiento de Lenguaje Natural\n",
    "\n",
    "## Taller #11: tweet \n",
    "\n",
    "Guillermo Andres Cardona\n",
    "cod:616202023"
   ]
  },
  {
   "cell_type": "code",
   "execution_count": 110,
   "id": "sudden-breeding",
   "metadata": {},
   "outputs": [
    {
     "data": {
      "text/html": [
       "        <script type=\"text/javascript\">\n",
       "        window.PlotlyConfig = {MathJaxConfig: 'local'};\n",
       "        if (window.MathJax) {MathJax.Hub.Config({SVG: {font: \"STIX-Web\"}});}\n",
       "        if (typeof require !== 'undefined') {\n",
       "        require.undef(\"plotly\");\n",
       "        requirejs.config({\n",
       "            paths: {\n",
       "                'plotly': ['https://cdn.plot.ly/plotly-latest.min']\n",
       "            }\n",
       "        });\n",
       "        require(['plotly'], function(Plotly) {\n",
       "            window._Plotly = Plotly;\n",
       "        });\n",
       "        }\n",
       "        </script>\n",
       "        "
      ]
     },
     "metadata": {},
     "output_type": "display_data"
    }
   ],
   "source": [
    "\n",
    "import pandas as pd\n",
    "import tweepy\n",
    "import regex\n",
    "import emoji\n",
    "\n",
    "import plotly.io as pio\n",
    "import plotly.express as px\n",
    "import plotly.graph_objs as go\n",
    "from plotly.offline import download_plotlyjs, init_notebook_mode, plot, iplot\n",
    "\n",
    "import matplotlib.pyplot as plt\n",
    "%matplotlib inline\n",
    "init_notebook_mode(connected=True)\n"
   ]
  },
  {
   "cell_type": "code",
   "execution_count": 111,
   "id": "enormous-conversion",
   "metadata": {},
   "outputs": [],
   "source": [
    "# Leer las llaves\n",
    "keys = pd.read_csv(\"G:/token/tweet.csv\", header=None)\n",
    "keys = dict(zip(keys[0],keys[1]))\n",
    "keys.keys()\n",
    "\n",
    "# Autenticar a través de la API \n",
    "auth = tweepy.OAuthHandler(keys['api_key'], keys['api_secret_key'])\n",
    "auth.set_access_token(keys['access_token'], keys['access_token_secret'])\n",
    "api = tweepy.API(auth, wait_on_rate_limit=True)\n",
    "\n"
   ]
  },
  {
   "cell_type": "code",
   "execution_count": 112,
   "id": "attended-kitchen",
   "metadata": {},
   "outputs": [],
   "source": [
    "\n",
    "  #api.update_status('Colombia 🥺🥺🥺')\n"
   ]
  },
  {
   "cell_type": "code",
   "execution_count": 113,
   "id": "focal-trading",
   "metadata": {},
   "outputs": [],
   "source": [
    "tweets = tweepy.Cursor(api.search,\n",
    "                       q=['colombia -RT'],#RT quitar los retwteados\n",
    "                       lang='es',\n",
    "                       #geocode='4.7110,-74.0721,100km',\n",
    "                       tweet_mode='extended',\n",
    "                       include_rts=False,\n",
    "                       ).items(100)\n",
    "\n",
    "\n",
    "# Objeto generador\n",
    "t = [tweet for tweet in tweets]\n"
   ]
  },
  {
   "cell_type": "code",
   "execution_count": 114,
   "id": "chemical-leader",
   "metadata": {},
   "outputs": [
    {
     "data": {
      "text/plain": [
       "'Bogotá,D.C.,Colombia'"
      ]
     },
     "execution_count": 114,
     "metadata": {},
     "output_type": "execute_result"
    }
   ],
   "source": [
    "t[1].full_text\n",
    "t[1].created_at\n",
    "t[1].user\n",
    "t[1].user.location"
   ]
  },
  {
   "cell_type": "code",
   "execution_count": 115,
   "id": "voluntary-happiness",
   "metadata": {},
   "outputs": [
    {
     "data": {
      "text/html": [
       "<div>\n",
       "<style scoped>\n",
       "    .dataframe tbody tr th:only-of-type {\n",
       "        vertical-align: middle;\n",
       "    }\n",
       "\n",
       "    .dataframe tbody tr th {\n",
       "        vertical-align: top;\n",
       "    }\n",
       "\n",
       "    .dataframe thead th {\n",
       "        text-align: right;\n",
       "    }\n",
       "</style>\n",
       "<table border=\"1\" class=\"dataframe\">\n",
       "  <thead>\n",
       "    <tr style=\"text-align: right;\">\n",
       "      <th></th>\n",
       "      <th>tweets</th>\n",
       "      <th>date</th>\n",
       "      <th>city</th>\n",
       "      <th>user_location</th>\n",
       "      <th>id</th>\n",
       "      <th>link</th>\n",
       "    </tr>\n",
       "  </thead>\n",
       "  <tbody>\n",
       "    <tr>\n",
       "      <th>0</th>\n",
       "      <td>#ATENCION | Urgente\\n@ArchivaColombia @WOLA_or...</td>\n",
       "      <td>2021-05-19 23:51:08</td>\n",
       "      <td>Bogotá</td>\n",
       "      <td>Holanda</td>\n",
       "      <td>1395165156779479040</td>\n",
       "      <td>https://twitter.com/i/web/stuatus/139516515677...</td>\n",
       "    </tr>\n",
       "    <tr>\n",
       "      <th>1</th>\n",
       "      <td>me emborraché con 6 club colombia</td>\n",
       "      <td>2021-05-19 23:51:07</td>\n",
       "      <td>Bogotá</td>\n",
       "      <td>Bogotá,D.C.,Colombia</td>\n",
       "      <td>1395165149653356546</td>\n",
       "      <td>https://twitter.com/i/web/stuatus/139516514965...</td>\n",
       "    </tr>\n",
       "    <tr>\n",
       "      <th>2</th>\n",
       "      <td>Carracas a ponerse en el pecho la camisa de mi...</td>\n",
       "      <td>2021-05-19 23:51:06</td>\n",
       "      <td>Bogotá</td>\n",
       "      <td>Bogota</td>\n",
       "      <td>1395165147916914692</td>\n",
       "      <td>https://twitter.com/i/web/stuatus/139516514791...</td>\n",
       "    </tr>\n",
       "    <tr>\n",
       "      <th>3</th>\n",
       "      <td>A pesar de todo, que emoción ser hija de esta ...</td>\n",
       "      <td>2021-05-19 23:51:06</td>\n",
       "      <td>Bogotá</td>\n",
       "      <td>Colombia</td>\n",
       "      <td>1395165144989241345</td>\n",
       "      <td>https://twitter.com/i/web/stuatus/139516514498...</td>\n",
       "    </tr>\n",
       "    <tr>\n",
       "      <th>4</th>\n",
       "      <td>Para los interesados, acá esta en PDF el infor...</td>\n",
       "      <td>2021-05-19 23:51:03</td>\n",
       "      <td>Bogotá</td>\n",
       "      <td>@jhpelaez ™</td>\n",
       "      <td>1395165135312916481</td>\n",
       "      <td>https://twitter.com/i/web/stuatus/139516513531...</td>\n",
       "    </tr>\n",
       "  </tbody>\n",
       "</table>\n",
       "</div>"
      ],
      "text/plain": [
       "                                              tweets                date  \\\n",
       "0  #ATENCION | Urgente\\n@ArchivaColombia @WOLA_or... 2021-05-19 23:51:08   \n",
       "1                  me emborraché con 6 club colombia 2021-05-19 23:51:07   \n",
       "2  Carracas a ponerse en el pecho la camisa de mi... 2021-05-19 23:51:06   \n",
       "3  A pesar de todo, que emoción ser hija de esta ... 2021-05-19 23:51:06   \n",
       "4  Para los interesados, acá esta en PDF el infor... 2021-05-19 23:51:03   \n",
       "\n",
       "     city         user_location                   id  \\\n",
       "0  Bogotá               Holanda  1395165156779479040   \n",
       "1  Bogotá  Bogotá,D.C.,Colombia  1395165149653356546   \n",
       "2  Bogotá               Bogota   1395165147916914692   \n",
       "3  Bogotá              Colombia  1395165144989241345   \n",
       "4  Bogotá           @jhpelaez ™  1395165135312916481   \n",
       "\n",
       "                                                link  \n",
       "0  https://twitter.com/i/web/stuatus/139516515677...  \n",
       "1  https://twitter.com/i/web/stuatus/139516514965...  \n",
       "2  https://twitter.com/i/web/stuatus/139516514791...  \n",
       "3  https://twitter.com/i/web/stuatus/139516514498...  \n",
       "4  https://twitter.com/i/web/stuatus/139516513531...  "
      ]
     },
     "execution_count": 115,
     "metadata": {},
     "output_type": "execute_result"
    }
   ],
   "source": [
    "t_processed = []\n",
    "\n",
    "for tweet in t: \n",
    "    temp = []\n",
    "    temp.append(tweet.full_text)\n",
    "    temp.append(tweet.created_at)\n",
    "    temp.append('Bogotá')\n",
    "    temp.append(tweet.user.location)\n",
    "    temp.append(tweet.id)\n",
    "    temp.append(f\"https://twitter.com/i/web/stuatus/{tweet.id}\")\n",
    "    \n",
    "    t_processed.append(temp)\n",
    "    \n",
    "    \n",
    "data = pd.DataFrame(t_processed)\n",
    "data.columns = ['tweets', 'date', 'city', 'user_location', 'id', 'link']\n",
    "data.head()\n"
   ]
  },
  {
   "cell_type": "code",
   "execution_count": 137,
   "id": "mighty-committee",
   "metadata": {},
   "outputs": [
    {
     "name": "stdout",
     "output_type": "stream",
     "text": [
      "https://twitter.com/Rodaje35/status/1395167532055764997\n",
      "2021-05-20 00:00:35+00:00\n",
      "Recuerda que ¡Ya está en cines  #ThoseWhoWishMeDead (Aquellos que desean mi muerte) estelarizada por #AngelinaJolie! https://t.co/SoIb3AGxPE\n",
      "****************************************************************************************************\n",
      "\n",
      "https://twitter.com/Toastiewiththe/status/1395162492687486976\n",
      "2021-05-19 23:40:33+00:00\n",
      "#AngelinaJolie Anji Daly\n",
      "#WomanCrushWednesday https://t.co/rssWoLmz5F\n",
      "****************************************************************************************************\n",
      "\n",
      "https://twitter.com/Toastiewiththe/status/1395161504861786114\n",
      "2021-05-19 23:36:38+00:00\n",
      "#AngelinaJolie This little one will be 15 in 8 days!!!😱\n",
      "Shiloh https://t.co/QQ61YPGEEH\n",
      "****************************************************************************************************\n",
      "\n",
      "https://twitter.com/MrLK07/status/1395158851536637952\n",
      "2021-05-19 23:26:05+00:00\n",
      "I watched #ThoseWhoWishMeDead and \n",
      "I'm sorry, but we NEED #AngelinaJolie back as #TombRaider! \n",
      "she still has it... what? IT!\n",
      "****************************************************************************************************\n",
      "\n",
      "https://twitter.com/Toastiewiththe/status/1395158648138121220\n",
      "2021-05-19 23:25:17+00:00\n",
      "#AngelinaJolie IG joliecharacters\n",
      "Do you know all the characters' names and the movies? I didn't know one of the names but yes to the other characters and movies. https://t.co/0v9jbEaRtz\n",
      "****************************************************************************************************\n",
      "\n",
      "https://twitter.com/Toastiewiththe/status/1395156988280066052\n",
      "2021-05-19 23:18:41+00:00\n",
      "#AngelinaJolie\n",
      "IG joliecharacters\n",
      "1 &amp; 2 Claire, Playing God\n",
      "3. Lisa, Girl Interrupted\n",
      "4. Amelia, The Bone Collector https://t.co/Nagp4OMVtr\n",
      "****************************************************************************************************\n",
      "\n",
      "https://twitter.com/janksreviews/status/1395156738970505218\n",
      "2021-05-19 23:17:41+00:00\n",
      "Those Who Wish Me Dead - Video Review by Janks - Angelina Jolie Crime Thriller \n",
      "\n",
      "https://t.co/y3AoJFdvZg\n",
      "\n",
      "#angelinajolie #ThoseWhoWishMeDead #ThoseWhoWishMeDeadMovie #MovieReviews #MovieMagic #movie #movies #Movienight #movietime #FilmTwitter\n",
      "****************************************************************************************************\n",
      "\n",
      "https://twitter.com/DolarToday/status/1395152725361504258\n",
      "2021-05-19 23:01:45+00:00\n",
      "#AngelinaJolie culpó a #BradPitt de haber destruido su gran sueño👀\n",
      "👇🏻\n",
      "https://t.co/LpSiSwolgk\n",
      "****************************************************************************************************\n",
      "\n",
      "https://twitter.com/jktt0602/status/1395151604257591303\n",
      "2021-05-19 22:57:17+00:00\n",
      "#ThoseWhoWishMeDead What will get you running back in the cinema this week? Most of us are desperate for a big Hollywood movie with a big Hollywood star &amp; stars don’t get much bigger than #AngelinaJolie @NicholasHoult What a glorious way to return to the big screen! @cineworld 🥺 https://t.co/513iq7YVWD\n",
      "****************************************************************************************************\n",
      "\n",
      "https://twitter.com/CIMAGES/status/1395151562671075328\n",
      "2021-05-19 22:57:07+00:00\n",
      "#AngelinaJolie and #EllenPompeo have reportedly \"really bonded during lockdown because their kids are really close.” Angelina Jolie Reportedly Leans on Ellen Pompeo for Divorce Support ⁦@VanityFair⁩  https://t.co/zKRD94lVLg\n",
      "****************************************************************************************************\n",
      "\n",
      "https://twitter.com/PhiltheBear/status/1395149978264276993\n",
      "2021-05-19 22:50:50+00:00\n",
      "Those Who Wish Me Dead \n",
      "\n",
      "#AngelinaJolie #NicholasHoult #AidanGillen and #JonBernthal star in #TaylorSheridan adventure thriller about a boy on the run from assassins \n",
      "\n",
      "#ThoseWhoWishMeDead is out now at cinemas\n",
      "\n",
      "https://t.co/SgxVXKk9b5\n",
      "****************************************************************************************************\n",
      "\n",
      "https://twitter.com/Toastiewiththe/status/1395143062117134339\n",
      "2021-05-19 22:23:21+00:00\n",
      "#AngelinaJolie repost George Wallace - Premiere Los Angeles 1997 https://t.co/JnDCGpM013\n",
      "****************************************************************************************************\n",
      "\n",
      "https://twitter.com/Toastiewiththe/status/1395142697501986819\n",
      "2021-05-19 22:21:54+00:00\n",
      "#AngelinaJolie #WomanCrushWednesday \n",
      "#TakingLives - Press Conference New York 2004 https://t.co/GXY6y7d0Ck\n",
      "****************************************************************************************************\n",
      "\n",
      "https://twitter.com/Toastiewiththe/status/1395142594234044421\n",
      "2021-05-19 22:21:29+00:00\n",
      "#AngelinaJolie #WomanCrushWednesday \n",
      "#TakingLives - Press Conference New York 2004 https://t.co/zDQ5WOWfc8\n",
      "****************************************************************************************************\n",
      "\n",
      "https://twitter.com/Toastiewiththe/status/1395141613878484992\n",
      "2021-05-19 22:17:35+00:00\n",
      "#AngelinaJolie 2007\n",
      "A Mighty Heart - Press Conference, Los Angeles https://t.co/0JRkY9h51b\n",
      "****************************************************************************************************\n",
      "\n",
      "https://twitter.com/Toastiewiththe/status/1395140793812328453\n",
      "2021-05-19 22:14:20+00:00\n",
      "#AngelinaJolie #WomanCrushWednesday \n",
      "repost\n",
      "2004 Angelina &amp; Maddox @ Farmers Market with Holly Goline and Eunice Huthar https://t.co/ZtDwPfOIRr\n",
      "****************************************************************************************************\n",
      "\n",
      "https://twitter.com/judyju18/status/1395140274754629635\n",
      "2021-05-19 22:12:16+00:00\n",
      "Review of Those Who Wish Me Dead  ⭐  ⭐ ⭐  ⭐  ⭐  ⭐ \n",
      "#ThoseWhoWishMeDeadMovie\n",
      "#AngelinaJolie #FinnLittle https://t.co/yHyAr5GW2j via @WildfireToday\n",
      "****************************************************************************************************\n",
      "\n",
      "https://twitter.com/Toastiewiththe/status/1395140111633879040\n",
      "2021-05-19 22:11:37+00:00\n",
      "#AngelinaJolie 1993 Honey Child https://t.co/8rgyZSwOP9\n",
      "****************************************************************************************************\n",
      "\n",
      "https://twitter.com/Toastiewiththe/status/1395139922336657409\n",
      "2021-05-19 22:10:52+00:00\n",
      "#AngelinaJolie repost - PHOTOSHOOT - SASSY (US) - APRIL 1993\n",
      "by David Jensen https://t.co/ZjTGHKPnJo\n",
      "****************************************************************************************************\n",
      "\n",
      "https://twitter.com/WilliamBanksy/status/1395138061592268802\n",
      "2021-05-19 22:03:28+00:00\n",
      "@chrissyteigen is the weaker half of a #PowerCouple @Beyonce #jayz #bradpitt #AngelinaJolie @kanyewest @KimKardashian\n",
      "****************************************************************************************************\n",
      "\n",
      "https://twitter.com/HollywoodMashu1/status/1395136987326160898\n",
      "2021-05-19 21:59:12+00:00\n",
      "The amazing #AngelinaJolie https://t.co/bohXFvXDDp\n",
      "****************************************************************************************************\n",
      "\n",
      "https://twitter.com/Toastiewiththe/status/1395135832453959680\n",
      "2021-05-19 21:54:37+00:00\n",
      "#AngelinaJolie #TWWMD https://t.co/wXuklyV60g\n",
      "****************************************************************************************************\n",
      "\n",
      "https://twitter.com/Toastiewiththe/status/1395134785065046019\n",
      "2021-05-19 21:50:27+00:00\n",
      "#AngelinaJolie #TWWMD\n",
      "IG taraahunter\n",
      "Those Who Wish Me Dead - swipe to see the hard and fast times we had in the flames of spring/summer 2019.\n",
      "https://t.co/xUOaKrmQef\n",
      "****************************************************************************************************\n",
      "\n",
      "https://twitter.com/Toastiewiththe/status/1395133881351823360\n",
      "2021-05-19 21:46:52+00:00\n",
      "#AngelinaJolie #JackBlack #kungfupanda https://t.co/RcCw4moY8P\n",
      "****************************************************************************************************\n",
      "\n",
      "https://twitter.com/arq_balquin/status/1395133752385314820\n",
      "2021-05-19 21:46:21+00:00\n",
      "#Wanted is extreme. ⭐️⭐️⭐️⭐️⭐️ Nakakapanginig laman. #AngelinaJolie #JamesMcAvoy\n",
      "****************************************************************************************************\n",
      "\n",
      "https://twitter.com/Toastiewiththe/status/1395133393474662406\n",
      "2021-05-19 21:44:55+00:00\n",
      "#AngelinaJolie Angie and Shiloh, who have birthdays coming up. https://t.co/NdIzp8LAlM\n",
      "****************************************************************************************************\n",
      "\n",
      "https://twitter.com/Toastiewiththe/status/1395133226537127942\n",
      "2021-05-19 21:44:16+00:00\n",
      "#AngelinaJolie repost - Vivienne 😍 https://t.co/gAGrCntEhu\n",
      "****************************************************************************************************\n",
      "\n",
      "https://twitter.com/Andre_CA7/status/1395130736169025536\n",
      "2021-05-19 21:34:22+00:00\n",
      "Yo #AngelinaJolie is still one fine woman\n",
      "****************************************************************************************************\n",
      "\n",
      "https://twitter.com/DolarToday/status/1395123986162388994\n",
      "2021-05-19 21:07:33+00:00\n",
      "#AngelinaJolie culpó a #BradPitt de haber destruido su gran sueño👀\n",
      "👇🏻\n",
      "https://t.co/LpSiSwolgk\n",
      "****************************************************************************************************\n",
      "\n",
      "https://twitter.com/Sammie323Blue/status/1395123827965927424\n",
      "2021-05-19 21:06:55+00:00\n",
      "Check out OK magazine May 24, 2021 - Brad Pitt's heartache and more - free shipping!  https://t.co/2MNENVIhNe via @eBay #BradPitt #AngelinaJolie #SebastianStan #MarkHarmon #HalleBerry #VanHunt #TimMcGraw #FaithHill #BritneySpears #DemiMoore #CarrieUnderwood and more!\n",
      "****************************************************************************************************\n",
      "\n",
      "https://twitter.com/SaraCollins73/status/1395122668043653125\n",
      "2021-05-19 21:02:18+00:00\n",
      "Two thumbs way up for Angelina Jolie's new movie 🥰 #ThoseWhoWishMeDeadMovie  #AngelinaJolie\n",
      "****************************************************************************************************\n",
      "\n",
      "https://twitter.com/judyju18/status/1395120256587378692\n",
      "2021-05-19 20:52:43+00:00\n",
      "Guerlain’s CEO, Veronique Courtois, Announces $1m Bee Pledge Alongside Program Godmother, Angelina Jolie.\n",
      "#AngelinaJolie #Guerlain https://t.co/2ITu1mzR2X https://t.co/d5XWVRl4yp\n",
      "****************************************************************************************************\n",
      "\n",
      "https://twitter.com/Toastiewiththe/status/1395119539273314305\n",
      "2021-05-19 20:49:52+00:00\n",
      "#AngelinaJolie #Guerlain https://t.co/JlSMtlVJ6q\n",
      "****************************************************************************************************\n",
      "\n",
      "https://twitter.com/Sangabrielle69/status/1395118813872627712\n",
      "2021-05-19 20:46:59+00:00\n",
      "Dream: watching them working together as mother and daughter \n",
      "#AngelinaJolie 💕 #AlyciaDebnamCarey https://t.co/X704LrPzry\n",
      "****************************************************************************************************\n",
      "\n",
      "https://twitter.com/judyju18/status/1395117959954243587\n",
      "2021-05-19 20:43:36+00:00\n",
      "#FinnLittle is solid as Connor and he  &amp; #AngelinaJolie have a fun back and forth as they bond over their shared trauma of seeing people die in front of them but also have some fun banter.\n",
      "#ThoseWhoWishMeDeadMovie is a solid thriller  👏 💯  https://t.co/RRqrZQtqKE via @@evaction\n",
      "****************************************************************************************************\n",
      "\n",
      "https://twitter.com/CentolaSusan/status/1395115427177517058\n",
      "2021-05-19 20:33:32+00:00\n",
      "@BagdMilkSoWhat @Caitlyn_Jenner wants to be #AngelinaJolie.\n",
      "****************************************************************************************************\n",
      "\n",
      "https://twitter.com/evaction/status/1395112021079822336\n",
      "2021-05-19 20:20:00+00:00\n",
      "Action Hero of the Week: Hannah Faber https://t.co/N3jzprXlEh #ThoseWhoWishMeDead #AngelinaJolie #HannahFaber #Smokejumper\n",
      "****************************************************************************************************\n",
      "\n",
      "https://twitter.com/MajdulinDH/status/1395109002510573576\n",
      "2021-05-19 20:08:00+00:00\n",
      "#ThoseWhoWishMeDeadMovie\n",
      "#AngelinaJolie https://t.co/0FolcfmjXR\n",
      "****************************************************************************************************\n",
      "\n",
      "https://twitter.com/DolarToday/status/1395104165240659969\n",
      "2021-05-19 19:48:47+00:00\n",
      "¡Imperdible! #AngelinaJolie culpó a #BradPitt de haber destruido su gran sueño👀\n",
      "👇🏻\n",
      "https://t.co/LpSiSwolgk\n",
      "****************************************************************************************************\n",
      "\n",
      "https://twitter.com/SharmL/status/1395100571317772292\n",
      "2021-05-19 19:34:30+00:00\n",
      "After 14 months of lockdown, watching a screening of #TaylorSheridan's gritty, strong, honest, and thrilling #ThoseWhoWishMeDead today was the perfect return to the cinema ❤️📽️ #AngelinaJolie @jonnybernthal @medinasenghore @NicholasHoult #AidanGillen #FinnLittle @BronStudios https://t.co/7k2wEVUNL9\n",
      "****************************************************************************************************\n",
      "\n",
      "https://twitter.com/Toastiewiththe/status/1395098774456897541\n",
      "2021-05-19 19:27:22+00:00\n",
      "Thanks, N\n",
      "#AngelinaJolie #TWWMD\n",
      "Review of Those Who Wish Me Dead https://t.co/g40LTGKFY3 via @WildfireToday\n",
      "****************************************************************************************************\n",
      "\n",
      "https://twitter.com/MoviesTodd/status/1395096949372694534\n",
      "2021-05-19 19:20:07+00:00\n",
      "New #MovieReview is live!  Those Who Wish Me Dead isn’t half bad.  In fact, it’s exactly half good.  #movies #thriller #AngelinaJolie https://t.co/Ik5TbOd064\n",
      "****************************************************************************************************\n",
      "\n",
      "https://twitter.com/jolieaddict1/status/1395095967268065289\n",
      "2021-05-19 19:16:12+00:00\n",
      "#AngelinaJolie \n",
      "https://t.co/v2TQbWLIG8 https://t.co/uHLolsx8Ib\n",
      "****************************************************************************************************\n",
      "\n",
      "https://twitter.com/HargiHero/status/1395095808547033088\n",
      "2021-05-19 19:15:35+00:00\n",
      "@TheView #AngelinaJolie is not old\n",
      "****************************************************************************************************\n",
      "\n",
      "https://twitter.com/hollyoutbreak/status/1395093146468560899\n",
      "2021-05-19 19:05:00+00:00\n",
      "How do you build a forest fire without setting a forest fire? #AngelinaJolie tells us how the creative team behind #ThoseWhoWishMeDead handled it.\n",
      "\n",
      "https://t.co/U72XL17P2G\n",
      "****************************************************************************************************\n",
      "\n",
      "https://twitter.com/Dee_Biden2020/status/1395091074360614912\n",
      "2021-05-19 18:56:46+00:00\n",
      "@LisaConnally7 Have you read the books written about her? Gives quite a bit of insight. Particularly the learned behavior of #AngelinaJolie from her mother. Her mothers behavior to exhusband John Voight was quite manipulative\n",
      "Also baby Angelina had very little bonding time with mom up to 2yo.\n",
      "****************************************************************************************************\n",
      "\n",
      "https://twitter.com/Matt_Bandowski/status/1395085617399308296\n",
      "2021-05-19 18:35:05+00:00\n",
      "Matt’s Recommendation : #TakingLivesmovie (#AngelinaJolie) https://t.co/UiZRHCYbeN\n",
      "****************************************************************************************************\n",
      "\n",
      "https://twitter.com/periodicodaily/status/1395084378456346631\n",
      "2021-05-19 18:30:09+00:00\n",
      "Quelli che mi vogliono morto: con Angelina Jolie dal 3 giugno in digitale #cinema #QuelliCheMiVoglionoMorto #AngelinaJolie\n",
      "https://t.co/Jp6zmv2Mha\n",
      "****************************************************************************************************\n",
      "\n",
      "https://twitter.com/Robert4787/status/1395079624707743746\n",
      "2021-05-19 18:11:16+00:00\n",
      "#AngelinaJolie working undercover with the #CIA? Growing evidence suggests she did while traveling globally in her humanitarian pursuits. #MI6 #Hollywood #USA #spy\n",
      "https://t.co/OocgPjVt4s\n",
      "****************************************************************************************************\n",
      "\n",
      "https://twitter.com/BlindBuyMedia/status/1395079159899099141\n",
      "2021-05-19 18:09:25+00:00\n",
      "Check out our thoughts on #ThoseWhoWishMeDead starting #AngelinaJolie.\n",
      "\n",
      "https://t.co/bKU9Ztkd8A\n",
      "****************************************************************************************************\n",
      "\n",
      "https://twitter.com/AuAnthonyTurner/status/1395073135792201731\n",
      "2021-05-19 17:45:29+00:00\n",
      "Late to the party, but here is my review for the new Angelina Jolie film, Those Who Want Wish Me Dead. #ThoseWhoWishMeDeadMovie #AngelinaJolie #FilmTwitter \n",
      "\n",
      "YouTube: https://t.co/R3xlWelA5t https://t.co/ml0u1KQ73U\n",
      "****************************************************************************************************\n",
      "\n",
      "https://twitter.com/Music_IntheDark/status/1395071915052654594\n",
      "2021-05-19 17:40:38+00:00\n",
      "I haven't seen the film yet, though your points about women in action films are probably very accurate, but isn't writing an article about #AngelinaJolie (who is in her 40s) as an \"older actress\" part of the very problem being discussed? @shirklesxp  https://t.co/ftQgW4fsbp\n",
      "****************************************************************************************************\n",
      "\n",
      "https://twitter.com/maalbarki/status/1395068135775117316\n",
      "2021-05-19 17:25:37+00:00\n",
      "\"As part of this program, #Guerlain has tapped actor and activist #AngelinaJolie as the Women for Bees ‘Godmother,’ and in this role Jolie will personally meet each and every participant in the program and monitor their progress.\" https://t.co/8prJ4birUT\n",
      "****************************************************************************************************\n",
      "\n",
      "https://twitter.com/AngelTresJolie/status/1395067237740933120\n",
      "2021-05-19 17:22:03+00:00\n",
      "#AngelinaJolie https://t.co/gWsJu0gcNz\n",
      "****************************************************************************************************\n",
      "\n",
      "https://twitter.com/Toastiewiththe/status/1395067025374973957\n",
      "2021-05-19 17:21:12+00:00\n",
      "Thanks, Les! 😘 #AngelinaJolie #Guerlain 😍😍😍 https://t.co/PonNNE6lMv\n",
      "****************************************************************************************************\n",
      "\n",
      "https://twitter.com/JEBTheMasterMC/status/1395066384883847172\n",
      "2021-05-19 17:18:39+00:00\n",
      "Check out my review for #ThoseWhoWishMeDead, a new Angelina Jolie movie and crime thriller. I really liked the movie a lot! Highly recommend checking it out if you have HBO Max!\n",
      "\n",
      "https://t.co/eGefaMUriB\n",
      "\n",
      "#AngelinaJolie #JonBernthal #Film #FilmReview #MovieReview #Movies\n",
      "****************************************************************************************************\n",
      "\n",
      "https://twitter.com/Toastiewiththe/status/1395053840995651592\n",
      "2021-05-19 16:28:49+00:00\n",
      "#AngelinaJolie leads a hot cast in the fiery ‘Those Who Wish Me Dead’ https://t.co/wXuXhVcjph via @WickedLocal\n",
      "****************************************************************************************************\n",
      "\n",
      "https://twitter.com/CinemasNic/status/1395051622506668035\n",
      "2021-05-19 16:20:00+00:00\n",
      "Asesinato, fuego, redención: todo se suma a la emoción de volver a ver a #AngelinaJolie protagonizando #AquellosQueDeseanMiMuerte.  🎬🍿 \n",
      "\n",
      "Consultá tandas y comprá tu entrada en ➡ https://t.co/lmuVpxODE7 \n",
      "\n",
      "#NosApasiona https://t.co/g8VrkTK7E5\n",
      "****************************************************************************************************\n",
      "\n",
      "https://twitter.com/Namagiconline/status/1395044886009810946\n",
      "2021-05-19 15:53:14+00:00\n",
      "Jolie and the cast of \"THOSE WHO WISH ME DEAD\" did incredible. A great action and intense film. see showtimes in Cinemas here 👇\n",
      "https://t.co/SiuV1NjX8j\n",
      "#ThoseWhoWishMeDead #AngelinaJolie #NowShowing #InCinemas \n",
      "\n",
      "Ponzi, #bitcoin, Elon musk, Binance, Jidenna, Matic, Vice president https://t.co/AZN68y8ibd\n",
      "****************************************************************************************************\n",
      "\n",
      "https://twitter.com/nepalesruben/status/1395044372958253057\n",
      "2021-05-19 15:51:11+00:00\n",
      "#ChrisRock's #Spiral , #JasonStatham's #WrathOfMan and #AngelinaJolie's #ThoseWhoWishMeDead led the box office race.\n",
      "https://t.co/JbZjtnmhAZ https://t.co/emZFduaMbJ\n",
      "****************************************************************************************************\n",
      "\n",
      "https://twitter.com/_cosarte_/status/1395042894784913416\n",
      "2021-05-19 15:45:19+00:00\n",
      "💚\"The Curse of the Heartbroken\"💚\n",
      ".\n",
      ".\n",
      "I may or may not have had an obssesion with Maleficent since I was little kid lol. You  guys have an amazing day!\n",
      "\n",
      "#AngelinaJolie #maleficent #ArtistOnTwitter https://t.co/aetB6JETy9\n",
      "****************************************************************************************************\n",
      "\n",
      "https://twitter.com/Samcheska/status/1395040095548346368\n",
      "2021-05-19 15:34:12+00:00\n",
      "#celebritycouple #questionoftheday #angelinajolie #bradpitt #BillyBobThornton #wetwednesday #wednesday https://t.co/OZuRTLTaZu\n",
      "****************************************************************************************************\n",
      "\n",
      "https://twitter.com/heyyprabhux/status/1395038951602155522\n",
      "2021-05-19 15:29:39+00:00\n",
      "Poor china to troll such a great actor &amp; director... Now they can't watch the movie in which thanos good cousin's &amp; species are, with the such one of the most awesome cast ever 💥👁\n",
      "#Eternals #Marvel #AngelinaJolie #kitharington &amp; much more 😍🈂\n",
      "****************************************************************************************************\n",
      "\n",
      "https://twitter.com/scusamipascuzzi/status/1395033828037742601\n",
      "2021-05-19 15:09:17+00:00\n",
      "Those Who Wish Me Dead (2021) — REEL INTERPRETATIONS #thosewhowishmedead #moviereview #taylorsheridan #angelinajolie #filmtwitter https://t.co/8eFr3Cz19L\n",
      "****************************************************************************************************\n",
      "\n",
      "https://twitter.com/Ignaramirez8/status/1395033227367260161\n",
      "2021-05-19 15:06:54+00:00\n",
      "Te presento mis ojos para que veas lo hermosa que eres mi amor 😍😍 #AngelinaJolie https://t.co/y1gIB8ccVx\n",
      "****************************************************************************************************\n",
      "\n",
      "https://twitter.com/ang3lin5_jolie/status/1395031954291105795\n",
      "2021-05-19 15:01:51+00:00\n",
      "#AngelinaJolie https://t.co/0icDFt68jy\n",
      "****************************************************************************************************\n",
      "\n",
      "https://twitter.com/TheMindOfJson/status/1395026021498372105\n",
      "2021-05-19 14:38:16+00:00\n",
      "Best Movie Ever ?\n",
      "\n",
      "#BRUH can #angelinajolie and #jlo age anymore fucking flawless??? https://t.co/M5Uxe5xIwb\n",
      "****************************************************************************************************\n",
      "\n",
      "https://twitter.com/vincenzovin95/status/1395024448101699587\n",
      "2021-05-19 14:32:01+00:00\n",
      "#TheEternals #MarvelStudios #AngelinaJolie #MCU #ChloeZhao https://t.co/inmB2frJCQ\n",
      "****************************************************************************************************\n",
      "\n",
      "https://twitter.com/vincenzovin95/status/1395023538063613954\n",
      "2021-05-19 14:28:24+00:00\n",
      "#TheEternals #MarvelStudios #MCU #AngelinaJolie #ChloeZhao https://t.co/CoiNpZHN9t\n",
      "****************************************************************************************************\n",
      "\n",
      "https://twitter.com/whoiisluci/status/1395022302505541648\n",
      "2021-05-19 14:23:29+00:00\n",
      "5. #AngelinaJolie 🥺 https://t.co/WlUPcjFrnu\n",
      "****************************************************************************************************\n",
      "\n",
      "https://twitter.com/Yeoh_ShuLien/status/1395021694251802627\n",
      "2021-05-19 14:21:04+00:00\n",
      "So Pretty 😍\n",
      "#ThoseWhoWishMeDead \n",
      "#ThoseWhoWishMeDeadMovie \n",
      "#AngelinaJolie ❤️ https://t.co/L7GEc9gTsZ\n",
      "****************************************************************************************************\n",
      "\n",
      "https://twitter.com/yogesh2165/status/1395019928785223682\n",
      "2021-05-19 14:14:03+00:00\n",
      "@AndFlix Participated #FlixMovieLeague #Contest. #AngelinaJolie\n",
      "****************************************************************************************************\n",
      "\n",
      "https://twitter.com/MostakimOffici1/status/1395018811531800576\n",
      "2021-05-19 14:09:37+00:00\n",
      "Eid Tiktok Likee video |ঈদের নতুন টিকটক ভিডিও|Bangla funny video |#tiktok #likee video #BanglaTikTok\n",
      "https://t.co/iFUq0KFFzV\n",
      "#ashaangi #AngelinaJolie\n",
      "#Adultwork #BBk8\n",
      "#Applemusic #AnushkaSharma\n",
      "#ashaangians @mostakimoffici1 @HarshaSK20 @imdulal18 @HumaSha0 @BaiShattar\n",
      "****************************************************************************************************\n",
      "\n",
      "https://twitter.com/judyju18/status/1395016486842994690\n",
      "2021-05-19 14:00:23+00:00\n",
      "@jawarifah I loved Finn Little (Connor) and Angelina Jolie's ( Hannah) relatshionship, they were a good team👏👏🔥🔥🔥🔥🔥\n",
      ".#AngelinaJolie\n",
      "#FinnLittle #ThoseWhoWishMeDeadMovie\n",
      "****************************************************************************************************\n",
      "\n",
      "https://twitter.com/AndFlix/status/1395015969240584192\n",
      "2021-05-19 13:58:19+00:00\n",
      "When has one scan ever got you huge wins? NOW!\n",
      "#FlixMovieLeague, the one league that never stops the winning spirit.  \n",
      "#Salt’s smooth in her ways and so is your win with the  #FlixMovieLeague #Contest. #AngelinaJolie https://t.co/iURfjhhX8u\n",
      "****************************************************************************************************\n",
      "\n",
      "https://twitter.com/MessybettyD49/status/1395014203723980803\n",
      "2021-05-19 13:51:18+00:00\n",
      "#ThoseWhoWishMeDead awesome movie #AngelinaJolie did her thang\n",
      "****************************************************************************************************\n",
      "\n",
      "https://twitter.com/charliequinn99/status/1395008501131485190\n",
      "2021-05-19 13:28:39+00:00\n",
      "Since the original #TombRaider movie is turning 20 this year, wouldn’t it be great if UK cinemas brought it back for a limited time to celebrate? Just an idea 👀 @tombraider @MeaganMarie @ShowcaseCinemas #AngelinaJolie #TombRaider25 https://t.co/3HPftZjF5P\n",
      "****************************************************************************************************\n",
      "\n",
      "https://twitter.com/_Darklyf/status/1395007656876601348\n",
      "2021-05-19 13:25:18+00:00\n",
      "#ThoseWhoWishMeDead 🔥✌️ for #AngelinaJolie killed it..\n",
      "****************************************************************************************************\n",
      "\n",
      "https://twitter.com/MediaHouseLDN/status/1395006360878784514\n",
      "2021-05-19 13:20:09+00:00\n",
      "Back to the cinema we go! From Director #TaylorSheridan comes a high-stakes story of survival &amp; redemption all woven into one. Don't miss #AngelinaJolie in the new thriller, #ThoseWhoWishMeDeadMovie in #UK cinemas now https://t.co/NtnnkvpkPQ\n",
      "****************************************************************************************************\n",
      "\n",
      "https://twitter.com/ayswaterer/status/1395004536238923776\n",
      "2021-05-19 13:12:54+00:00\n",
      "huy @ self mag focus ka na nga lang sa may mga makabuluhang bagay!!!😂😂\n",
      "\n",
      "#angelinajolie\n",
      "#kdrama https://t.co/kdulmhhEYF\n",
      "****************************************************************************************************\n",
      "\n",
      "https://twitter.com/konlinemarket/status/1394996274500456455\n",
      "2021-05-19 12:40:04+00:00\n",
      "#you can determine how #AngelinaJolie #LionelMessi https://t.co/oSZFtaKstY https://t.co/rFPMct0y0D\n",
      "****************************************************************************************************\n",
      "\n",
      "https://twitter.com/sunfmlk/status/1394993745716662275\n",
      "2021-05-19 12:30:01+00:00\n",
      "OUT NOW! 🎬\n",
      "\n",
      "'Those Who Wish Me Dead' tells the thrilling story of a survival expert (Angelina Jolie) who is tasked with protecting a teenage witness lost in the Montana wilderness🙈\n",
      "\n",
      "#sunfm #radio #entertainment #movie #thosewhowishmedead #angelinajolie #aidengillen #jonbernthal https://t.co/0rtCke3679\n",
      "****************************************************************************************************\n",
      "\n",
      "https://twitter.com/Cheops1975/status/1394992158910734338\n",
      "2021-05-19 12:23:43+00:00\n",
      "Wth....#MARVEL #Eternals\n",
      "#missingthena #angelinaJolie\n",
      "\n",
      "\"Eternals: Marvel Calendar Leaves Out Angelina Jolie on Front Cover - The Direct\" https://t.co/VkBorlkdoD\n",
      "****************************************************************************************************\n",
      "\n",
      "https://twitter.com/moviestruckers/status/1394991965587087364\n",
      "2021-05-19 12:22:56+00:00\n",
      "#QuelliCheMiVoglionoMorto con #AngelinaJolie dal 3 giugno in esclusiva digitale https://t.co/Tuu4yzC7f4\n",
      "****************************************************************************************************\n",
      "\n",
      "https://twitter.com/SundyBlue/status/1394990626643472394\n",
      "2021-05-19 12:17:37+00:00\n",
      "My Gemini Kingdom♊️💫✨\n",
      "#BirceAkalay‌ \n",
      "#CillianMurphy \n",
      "#AngelinaJolie \n",
      "#KeremBürsin https://t.co/HE6Q2cnSPS\n",
      "****************************************************************************************************\n",
      "\n",
      "https://twitter.com/akopinoybriton/status/1394987790434193410\n",
      "2021-05-19 12:06:21+00:00\n",
      "@vuecinemas #AngelinaJolie #VueCinema #ThoseWhoWishMeDead https://t.co/6XABb6vQFr\n",
      "****************************************************************************************************\n",
      "\n",
      "https://twitter.com/AnderssonTessi/status/1394987749346795523\n",
      "2021-05-19 12:06:11+00:00\n",
      "#AngelinaJolie #actress #actor #acting #actorslife #filmdirector #ThoseWhoWishMeDead #Maleficent #Salt https://t.co/Y6OEzkYB6R\n",
      "****************************************************************************************************\n",
      "\n",
      "https://twitter.com/ViendoMovies/status/1394986559871594496\n",
      "2021-05-19 12:01:28+00:00\n",
      "Angelina Jolie ya no mueve multitudes: Fracasó \"Aquellos que desean mi muerte\" https://t.co/n5tKCXaocG\n",
      ".\n",
      ".\n",
      ".\n",
      ".\n",
      "#noticia #cine #viendomovies #canaldepeliculas #canaldecine #peliculasenespañol #cineenespanol #angelinajolie https://t.co/QN1zSBNizM\n",
      "****************************************************************************************************\n",
      "\n",
      "https://twitter.com/OKMagazine/status/1394986337472811010\n",
      "2021-05-19 12:00:35+00:00\n",
      "Since #AngelinaJolie filed for divorce from #BradPitt in 2016, the former couple has been at war over custody of their children.🤬😤   https://t.co/wG2EYxQTJ8\n",
      "****************************************************************************************************\n",
      "\n",
      "https://twitter.com/Cinemamoviethea/status/1394983938511282177\n",
      "2021-05-19 11:51:03+00:00\n",
      "Angelina Jolie Too Old For Action Roles? | The View\n",
      "\n",
      "https://t.co/s8tt4hc1g3\n",
      "\n",
      "#AngelinaJolie  #ActionRoles #TheView https://t.co/FtHZAFh0Zx\n",
      "****************************************************************************************************\n",
      "\n",
      "https://twitter.com/konlinemarket/status/1394983688581046272\n",
      "2021-05-19 11:50:03+00:00\n",
      "Gender Reveal Party #TomCruise Girl  Boxes BabyShower Girl 1stBirthday Blue, pink Balloons #elonmusk #AngelinaJolie #JohnnyDepp https://t.co/g8ToVl2okJ https://t.co/w2uZY2bCDh\n",
      "****************************************************************************************************\n",
      "\n",
      "https://twitter.com/konlinemarket/status/1394978744763359242\n",
      "2021-05-19 11:30:24+00:00\n",
      "Gold Gender Reveal  Decorations #Birthday #Party 1stBirthday # #EwanMcGregor #AngelinaJolie https://t.co/0YBKuaXWhJ https://t.co/VHu6Cm4Bp4\n",
      "****************************************************************************************************\n",
      "\n",
      "https://twitter.com/TheInsiderAR/status/1394974751551021059\n",
      "2021-05-19 11:14:32+00:00\n",
      "أنجلينا جولي الليلة في انسايدر بالعربي 🤩 ! انتظرونا على شاشة #تلفزيون_دبي\n",
      "#TheInsiderAR\n",
      "#AngelinaJolie\n",
      "https://t.co/moPsQ8iRF8 https://t.co/YBIHAVnbh2\n",
      "****************************************************************************************************\n",
      "\n",
      "https://twitter.com/cinemaxacacia/status/1394970085501063172\n",
      "2021-05-19 10:56:00+00:00\n",
      "They have to run. They have to hide. They have to fight. #AngelinaJolie and #FinnLittle star in #ThoseWhoWishMeDeadMovie now showing @cinemaxacacia \n",
      "\n",
      "11.30am/ 2pm/ 4.30pm &amp; 7pm \n",
      "\n",
      "#CCUganda #Wearamask \n",
      "@CapitalFMUganda @ntvuganda @AbsaUganda @KCCAFC @PepsiUganda @DailyMonitor https://t.co/FBihxCx774\n",
      "****************************************************************************************************\n",
      "\n",
      "https://twitter.com/bollywood_life/status/1394968331824898052\n",
      "2021-05-19 10:49:02+00:00\n",
      "Deepika Padukone, Ranbir Kapoor, Katrina Kaif more Bollywood celebs are crushing over THESE Hollywood celebs – view pics   \n",
      " #AngelinaJolie #BradPitt #DeepikaPadukone #Instagram #JessicaBiel \n",
      " https://t.co/OGvyMLdWXM\n",
      "****************************************************************************************************\n",
      "\n",
      "https://twitter.com/judyju18/status/1394963136072069128\n",
      "2021-05-19 10:28:23+00:00\n",
      "Australian actor #FinnLittle Number One Box office Hit \n",
      "#ThoseWhoWishMeDeadMovie \n",
      "⭐⭐⭐⭐⭐\n",
      "#AngelinaJolie #FinnLittle\n",
      "#AidanGillian #NicholasHoult https://t.co/lYiQY4kVhX\n",
      "****************************************************************************************************\n",
      "\n",
      "https://twitter.com/movieluvahs/status/1394962951711436801\n",
      "2021-05-19 10:27:39+00:00\n",
      "🧂🇷🇺#movies #movie #salt #AngelinaJolie #moviepoetry #moviepoem #MovieReview #poetry #poetrylovers #POEMS 🇷🇺🧂 https://t.co/OdTxBqFlAv\n",
      "****************************************************************************************************\n",
      "\n",
      "https://twitter.com/SpYaswanth/status/1394958260394938371\n",
      "2021-05-19 10:09:01+00:00\n",
      "#Salt intended to be action thriller turns out to be an spy thriller. One of the best of #AngelinaJolie . The twist was not expected as it was at the intense situation.\n",
      "A good spy action thriller to watch.Good screenplay and bgm to the intense scenes.\n",
      "Rating-2.75/5 https://t.co/RQxum5Std7\n",
      "****************************************************************************************************\n",
      "\n",
      "https://twitter.com/horroresia/status/1394956947917611010\n",
      "2021-05-19 10:03:48+00:00\n",
      "Angelina Jolie sekarang kejar-kejaran bareng bocil dihutan yang kebakaran! 👀\n",
      "\n",
      "Wahh kenapa gitu ya? Tonton filmnya sekarang tayang di bioskop! 🔥\n",
      ".\n",
      "#HorrorEID_TWWMD\n",
      "___________\n",
      "#ThoseWhoWishMeDead #ThoseWhoWishMeDeadMovie #Thriller #Action #AngelinaJolie https://t.co/oaW6JQaWAN\n",
      "****************************************************************************************************\n",
      "\n",
      "https://twitter.com/judyju18/status/1394955877690531841\n",
      "2021-05-19 09:59:32+00:00\n",
      "Rapid Fire Review: Angelina Jolie Resurges in the Taut Disaster Action Thriller\n",
      "#ThoseWhoWishMeDead⭐⭐⭐⭐⭐\n",
      "#AngelinaJolie #FinnLittle #AidenGillen #NicholasHoult\n",
      "https://t.co/KY9y7QgWoJ via @JMJActionFlix\n",
      "****************************************************************************************************\n",
      "\n",
      "https://twitter.com/BluePicCinemas/status/1394955876805586944\n",
      "2021-05-19 09:59:32+00:00\n",
      "See #AngelinaJolie @ThoseWhoWish #ThoseWhoWishMeDead for as low as N500 today at \n",
      "@BluePicCinemas located at City Mall beside TBS Onikan, Lagos. For more info reach us on phone 07087448154 or just slide Into DM\n",
      "Don't sleep on this awoof deal https://t.co/21987W8kDc\n",
      "****************************************************************************************************\n",
      "\n"
     ]
    }
   ],
   "source": [
    "import snscrape.modules.twitter as sntwitter\n",
    "\n",
    "datoslib = []\n",
    "maxTweets = 100  \n",
    "for i,tweet in enumerate(sntwitter.TwitterSearchScraper('#AngelinaJolie').get_items()) :\n",
    "        if i > maxTweets :\n",
    "            break\n",
    "        temporal = []\n",
    "        temporal.append(tweet)\n",
    "        temporal.append(tweet.date)\n",
    "        temporal.append(tweet.content)\n",
    "        datoslib.append(temporal)\n",
    "        print(tweet)\n",
    "        print(tweet.date)\n",
    "        print(tweet.content)\n",
    "        print(\"*\"*100)\n",
    "        print()\n",
    "   \n",
    "\n",
    "\n",
    "datos = pd.DataFrame(datoslib)\n",
    "datos.columns = ['tweet', 'date', 'contenido']\n"
   ]
  },
  {
   "cell_type": "code",
   "execution_count": 138,
   "id": "neither-combination",
   "metadata": {},
   "outputs": [
    {
     "data": {
      "text/html": [
       "<div>\n",
       "<style scoped>\n",
       "    .dataframe tbody tr th:only-of-type {\n",
       "        vertical-align: middle;\n",
       "    }\n",
       "\n",
       "    .dataframe tbody tr th {\n",
       "        vertical-align: top;\n",
       "    }\n",
       "\n",
       "    .dataframe thead th {\n",
       "        text-align: right;\n",
       "    }\n",
       "</style>\n",
       "<table border=\"1\" class=\"dataframe\">\n",
       "  <thead>\n",
       "    <tr style=\"text-align: right;\">\n",
       "      <th></th>\n",
       "      <th>tweet</th>\n",
       "      <th>date</th>\n",
       "      <th>contenido</th>\n",
       "    </tr>\n",
       "  </thead>\n",
       "  <tbody>\n",
       "    <tr>\n",
       "      <th>0</th>\n",
       "      <td>(https://twitter.com/Rodaje35/status/139516753...</td>\n",
       "      <td>2021-05-20 00:00:35+00:00</td>\n",
       "      <td>Recuerda que ¡Ya está en cines  #ThoseWhoWishM...</td>\n",
       "    </tr>\n",
       "    <tr>\n",
       "      <th>1</th>\n",
       "      <td>(https://twitter.com/Toastiewiththe/status/139...</td>\n",
       "      <td>2021-05-19 23:40:33+00:00</td>\n",
       "      <td>#AngelinaJolie Anji Daly\\n#WomanCrushWednesday...</td>\n",
       "    </tr>\n",
       "    <tr>\n",
       "      <th>2</th>\n",
       "      <td>(https://twitter.com/Toastiewiththe/status/139...</td>\n",
       "      <td>2021-05-19 23:36:38+00:00</td>\n",
       "      <td>#AngelinaJolie This little one will be 15 in 8...</td>\n",
       "    </tr>\n",
       "    <tr>\n",
       "      <th>3</th>\n",
       "      <td>(https://twitter.com/MrLK07/status/13951588515...</td>\n",
       "      <td>2021-05-19 23:26:05+00:00</td>\n",
       "      <td>I watched #ThoseWhoWishMeDead and \\nI'm sorry,...</td>\n",
       "    </tr>\n",
       "    <tr>\n",
       "      <th>4</th>\n",
       "      <td>(https://twitter.com/Toastiewiththe/status/139...</td>\n",
       "      <td>2021-05-19 23:25:17+00:00</td>\n",
       "      <td>#AngelinaJolie IG joliecharacters\\nDo you know...</td>\n",
       "    </tr>\n",
       "  </tbody>\n",
       "</table>\n",
       "</div>"
      ],
      "text/plain": [
       "                                               tweet  \\\n",
       "0  (https://twitter.com/Rodaje35/status/139516753...   \n",
       "1  (https://twitter.com/Toastiewiththe/status/139...   \n",
       "2  (https://twitter.com/Toastiewiththe/status/139...   \n",
       "3  (https://twitter.com/MrLK07/status/13951588515...   \n",
       "4  (https://twitter.com/Toastiewiththe/status/139...   \n",
       "\n",
       "                       date                                          contenido  \n",
       "0 2021-05-20 00:00:35+00:00  Recuerda que ¡Ya está en cines  #ThoseWhoWishM...  \n",
       "1 2021-05-19 23:40:33+00:00  #AngelinaJolie Anji Daly\\n#WomanCrushWednesday...  \n",
       "2 2021-05-19 23:36:38+00:00  #AngelinaJolie This little one will be 15 in 8...  \n",
       "3 2021-05-19 23:26:05+00:00  I watched #ThoseWhoWishMeDead and \\nI'm sorry,...  \n",
       "4 2021-05-19 23:25:17+00:00  #AngelinaJolie IG joliecharacters\\nDo you know...  "
      ]
     },
     "execution_count": 138,
     "metadata": {},
     "output_type": "execute_result"
    }
   ],
   "source": [
    "datos = datos[['tweet', 'date', 'contenido']]\n",
    "datos.head()"
   ]
  },
  {
   "cell_type": "code",
   "execution_count": 139,
   "id": "driven-fence",
   "metadata": {},
   "outputs": [],
   "source": [
    "#limpiar data\n",
    "import re\n",
    "\n",
    "pattern1 = '?P<pic>pic.twitter.com/[^\\s]+'\n",
    "pattern2 = '?P<url>https?://[^\\s]+'\n",
    "\n",
    "def text_clean(row):\n",
    "    text = row['contenido']\n",
    "    \n",
    "    links = [tuple(j for j in i if j)[-1] for i in re.findall(f\"({pattern1})|({pattern2})\",text)]\n",
    "    for link in links:\n",
    "        text = text.replace(link,\"\")\n",
    "             \n",
    "    hashtags = [interaction for interaction in text.split() if interaction.startswith(\"#\")]\n",
    "    for hashtag in hashtags:\n",
    "        text = text.replace(hashtag,\"\")\n",
    "        \n",
    "    mentions = [interaction for interaction in text.split() if interaction.startswith(\"@\")]\n",
    "    for mention in mentions:\n",
    "        text = text.replace(mention,\"\")\n",
    "        \n",
    "    return text, links, hashtags, mentions"
   ]
  },
  {
   "cell_type": "code",
   "execution_count": 140,
   "id": "digital-pollution",
   "metadata": {},
   "outputs": [
    {
     "data": {
      "text/html": [
       "<div>\n",
       "<style scoped>\n",
       "    .dataframe tbody tr th:only-of-type {\n",
       "        vertical-align: middle;\n",
       "    }\n",
       "\n",
       "    .dataframe tbody tr th {\n",
       "        vertical-align: top;\n",
       "    }\n",
       "\n",
       "    .dataframe thead th {\n",
       "        text-align: right;\n",
       "    }\n",
       "</style>\n",
       "<table border=\"1\" class=\"dataframe\">\n",
       "  <thead>\n",
       "    <tr style=\"text-align: right;\">\n",
       "      <th></th>\n",
       "      <th>tweet</th>\n",
       "      <th>date</th>\n",
       "      <th>contenido</th>\n",
       "      <th>clean</th>\n",
       "      <th>links</th>\n",
       "      <th>hashtags</th>\n",
       "      <th>mentions</th>\n",
       "    </tr>\n",
       "  </thead>\n",
       "  <tbody>\n",
       "    <tr>\n",
       "      <th>19</th>\n",
       "      <td>(https://twitter.com/WilliamBanksy/status/1395...</td>\n",
       "      <td>2021-05-19 22:03:28+00:00</td>\n",
       "      <td>@chrissyteigen is the weaker half of a #PowerC...</td>\n",
       "      <td>is the weaker half of a</td>\n",
       "      <td>[]</td>\n",
       "      <td>[#PowerCouple, #jayz, #bradpitt, #AngelinaJolie]</td>\n",
       "      <td>[@chrissyteigen, @Beyonce, @kanyewest, @KimKar...</td>\n",
       "    </tr>\n",
       "  </tbody>\n",
       "</table>\n",
       "</div>"
      ],
      "text/plain": [
       "                                                tweet  \\\n",
       "19  (https://twitter.com/WilliamBanksy/status/1395...   \n",
       "\n",
       "                        date  \\\n",
       "19 2021-05-19 22:03:28+00:00   \n",
       "\n",
       "                                            contenido  \\\n",
       "19  @chrissyteigen is the weaker half of a #PowerC...   \n",
       "\n",
       "                              clean links  \\\n",
       "19   is the weaker half of a           []   \n",
       "\n",
       "                                            hashtags  \\\n",
       "19  [#PowerCouple, #jayz, #bradpitt, #AngelinaJolie]   \n",
       "\n",
       "                                             mentions  \n",
       "19  [@chrissyteigen, @Beyonce, @kanyewest, @KimKar...  "
      ]
     },
     "execution_count": 140,
     "metadata": {},
     "output_type": "execute_result"
    }
   ],
   "source": [
    "datos[['clean', 'links', 'hashtags', 'mentions']] = datos.apply(text_clean, axis=1, result_type='expand')\n",
    "\n",
    "datos.sample()"
   ]
  },
  {
   "cell_type": "code",
   "execution_count": 141,
   "id": "finished-future",
   "metadata": {},
   "outputs": [],
   "source": [
    "\n",
    "def get_emojis(text):\n",
    "    emoji_list = []\n",
    "    data = regex.findall(r'\\X', text)\n",
    "    for word in data:\n",
    "        if any(char in emoji.UNICODE_EMOJI['en'] for char in word):\n",
    "            emoji_list.append(word)\n",
    "\n",
    "    return emoji_list\n",
    "\n",
    "datos['emojis'] = datos['clean'].apply(lambda text: get_emojis(text))"
   ]
  },
  {
   "cell_type": "code",
   "execution_count": 142,
   "id": "devoted-knife",
   "metadata": {},
   "outputs": [
    {
     "data": {
      "text/html": [
       "<div>\n",
       "<style scoped>\n",
       "    .dataframe tbody tr th:only-of-type {\n",
       "        vertical-align: middle;\n",
       "    }\n",
       "\n",
       "    .dataframe tbody tr th {\n",
       "        vertical-align: top;\n",
       "    }\n",
       "\n",
       "    .dataframe thead th {\n",
       "        text-align: right;\n",
       "    }\n",
       "</style>\n",
       "<table border=\"1\" class=\"dataframe\">\n",
       "  <thead>\n",
       "    <tr style=\"text-align: right;\">\n",
       "      <th></th>\n",
       "      <th>tweets</th>\n",
       "      <th>date</th>\n",
       "      <th>city</th>\n",
       "      <th>user_location</th>\n",
       "      <th>id</th>\n",
       "      <th>link</th>\n",
       "    </tr>\n",
       "  </thead>\n",
       "  <tbody>\n",
       "    <tr>\n",
       "      <th>0</th>\n",
       "      <td>#ATENCION | Urgente\\n@ArchivaColombia @WOLA_or...</td>\n",
       "      <td>2021-05-19 23:51:08</td>\n",
       "      <td>Bogotá</td>\n",
       "      <td>Holanda</td>\n",
       "      <td>1395165156779479040</td>\n",
       "      <td>https://twitter.com/i/web/stuatus/139516515677...</td>\n",
       "    </tr>\n",
       "    <tr>\n",
       "      <th>1</th>\n",
       "      <td>me emborraché con 6 club colombia</td>\n",
       "      <td>2021-05-19 23:51:07</td>\n",
       "      <td>Bogotá</td>\n",
       "      <td>Bogotá,D.C.,Colombia</td>\n",
       "      <td>1395165149653356546</td>\n",
       "      <td>https://twitter.com/i/web/stuatus/139516514965...</td>\n",
       "    </tr>\n",
       "    <tr>\n",
       "      <th>2</th>\n",
       "      <td>Carracas a ponerse en el pecho la camisa de mi...</td>\n",
       "      <td>2021-05-19 23:51:06</td>\n",
       "      <td>Bogotá</td>\n",
       "      <td>Bogota</td>\n",
       "      <td>1395165147916914692</td>\n",
       "      <td>https://twitter.com/i/web/stuatus/139516514791...</td>\n",
       "    </tr>\n",
       "    <tr>\n",
       "      <th>3</th>\n",
       "      <td>A pesar de todo, que emoción ser hija de esta ...</td>\n",
       "      <td>2021-05-19 23:51:06</td>\n",
       "      <td>Bogotá</td>\n",
       "      <td>Colombia</td>\n",
       "      <td>1395165144989241345</td>\n",
       "      <td>https://twitter.com/i/web/stuatus/139516514498...</td>\n",
       "    </tr>\n",
       "    <tr>\n",
       "      <th>4</th>\n",
       "      <td>Para los interesados, acá esta en PDF el infor...</td>\n",
       "      <td>2021-05-19 23:51:03</td>\n",
       "      <td>Bogotá</td>\n",
       "      <td>@jhpelaez ™</td>\n",
       "      <td>1395165135312916481</td>\n",
       "      <td>https://twitter.com/i/web/stuatus/139516513531...</td>\n",
       "    </tr>\n",
       "  </tbody>\n",
       "</table>\n",
       "</div>"
      ],
      "text/plain": [
       "                                              tweets                date  \\\n",
       "0  #ATENCION | Urgente\\n@ArchivaColombia @WOLA_or... 2021-05-19 23:51:08   \n",
       "1                  me emborraché con 6 club colombia 2021-05-19 23:51:07   \n",
       "2  Carracas a ponerse en el pecho la camisa de mi... 2021-05-19 23:51:06   \n",
       "3  A pesar de todo, que emoción ser hija de esta ... 2021-05-19 23:51:06   \n",
       "4  Para los interesados, acá esta en PDF el infor... 2021-05-19 23:51:03   \n",
       "\n",
       "     city         user_location                   id  \\\n",
       "0  Bogotá               Holanda  1395165156779479040   \n",
       "1  Bogotá  Bogotá,D.C.,Colombia  1395165149653356546   \n",
       "2  Bogotá               Bogota   1395165147916914692   \n",
       "3  Bogotá              Colombia  1395165144989241345   \n",
       "4  Bogotá           @jhpelaez ™  1395165135312916481   \n",
       "\n",
       "                                                link  \n",
       "0  https://twitter.com/i/web/stuatus/139516515677...  \n",
       "1  https://twitter.com/i/web/stuatus/139516514965...  \n",
       "2  https://twitter.com/i/web/stuatus/139516514791...  \n",
       "3  https://twitter.com/i/web/stuatus/139516514498...  \n",
       "4  https://twitter.com/i/web/stuatus/139516513531...  "
      ]
     },
     "execution_count": 142,
     "metadata": {},
     "output_type": "execute_result"
    }
   ],
   "source": [
    "data.head()"
   ]
  },
  {
   "cell_type": "code",
   "execution_count": null,
   "id": "alpha-soccer",
   "metadata": {},
   "outputs": [],
   "source": []
  },
  {
   "cell_type": "code",
   "execution_count": 144,
   "id": "worthy-sharp",
   "metadata": {},
   "outputs": [
    {
     "data": {
      "text/html": [
       "<div>\n",
       "<style scoped>\n",
       "    .dataframe tbody tr th:only-of-type {\n",
       "        vertical-align: middle;\n",
       "    }\n",
       "\n",
       "    .dataframe tbody tr th {\n",
       "        vertical-align: top;\n",
       "    }\n",
       "\n",
       "    .dataframe thead th {\n",
       "        text-align: right;\n",
       "    }\n",
       "</style>\n",
       "<table border=\"1\" class=\"dataframe\">\n",
       "  <thead>\n",
       "    <tr style=\"text-align: right;\">\n",
       "      <th></th>\n",
       "      <th>fecha</th>\n",
       "      <th>cnt</th>\n",
       "    </tr>\n",
       "  </thead>\n",
       "  <tbody>\n",
       "    <tr>\n",
       "      <th>0</th>\n",
       "      <td>2021-05-19</td>\n",
       "      <td>100</td>\n",
       "    </tr>\n",
       "    <tr>\n",
       "      <th>1</th>\n",
       "      <td>2021-05-20</td>\n",
       "      <td>1</td>\n",
       "    </tr>\n",
       "  </tbody>\n",
       "</table>\n",
       "</div>"
      ],
      "text/plain": [
       "        fecha  cnt\n",
       "0  2021-05-19  100\n",
       "1  2021-05-20    1"
      ]
     },
     "execution_count": 144,
     "metadata": {},
     "output_type": "execute_result"
    }
   ],
   "source": [
    "datos['fecha'] = datos.date.dt.date\n",
    "temp = pd.DataFrame(datos.fecha.value_counts()).reset_index()\n",
    "temp.columns = ['fecha', 'cnt']\n",
    "temp = temp.sort_values('fecha')\n",
    "temp"
   ]
  },
  {
   "cell_type": "code",
   "execution_count": 148,
   "id": "automotive-reality",
   "metadata": {},
   "outputs": [
    {
     "data": {
      "application/vnd.plotly.v1+json": {
       "config": {
        "linkText": "Export to plot.ly",
        "plotlyServerURL": "https://plot.ly",
        "showLink": false
       },
       "data": [
        {
         "hoverinfo": "text",
         "line": {
          "color": "#1DA1F2"
         },
         "mode": "lines+markers",
         "name": "Días",
         "text": [
          "Fecha: 2021-05-19<br>Tuits: 100",
          "Fecha: 2021-05-20<br>Tuits: 1"
         ],
         "type": "scatter",
         "x": [
          "2021-05-19",
          "2021-05-20"
         ],
         "y": [
          100,
          1
         ]
        }
       ],
       "layout": {
        "template": {
         "data": {
          "bar": [
           {
            "error_x": {
             "color": "#2a3f5f"
            },
            "error_y": {
             "color": "#2a3f5f"
            },
            "marker": {
             "line": {
              "color": "#E5ECF6",
              "width": 0.5
             }
            },
            "type": "bar"
           }
          ],
          "barpolar": [
           {
            "marker": {
             "line": {
              "color": "#E5ECF6",
              "width": 0.5
             }
            },
            "type": "barpolar"
           }
          ],
          "carpet": [
           {
            "aaxis": {
             "endlinecolor": "#2a3f5f",
             "gridcolor": "white",
             "linecolor": "white",
             "minorgridcolor": "white",
             "startlinecolor": "#2a3f5f"
            },
            "baxis": {
             "endlinecolor": "#2a3f5f",
             "gridcolor": "white",
             "linecolor": "white",
             "minorgridcolor": "white",
             "startlinecolor": "#2a3f5f"
            },
            "type": "carpet"
           }
          ],
          "choropleth": [
           {
            "colorbar": {
             "outlinewidth": 0,
             "ticks": ""
            },
            "type": "choropleth"
           }
          ],
          "contour": [
           {
            "colorbar": {
             "outlinewidth": 0,
             "ticks": ""
            },
            "colorscale": [
             [
              0,
              "#0d0887"
             ],
             [
              0.1111111111111111,
              "#46039f"
             ],
             [
              0.2222222222222222,
              "#7201a8"
             ],
             [
              0.3333333333333333,
              "#9c179e"
             ],
             [
              0.4444444444444444,
              "#bd3786"
             ],
             [
              0.5555555555555556,
              "#d8576b"
             ],
             [
              0.6666666666666666,
              "#ed7953"
             ],
             [
              0.7777777777777778,
              "#fb9f3a"
             ],
             [
              0.8888888888888888,
              "#fdca26"
             ],
             [
              1,
              "#f0f921"
             ]
            ],
            "type": "contour"
           }
          ],
          "contourcarpet": [
           {
            "colorbar": {
             "outlinewidth": 0,
             "ticks": ""
            },
            "type": "contourcarpet"
           }
          ],
          "heatmap": [
           {
            "colorbar": {
             "outlinewidth": 0,
             "ticks": ""
            },
            "colorscale": [
             [
              0,
              "#0d0887"
             ],
             [
              0.1111111111111111,
              "#46039f"
             ],
             [
              0.2222222222222222,
              "#7201a8"
             ],
             [
              0.3333333333333333,
              "#9c179e"
             ],
             [
              0.4444444444444444,
              "#bd3786"
             ],
             [
              0.5555555555555556,
              "#d8576b"
             ],
             [
              0.6666666666666666,
              "#ed7953"
             ],
             [
              0.7777777777777778,
              "#fb9f3a"
             ],
             [
              0.8888888888888888,
              "#fdca26"
             ],
             [
              1,
              "#f0f921"
             ]
            ],
            "type": "heatmap"
           }
          ],
          "heatmapgl": [
           {
            "colorbar": {
             "outlinewidth": 0,
             "ticks": ""
            },
            "colorscale": [
             [
              0,
              "#0d0887"
             ],
             [
              0.1111111111111111,
              "#46039f"
             ],
             [
              0.2222222222222222,
              "#7201a8"
             ],
             [
              0.3333333333333333,
              "#9c179e"
             ],
             [
              0.4444444444444444,
              "#bd3786"
             ],
             [
              0.5555555555555556,
              "#d8576b"
             ],
             [
              0.6666666666666666,
              "#ed7953"
             ],
             [
              0.7777777777777778,
              "#fb9f3a"
             ],
             [
              0.8888888888888888,
              "#fdca26"
             ],
             [
              1,
              "#f0f921"
             ]
            ],
            "type": "heatmapgl"
           }
          ],
          "histogram": [
           {
            "marker": {
             "colorbar": {
              "outlinewidth": 0,
              "ticks": ""
             }
            },
            "type": "histogram"
           }
          ],
          "histogram2d": [
           {
            "colorbar": {
             "outlinewidth": 0,
             "ticks": ""
            },
            "colorscale": [
             [
              0,
              "#0d0887"
             ],
             [
              0.1111111111111111,
              "#46039f"
             ],
             [
              0.2222222222222222,
              "#7201a8"
             ],
             [
              0.3333333333333333,
              "#9c179e"
             ],
             [
              0.4444444444444444,
              "#bd3786"
             ],
             [
              0.5555555555555556,
              "#d8576b"
             ],
             [
              0.6666666666666666,
              "#ed7953"
             ],
             [
              0.7777777777777778,
              "#fb9f3a"
             ],
             [
              0.8888888888888888,
              "#fdca26"
             ],
             [
              1,
              "#f0f921"
             ]
            ],
            "type": "histogram2d"
           }
          ],
          "histogram2dcontour": [
           {
            "colorbar": {
             "outlinewidth": 0,
             "ticks": ""
            },
            "colorscale": [
             [
              0,
              "#0d0887"
             ],
             [
              0.1111111111111111,
              "#46039f"
             ],
             [
              0.2222222222222222,
              "#7201a8"
             ],
             [
              0.3333333333333333,
              "#9c179e"
             ],
             [
              0.4444444444444444,
              "#bd3786"
             ],
             [
              0.5555555555555556,
              "#d8576b"
             ],
             [
              0.6666666666666666,
              "#ed7953"
             ],
             [
              0.7777777777777778,
              "#fb9f3a"
             ],
             [
              0.8888888888888888,
              "#fdca26"
             ],
             [
              1,
              "#f0f921"
             ]
            ],
            "type": "histogram2dcontour"
           }
          ],
          "mesh3d": [
           {
            "colorbar": {
             "outlinewidth": 0,
             "ticks": ""
            },
            "type": "mesh3d"
           }
          ],
          "parcoords": [
           {
            "line": {
             "colorbar": {
              "outlinewidth": 0,
              "ticks": ""
             }
            },
            "type": "parcoords"
           }
          ],
          "pie": [
           {
            "automargin": true,
            "type": "pie"
           }
          ],
          "scatter": [
           {
            "marker": {
             "colorbar": {
              "outlinewidth": 0,
              "ticks": ""
             }
            },
            "type": "scatter"
           }
          ],
          "scatter3d": [
           {
            "line": {
             "colorbar": {
              "outlinewidth": 0,
              "ticks": ""
             }
            },
            "marker": {
             "colorbar": {
              "outlinewidth": 0,
              "ticks": ""
             }
            },
            "type": "scatter3d"
           }
          ],
          "scattercarpet": [
           {
            "marker": {
             "colorbar": {
              "outlinewidth": 0,
              "ticks": ""
             }
            },
            "type": "scattercarpet"
           }
          ],
          "scattergeo": [
           {
            "marker": {
             "colorbar": {
              "outlinewidth": 0,
              "ticks": ""
             }
            },
            "type": "scattergeo"
           }
          ],
          "scattergl": [
           {
            "marker": {
             "colorbar": {
              "outlinewidth": 0,
              "ticks": ""
             }
            },
            "type": "scattergl"
           }
          ],
          "scattermapbox": [
           {
            "marker": {
             "colorbar": {
              "outlinewidth": 0,
              "ticks": ""
             }
            },
            "type": "scattermapbox"
           }
          ],
          "scatterpolar": [
           {
            "marker": {
             "colorbar": {
              "outlinewidth": 0,
              "ticks": ""
             }
            },
            "type": "scatterpolar"
           }
          ],
          "scatterpolargl": [
           {
            "marker": {
             "colorbar": {
              "outlinewidth": 0,
              "ticks": ""
             }
            },
            "type": "scatterpolargl"
           }
          ],
          "scatterternary": [
           {
            "marker": {
             "colorbar": {
              "outlinewidth": 0,
              "ticks": ""
             }
            },
            "type": "scatterternary"
           }
          ],
          "surface": [
           {
            "colorbar": {
             "outlinewidth": 0,
             "ticks": ""
            },
            "colorscale": [
             [
              0,
              "#0d0887"
             ],
             [
              0.1111111111111111,
              "#46039f"
             ],
             [
              0.2222222222222222,
              "#7201a8"
             ],
             [
              0.3333333333333333,
              "#9c179e"
             ],
             [
              0.4444444444444444,
              "#bd3786"
             ],
             [
              0.5555555555555556,
              "#d8576b"
             ],
             [
              0.6666666666666666,
              "#ed7953"
             ],
             [
              0.7777777777777778,
              "#fb9f3a"
             ],
             [
              0.8888888888888888,
              "#fdca26"
             ],
             [
              1,
              "#f0f921"
             ]
            ],
            "type": "surface"
           }
          ],
          "table": [
           {
            "cells": {
             "fill": {
              "color": "#EBF0F8"
             },
             "line": {
              "color": "white"
             }
            },
            "header": {
             "fill": {
              "color": "#C8D4E3"
             },
             "line": {
              "color": "white"
             }
            },
            "type": "table"
           }
          ]
         },
         "layout": {
          "annotationdefaults": {
           "arrowcolor": "#2a3f5f",
           "arrowhead": 0,
           "arrowwidth": 1
          },
          "autotypenumbers": "strict",
          "coloraxis": {
           "colorbar": {
            "outlinewidth": 0,
            "ticks": ""
           }
          },
          "colorscale": {
           "diverging": [
            [
             0,
             "#8e0152"
            ],
            [
             0.1,
             "#c51b7d"
            ],
            [
             0.2,
             "#de77ae"
            ],
            [
             0.3,
             "#f1b6da"
            ],
            [
             0.4,
             "#fde0ef"
            ],
            [
             0.5,
             "#f7f7f7"
            ],
            [
             0.6,
             "#e6f5d0"
            ],
            [
             0.7,
             "#b8e186"
            ],
            [
             0.8,
             "#7fbc41"
            ],
            [
             0.9,
             "#4d9221"
            ],
            [
             1,
             "#276419"
            ]
           ],
           "sequential": [
            [
             0,
             "#0d0887"
            ],
            [
             0.1111111111111111,
             "#46039f"
            ],
            [
             0.2222222222222222,
             "#7201a8"
            ],
            [
             0.3333333333333333,
             "#9c179e"
            ],
            [
             0.4444444444444444,
             "#bd3786"
            ],
            [
             0.5555555555555556,
             "#d8576b"
            ],
            [
             0.6666666666666666,
             "#ed7953"
            ],
            [
             0.7777777777777778,
             "#fb9f3a"
            ],
            [
             0.8888888888888888,
             "#fdca26"
            ],
            [
             1,
             "#f0f921"
            ]
           ],
           "sequentialminus": [
            [
             0,
             "#0d0887"
            ],
            [
             0.1111111111111111,
             "#46039f"
            ],
            [
             0.2222222222222222,
             "#7201a8"
            ],
            [
             0.3333333333333333,
             "#9c179e"
            ],
            [
             0.4444444444444444,
             "#bd3786"
            ],
            [
             0.5555555555555556,
             "#d8576b"
            ],
            [
             0.6666666666666666,
             "#ed7953"
            ],
            [
             0.7777777777777778,
             "#fb9f3a"
            ],
            [
             0.8888888888888888,
             "#fdca26"
            ],
            [
             1,
             "#f0f921"
            ]
           ]
          },
          "colorway": [
           "#636efa",
           "#EF553B",
           "#00cc96",
           "#ab63fa",
           "#FFA15A",
           "#19d3f3",
           "#FF6692",
           "#B6E880",
           "#FF97FF",
           "#FECB52"
          ],
          "font": {
           "color": "#2a3f5f"
          },
          "geo": {
           "bgcolor": "white",
           "lakecolor": "white",
           "landcolor": "#E5ECF6",
           "showlakes": true,
           "showland": true,
           "subunitcolor": "white"
          },
          "hoverlabel": {
           "align": "left"
          },
          "hovermode": "closest",
          "mapbox": {
           "style": "light"
          },
          "paper_bgcolor": "white",
          "plot_bgcolor": "#E5ECF6",
          "polar": {
           "angularaxis": {
            "gridcolor": "white",
            "linecolor": "white",
            "ticks": ""
           },
           "bgcolor": "#E5ECF6",
           "radialaxis": {
            "gridcolor": "white",
            "linecolor": "white",
            "ticks": ""
           }
          },
          "scene": {
           "xaxis": {
            "backgroundcolor": "#E5ECF6",
            "gridcolor": "white",
            "gridwidth": 2,
            "linecolor": "white",
            "showbackground": true,
            "ticks": "",
            "zerolinecolor": "white"
           },
           "yaxis": {
            "backgroundcolor": "#E5ECF6",
            "gridcolor": "white",
            "gridwidth": 2,
            "linecolor": "white",
            "showbackground": true,
            "ticks": "",
            "zerolinecolor": "white"
           },
           "zaxis": {
            "backgroundcolor": "#E5ECF6",
            "gridcolor": "white",
            "gridwidth": 2,
            "linecolor": "white",
            "showbackground": true,
            "ticks": "",
            "zerolinecolor": "white"
           }
          },
          "shapedefaults": {
           "line": {
            "color": "#2a3f5f"
           }
          },
          "ternary": {
           "aaxis": {
            "gridcolor": "white",
            "linecolor": "white",
            "ticks": ""
           },
           "baxis": {
            "gridcolor": "white",
            "linecolor": "white",
            "ticks": ""
           },
           "bgcolor": "#E5ECF6",
           "caxis": {
            "gridcolor": "white",
            "linecolor": "white",
            "ticks": ""
           }
          },
          "title": {
           "x": 0.05
          },
          "xaxis": {
           "automargin": true,
           "gridcolor": "white",
           "linecolor": "white",
           "ticks": "",
           "title": {
            "standoff": 15
           },
           "zerolinecolor": "white",
           "zerolinewidth": 2
          },
          "yaxis": {
           "automargin": true,
           "gridcolor": "white",
           "linecolor": "white",
           "ticks": "",
           "title": {
            "standoff": 15
           },
           "zerolinecolor": "white",
           "zerolinewidth": 2
          }
         }
        },
        "title": {
         "text": "Número de tuits por día"
        }
       }
      },
      "text/html": [
       "<div>                            <div id=\"40f7c506-b461-4707-af26-c03ef278ad95\" class=\"plotly-graph-div\" style=\"height:525px; width:100%;\"></div>            <script type=\"text/javascript\">                require([\"plotly\"], function(Plotly) {                    window.PLOTLYENV=window.PLOTLYENV || {};                                    if (document.getElementById(\"40f7c506-b461-4707-af26-c03ef278ad95\")) {                    Plotly.newPlot(                        \"40f7c506-b461-4707-af26-c03ef278ad95\",                        [{\"hoverinfo\": \"text\", \"line\": {\"color\": \"#1DA1F2\"}, \"mode\": \"lines+markers\", \"name\": \"D\\u00edas\", \"text\": [\"Fecha: 2021-05-19<br>Tuits: 100\", \"Fecha: 2021-05-20<br>Tuits: 1\"], \"type\": \"scatter\", \"x\": [\"2021-05-19\", \"2021-05-20\"], \"y\": [100, 1]}],                        {\"template\": {\"data\": {\"bar\": [{\"error_x\": {\"color\": \"#2a3f5f\"}, \"error_y\": {\"color\": \"#2a3f5f\"}, \"marker\": {\"line\": {\"color\": \"#E5ECF6\", \"width\": 0.5}}, \"type\": \"bar\"}], \"barpolar\": [{\"marker\": {\"line\": {\"color\": \"#E5ECF6\", \"width\": 0.5}}, \"type\": \"barpolar\"}], \"carpet\": [{\"aaxis\": {\"endlinecolor\": \"#2a3f5f\", \"gridcolor\": \"white\", \"linecolor\": \"white\", \"minorgridcolor\": \"white\", \"startlinecolor\": \"#2a3f5f\"}, \"baxis\": {\"endlinecolor\": \"#2a3f5f\", \"gridcolor\": \"white\", \"linecolor\": \"white\", \"minorgridcolor\": \"white\", \"startlinecolor\": \"#2a3f5f\"}, \"type\": \"carpet\"}], \"choropleth\": [{\"colorbar\": {\"outlinewidth\": 0, \"ticks\": \"\"}, \"type\": \"choropleth\"}], \"contour\": [{\"colorbar\": {\"outlinewidth\": 0, \"ticks\": \"\"}, \"colorscale\": [[0.0, \"#0d0887\"], [0.1111111111111111, \"#46039f\"], [0.2222222222222222, \"#7201a8\"], [0.3333333333333333, \"#9c179e\"], [0.4444444444444444, \"#bd3786\"], [0.5555555555555556, \"#d8576b\"], [0.6666666666666666, \"#ed7953\"], [0.7777777777777778, \"#fb9f3a\"], [0.8888888888888888, \"#fdca26\"], [1.0, \"#f0f921\"]], \"type\": \"contour\"}], \"contourcarpet\": [{\"colorbar\": {\"outlinewidth\": 0, \"ticks\": \"\"}, \"type\": \"contourcarpet\"}], \"heatmap\": [{\"colorbar\": {\"outlinewidth\": 0, \"ticks\": \"\"}, \"colorscale\": [[0.0, \"#0d0887\"], [0.1111111111111111, \"#46039f\"], [0.2222222222222222, \"#7201a8\"], [0.3333333333333333, \"#9c179e\"], [0.4444444444444444, \"#bd3786\"], [0.5555555555555556, \"#d8576b\"], [0.6666666666666666, \"#ed7953\"], [0.7777777777777778, \"#fb9f3a\"], [0.8888888888888888, \"#fdca26\"], [1.0, \"#f0f921\"]], \"type\": \"heatmap\"}], \"heatmapgl\": [{\"colorbar\": {\"outlinewidth\": 0, \"ticks\": \"\"}, \"colorscale\": [[0.0, \"#0d0887\"], [0.1111111111111111, \"#46039f\"], [0.2222222222222222, \"#7201a8\"], [0.3333333333333333, \"#9c179e\"], [0.4444444444444444, \"#bd3786\"], [0.5555555555555556, \"#d8576b\"], [0.6666666666666666, \"#ed7953\"], [0.7777777777777778, \"#fb9f3a\"], [0.8888888888888888, \"#fdca26\"], [1.0, \"#f0f921\"]], \"type\": \"heatmapgl\"}], \"histogram\": [{\"marker\": {\"colorbar\": {\"outlinewidth\": 0, \"ticks\": \"\"}}, \"type\": \"histogram\"}], \"histogram2d\": [{\"colorbar\": {\"outlinewidth\": 0, \"ticks\": \"\"}, \"colorscale\": [[0.0, \"#0d0887\"], [0.1111111111111111, \"#46039f\"], [0.2222222222222222, \"#7201a8\"], [0.3333333333333333, \"#9c179e\"], [0.4444444444444444, \"#bd3786\"], [0.5555555555555556, \"#d8576b\"], [0.6666666666666666, \"#ed7953\"], [0.7777777777777778, \"#fb9f3a\"], [0.8888888888888888, \"#fdca26\"], [1.0, \"#f0f921\"]], \"type\": \"histogram2d\"}], \"histogram2dcontour\": [{\"colorbar\": {\"outlinewidth\": 0, \"ticks\": \"\"}, \"colorscale\": [[0.0, \"#0d0887\"], [0.1111111111111111, \"#46039f\"], [0.2222222222222222, \"#7201a8\"], [0.3333333333333333, \"#9c179e\"], [0.4444444444444444, \"#bd3786\"], [0.5555555555555556, \"#d8576b\"], [0.6666666666666666, \"#ed7953\"], [0.7777777777777778, \"#fb9f3a\"], [0.8888888888888888, \"#fdca26\"], [1.0, \"#f0f921\"]], \"type\": \"histogram2dcontour\"}], \"mesh3d\": [{\"colorbar\": {\"outlinewidth\": 0, \"ticks\": \"\"}, \"type\": \"mesh3d\"}], \"parcoords\": [{\"line\": {\"colorbar\": {\"outlinewidth\": 0, \"ticks\": \"\"}}, \"type\": \"parcoords\"}], \"pie\": [{\"automargin\": true, \"type\": \"pie\"}], \"scatter\": [{\"marker\": {\"colorbar\": {\"outlinewidth\": 0, \"ticks\": \"\"}}, \"type\": \"scatter\"}], \"scatter3d\": [{\"line\": {\"colorbar\": {\"outlinewidth\": 0, \"ticks\": \"\"}}, \"marker\": {\"colorbar\": {\"outlinewidth\": 0, \"ticks\": \"\"}}, \"type\": \"scatter3d\"}], \"scattercarpet\": [{\"marker\": {\"colorbar\": {\"outlinewidth\": 0, \"ticks\": \"\"}}, \"type\": \"scattercarpet\"}], \"scattergeo\": [{\"marker\": {\"colorbar\": {\"outlinewidth\": 0, \"ticks\": \"\"}}, \"type\": \"scattergeo\"}], \"scattergl\": [{\"marker\": {\"colorbar\": {\"outlinewidth\": 0, \"ticks\": \"\"}}, \"type\": \"scattergl\"}], \"scattermapbox\": [{\"marker\": {\"colorbar\": {\"outlinewidth\": 0, \"ticks\": \"\"}}, \"type\": \"scattermapbox\"}], \"scatterpolar\": [{\"marker\": {\"colorbar\": {\"outlinewidth\": 0, \"ticks\": \"\"}}, \"type\": \"scatterpolar\"}], \"scatterpolargl\": [{\"marker\": {\"colorbar\": {\"outlinewidth\": 0, \"ticks\": \"\"}}, \"type\": \"scatterpolargl\"}], \"scatterternary\": [{\"marker\": {\"colorbar\": {\"outlinewidth\": 0, \"ticks\": \"\"}}, \"type\": \"scatterternary\"}], \"surface\": [{\"colorbar\": {\"outlinewidth\": 0, \"ticks\": \"\"}, \"colorscale\": [[0.0, \"#0d0887\"], [0.1111111111111111, \"#46039f\"], [0.2222222222222222, \"#7201a8\"], [0.3333333333333333, \"#9c179e\"], [0.4444444444444444, \"#bd3786\"], [0.5555555555555556, \"#d8576b\"], [0.6666666666666666, \"#ed7953\"], [0.7777777777777778, \"#fb9f3a\"], [0.8888888888888888, \"#fdca26\"], [1.0, \"#f0f921\"]], \"type\": \"surface\"}], \"table\": [{\"cells\": {\"fill\": {\"color\": \"#EBF0F8\"}, \"line\": {\"color\": \"white\"}}, \"header\": {\"fill\": {\"color\": \"#C8D4E3\"}, \"line\": {\"color\": \"white\"}}, \"type\": \"table\"}]}, \"layout\": {\"annotationdefaults\": {\"arrowcolor\": \"#2a3f5f\", \"arrowhead\": 0, \"arrowwidth\": 1}, \"autotypenumbers\": \"strict\", \"coloraxis\": {\"colorbar\": {\"outlinewidth\": 0, \"ticks\": \"\"}}, \"colorscale\": {\"diverging\": [[0, \"#8e0152\"], [0.1, \"#c51b7d\"], [0.2, \"#de77ae\"], [0.3, \"#f1b6da\"], [0.4, \"#fde0ef\"], [0.5, \"#f7f7f7\"], [0.6, \"#e6f5d0\"], [0.7, \"#b8e186\"], [0.8, \"#7fbc41\"], [0.9, \"#4d9221\"], [1, \"#276419\"]], \"sequential\": [[0.0, \"#0d0887\"], [0.1111111111111111, \"#46039f\"], [0.2222222222222222, \"#7201a8\"], [0.3333333333333333, \"#9c179e\"], [0.4444444444444444, \"#bd3786\"], [0.5555555555555556, \"#d8576b\"], [0.6666666666666666, \"#ed7953\"], [0.7777777777777778, \"#fb9f3a\"], [0.8888888888888888, \"#fdca26\"], [1.0, \"#f0f921\"]], \"sequentialminus\": [[0.0, \"#0d0887\"], [0.1111111111111111, \"#46039f\"], [0.2222222222222222, \"#7201a8\"], [0.3333333333333333, \"#9c179e\"], [0.4444444444444444, \"#bd3786\"], [0.5555555555555556, \"#d8576b\"], [0.6666666666666666, \"#ed7953\"], [0.7777777777777778, \"#fb9f3a\"], [0.8888888888888888, \"#fdca26\"], [1.0, \"#f0f921\"]]}, \"colorway\": [\"#636efa\", \"#EF553B\", \"#00cc96\", \"#ab63fa\", \"#FFA15A\", \"#19d3f3\", \"#FF6692\", \"#B6E880\", \"#FF97FF\", \"#FECB52\"], \"font\": {\"color\": \"#2a3f5f\"}, \"geo\": {\"bgcolor\": \"white\", \"lakecolor\": \"white\", \"landcolor\": \"#E5ECF6\", \"showlakes\": true, \"showland\": true, \"subunitcolor\": \"white\"}, \"hoverlabel\": {\"align\": \"left\"}, \"hovermode\": \"closest\", \"mapbox\": {\"style\": \"light\"}, \"paper_bgcolor\": \"white\", \"plot_bgcolor\": \"#E5ECF6\", \"polar\": {\"angularaxis\": {\"gridcolor\": \"white\", \"linecolor\": \"white\", \"ticks\": \"\"}, \"bgcolor\": \"#E5ECF6\", \"radialaxis\": {\"gridcolor\": \"white\", \"linecolor\": \"white\", \"ticks\": \"\"}}, \"scene\": {\"xaxis\": {\"backgroundcolor\": \"#E5ECF6\", \"gridcolor\": \"white\", \"gridwidth\": 2, \"linecolor\": \"white\", \"showbackground\": true, \"ticks\": \"\", \"zerolinecolor\": \"white\"}, \"yaxis\": {\"backgroundcolor\": \"#E5ECF6\", \"gridcolor\": \"white\", \"gridwidth\": 2, \"linecolor\": \"white\", \"showbackground\": true, \"ticks\": \"\", \"zerolinecolor\": \"white\"}, \"zaxis\": {\"backgroundcolor\": \"#E5ECF6\", \"gridcolor\": \"white\", \"gridwidth\": 2, \"linecolor\": \"white\", \"showbackground\": true, \"ticks\": \"\", \"zerolinecolor\": \"white\"}}, \"shapedefaults\": {\"line\": {\"color\": \"#2a3f5f\"}}, \"ternary\": {\"aaxis\": {\"gridcolor\": \"white\", \"linecolor\": \"white\", \"ticks\": \"\"}, \"baxis\": {\"gridcolor\": \"white\", \"linecolor\": \"white\", \"ticks\": \"\"}, \"bgcolor\": \"#E5ECF6\", \"caxis\": {\"gridcolor\": \"white\", \"linecolor\": \"white\", \"ticks\": \"\"}}, \"title\": {\"x\": 0.05}, \"xaxis\": {\"automargin\": true, \"gridcolor\": \"white\", \"linecolor\": \"white\", \"ticks\": \"\", \"title\": {\"standoff\": 15}, \"zerolinecolor\": \"white\", \"zerolinewidth\": 2}, \"yaxis\": {\"automargin\": true, \"gridcolor\": \"white\", \"linecolor\": \"white\", \"ticks\": \"\", \"title\": {\"standoff\": 15}, \"zerolinecolor\": \"white\", \"zerolinewidth\": 2}}}, \"title\": {\"text\": \"N\\u00famero de tuits por d\\u00eda\"}},                        {\"responsive\": true}                    ).then(function(){\n",
       "                            \n",
       "var gd = document.getElementById('40f7c506-b461-4707-af26-c03ef278ad95');\n",
       "var x = new MutationObserver(function (mutations, observer) {{\n",
       "        var display = window.getComputedStyle(gd).display;\n",
       "        if (!display || display === 'none') {{\n",
       "            console.log([gd, 'removed!']);\n",
       "            Plotly.purge(gd);\n",
       "            observer.disconnect();\n",
       "        }}\n",
       "}});\n",
       "\n",
       "// Listen for the removal of the full notebook cells\n",
       "var notebookContainer = gd.closest('#notebook-container');\n",
       "if (notebookContainer) {{\n",
       "    x.observe(notebookContainer, {childList: true});\n",
       "}}\n",
       "\n",
       "// Listen for the clearing of the current output cell\n",
       "var outputEl = gd.closest('.output');\n",
       "if (outputEl) {{\n",
       "    x.observe(outputEl, {childList: true});\n",
       "}}\n",
       "\n",
       "                        })                };                });            </script>        </div>"
      ]
     },
     "metadata": {},
     "output_type": "display_data"
    }
   ],
   "source": [
    "trace = go.Scatter(x=temp.fecha.values,\n",
    "                   y=temp.cnt.values,\n",
    "                   text=[f\"Fecha: {f}<br>Tuits: {c}\" for f,c in zip(temp.fecha.values,temp.cnt.values)],\n",
    "                   hoverinfo='text',\n",
    "                   mode='lines+markers',\n",
    "                   name='Días',\n",
    "                   line={'color':'#1DA1F2'})\n",
    "\n",
    "layout = go.Layout(title='Número de tuits por día')\n",
    "\n",
    "fig = go.Figure(data=[trace], layout=layout)\n",
    "iplot(fig)"
   ]
  },
  {
   "cell_type": "code",
   "execution_count": 145,
   "id": "starting-grass",
   "metadata": {},
   "outputs": [
    {
     "data": {
      "text/html": [
       "<div>\n",
       "<style scoped>\n",
       "    .dataframe tbody tr th:only-of-type {\n",
       "        vertical-align: middle;\n",
       "    }\n",
       "\n",
       "    .dataframe tbody tr th {\n",
       "        vertical-align: top;\n",
       "    }\n",
       "\n",
       "    .dataframe thead th {\n",
       "        text-align: right;\n",
       "    }\n",
       "</style>\n",
       "<table border=\"1\" class=\"dataframe\">\n",
       "  <thead>\n",
       "    <tr style=\"text-align: right;\">\n",
       "      <th></th>\n",
       "      <th>emoji</th>\n",
       "      <th>cnt</th>\n",
       "    </tr>\n",
       "  </thead>\n",
       "  <tbody>\n",
       "    <tr>\n",
       "      <th>4</th>\n",
       "      <td>⭐</td>\n",
       "      <td>11</td>\n",
       "    </tr>\n",
       "    <tr>\n",
       "      <th>6</th>\n",
       "      <td>😍</td>\n",
       "      <td>8</td>\n",
       "    </tr>\n",
       "    <tr>\n",
       "      <th>22</th>\n",
       "      <td>🔥</td>\n",
       "      <td>7</td>\n",
       "    </tr>\n",
       "    <tr>\n",
       "      <th>5</th>\n",
       "      <td>⭐️</td>\n",
       "      <td>5</td>\n",
       "    </tr>\n",
       "    <tr>\n",
       "      <th>1</th>\n",
       "      <td>👀</td>\n",
       "      <td>5</td>\n",
       "    </tr>\n",
       "  </tbody>\n",
       "</table>\n",
       "</div>"
      ],
      "text/plain": [
       "   emoji  cnt\n",
       "4      ⭐   11\n",
       "6      😍    8\n",
       "22     🔥    7\n",
       "5     ⭐️    5\n",
       "1      👀    5"
      ]
     },
     "execution_count": 145,
     "metadata": {},
     "output_type": "execute_result"
    }
   ],
   "source": [
    "from collections import Counter\n",
    "\n",
    "temp_emojis = pd.DataFrame(list(zip(Counter(sum(datos.emojis.values,[])).keys(),Counter(sum(datos.emojis.values,[])).values())))\n",
    "temp_emojis.columns = ['emoji', 'cnt']\n",
    "temp_emojis.sort_values('cnt', ascending=False, inplace=True)\n",
    "temp_emojis.head()"
   ]
  },
  {
   "cell_type": "code",
   "execution_count": 146,
   "id": "laughing-superior",
   "metadata": {},
   "outputs": [
    {
     "data": {
      "application/vnd.plotly.v1+json": {
       "config": {
        "linkText": "Export to plot.ly",
        "plotlyServerURL": "https://plot.ly",
        "showLink": false
       },
       "data": [
        {
         "type": "bar",
         "x": [
          "⭐",
          "😍",
          "🔥",
          "⭐️",
          "👀",
          "👇🏻",
          "👏",
          "🧂",
          "🥺",
          "😂",
          "💚",
          "❤️",
          "🎬",
          "♊️",
          "🙈"
         ],
         "y": [
          11,
          8,
          7,
          5,
          5,
          3,
          3,
          2,
          2,
          2,
          2,
          2,
          2,
          1,
          1
         ]
        }
       ],
       "layout": {
        "template": {
         "data": {
          "bar": [
           {
            "error_x": {
             "color": "#2a3f5f"
            },
            "error_y": {
             "color": "#2a3f5f"
            },
            "marker": {
             "line": {
              "color": "#E5ECF6",
              "width": 0.5
             }
            },
            "type": "bar"
           }
          ],
          "barpolar": [
           {
            "marker": {
             "line": {
              "color": "#E5ECF6",
              "width": 0.5
             }
            },
            "type": "barpolar"
           }
          ],
          "carpet": [
           {
            "aaxis": {
             "endlinecolor": "#2a3f5f",
             "gridcolor": "white",
             "linecolor": "white",
             "minorgridcolor": "white",
             "startlinecolor": "#2a3f5f"
            },
            "baxis": {
             "endlinecolor": "#2a3f5f",
             "gridcolor": "white",
             "linecolor": "white",
             "minorgridcolor": "white",
             "startlinecolor": "#2a3f5f"
            },
            "type": "carpet"
           }
          ],
          "choropleth": [
           {
            "colorbar": {
             "outlinewidth": 0,
             "ticks": ""
            },
            "type": "choropleth"
           }
          ],
          "contour": [
           {
            "colorbar": {
             "outlinewidth": 0,
             "ticks": ""
            },
            "colorscale": [
             [
              0,
              "#0d0887"
             ],
             [
              0.1111111111111111,
              "#46039f"
             ],
             [
              0.2222222222222222,
              "#7201a8"
             ],
             [
              0.3333333333333333,
              "#9c179e"
             ],
             [
              0.4444444444444444,
              "#bd3786"
             ],
             [
              0.5555555555555556,
              "#d8576b"
             ],
             [
              0.6666666666666666,
              "#ed7953"
             ],
             [
              0.7777777777777778,
              "#fb9f3a"
             ],
             [
              0.8888888888888888,
              "#fdca26"
             ],
             [
              1,
              "#f0f921"
             ]
            ],
            "type": "contour"
           }
          ],
          "contourcarpet": [
           {
            "colorbar": {
             "outlinewidth": 0,
             "ticks": ""
            },
            "type": "contourcarpet"
           }
          ],
          "heatmap": [
           {
            "colorbar": {
             "outlinewidth": 0,
             "ticks": ""
            },
            "colorscale": [
             [
              0,
              "#0d0887"
             ],
             [
              0.1111111111111111,
              "#46039f"
             ],
             [
              0.2222222222222222,
              "#7201a8"
             ],
             [
              0.3333333333333333,
              "#9c179e"
             ],
             [
              0.4444444444444444,
              "#bd3786"
             ],
             [
              0.5555555555555556,
              "#d8576b"
             ],
             [
              0.6666666666666666,
              "#ed7953"
             ],
             [
              0.7777777777777778,
              "#fb9f3a"
             ],
             [
              0.8888888888888888,
              "#fdca26"
             ],
             [
              1,
              "#f0f921"
             ]
            ],
            "type": "heatmap"
           }
          ],
          "heatmapgl": [
           {
            "colorbar": {
             "outlinewidth": 0,
             "ticks": ""
            },
            "colorscale": [
             [
              0,
              "#0d0887"
             ],
             [
              0.1111111111111111,
              "#46039f"
             ],
             [
              0.2222222222222222,
              "#7201a8"
             ],
             [
              0.3333333333333333,
              "#9c179e"
             ],
             [
              0.4444444444444444,
              "#bd3786"
             ],
             [
              0.5555555555555556,
              "#d8576b"
             ],
             [
              0.6666666666666666,
              "#ed7953"
             ],
             [
              0.7777777777777778,
              "#fb9f3a"
             ],
             [
              0.8888888888888888,
              "#fdca26"
             ],
             [
              1,
              "#f0f921"
             ]
            ],
            "type": "heatmapgl"
           }
          ],
          "histogram": [
           {
            "marker": {
             "colorbar": {
              "outlinewidth": 0,
              "ticks": ""
             }
            },
            "type": "histogram"
           }
          ],
          "histogram2d": [
           {
            "colorbar": {
             "outlinewidth": 0,
             "ticks": ""
            },
            "colorscale": [
             [
              0,
              "#0d0887"
             ],
             [
              0.1111111111111111,
              "#46039f"
             ],
             [
              0.2222222222222222,
              "#7201a8"
             ],
             [
              0.3333333333333333,
              "#9c179e"
             ],
             [
              0.4444444444444444,
              "#bd3786"
             ],
             [
              0.5555555555555556,
              "#d8576b"
             ],
             [
              0.6666666666666666,
              "#ed7953"
             ],
             [
              0.7777777777777778,
              "#fb9f3a"
             ],
             [
              0.8888888888888888,
              "#fdca26"
             ],
             [
              1,
              "#f0f921"
             ]
            ],
            "type": "histogram2d"
           }
          ],
          "histogram2dcontour": [
           {
            "colorbar": {
             "outlinewidth": 0,
             "ticks": ""
            },
            "colorscale": [
             [
              0,
              "#0d0887"
             ],
             [
              0.1111111111111111,
              "#46039f"
             ],
             [
              0.2222222222222222,
              "#7201a8"
             ],
             [
              0.3333333333333333,
              "#9c179e"
             ],
             [
              0.4444444444444444,
              "#bd3786"
             ],
             [
              0.5555555555555556,
              "#d8576b"
             ],
             [
              0.6666666666666666,
              "#ed7953"
             ],
             [
              0.7777777777777778,
              "#fb9f3a"
             ],
             [
              0.8888888888888888,
              "#fdca26"
             ],
             [
              1,
              "#f0f921"
             ]
            ],
            "type": "histogram2dcontour"
           }
          ],
          "mesh3d": [
           {
            "colorbar": {
             "outlinewidth": 0,
             "ticks": ""
            },
            "type": "mesh3d"
           }
          ],
          "parcoords": [
           {
            "line": {
             "colorbar": {
              "outlinewidth": 0,
              "ticks": ""
             }
            },
            "type": "parcoords"
           }
          ],
          "pie": [
           {
            "automargin": true,
            "type": "pie"
           }
          ],
          "scatter": [
           {
            "marker": {
             "colorbar": {
              "outlinewidth": 0,
              "ticks": ""
             }
            },
            "type": "scatter"
           }
          ],
          "scatter3d": [
           {
            "line": {
             "colorbar": {
              "outlinewidth": 0,
              "ticks": ""
             }
            },
            "marker": {
             "colorbar": {
              "outlinewidth": 0,
              "ticks": ""
             }
            },
            "type": "scatter3d"
           }
          ],
          "scattercarpet": [
           {
            "marker": {
             "colorbar": {
              "outlinewidth": 0,
              "ticks": ""
             }
            },
            "type": "scattercarpet"
           }
          ],
          "scattergeo": [
           {
            "marker": {
             "colorbar": {
              "outlinewidth": 0,
              "ticks": ""
             }
            },
            "type": "scattergeo"
           }
          ],
          "scattergl": [
           {
            "marker": {
             "colorbar": {
              "outlinewidth": 0,
              "ticks": ""
             }
            },
            "type": "scattergl"
           }
          ],
          "scattermapbox": [
           {
            "marker": {
             "colorbar": {
              "outlinewidth": 0,
              "ticks": ""
             }
            },
            "type": "scattermapbox"
           }
          ],
          "scatterpolar": [
           {
            "marker": {
             "colorbar": {
              "outlinewidth": 0,
              "ticks": ""
             }
            },
            "type": "scatterpolar"
           }
          ],
          "scatterpolargl": [
           {
            "marker": {
             "colorbar": {
              "outlinewidth": 0,
              "ticks": ""
             }
            },
            "type": "scatterpolargl"
           }
          ],
          "scatterternary": [
           {
            "marker": {
             "colorbar": {
              "outlinewidth": 0,
              "ticks": ""
             }
            },
            "type": "scatterternary"
           }
          ],
          "surface": [
           {
            "colorbar": {
             "outlinewidth": 0,
             "ticks": ""
            },
            "colorscale": [
             [
              0,
              "#0d0887"
             ],
             [
              0.1111111111111111,
              "#46039f"
             ],
             [
              0.2222222222222222,
              "#7201a8"
             ],
             [
              0.3333333333333333,
              "#9c179e"
             ],
             [
              0.4444444444444444,
              "#bd3786"
             ],
             [
              0.5555555555555556,
              "#d8576b"
             ],
             [
              0.6666666666666666,
              "#ed7953"
             ],
             [
              0.7777777777777778,
              "#fb9f3a"
             ],
             [
              0.8888888888888888,
              "#fdca26"
             ],
             [
              1,
              "#f0f921"
             ]
            ],
            "type": "surface"
           }
          ],
          "table": [
           {
            "cells": {
             "fill": {
              "color": "#EBF0F8"
             },
             "line": {
              "color": "white"
             }
            },
            "header": {
             "fill": {
              "color": "#C8D4E3"
             },
             "line": {
              "color": "white"
             }
            },
            "type": "table"
           }
          ]
         },
         "layout": {
          "annotationdefaults": {
           "arrowcolor": "#2a3f5f",
           "arrowhead": 0,
           "arrowwidth": 1
          },
          "autotypenumbers": "strict",
          "coloraxis": {
           "colorbar": {
            "outlinewidth": 0,
            "ticks": ""
           }
          },
          "colorscale": {
           "diverging": [
            [
             0,
             "#8e0152"
            ],
            [
             0.1,
             "#c51b7d"
            ],
            [
             0.2,
             "#de77ae"
            ],
            [
             0.3,
             "#f1b6da"
            ],
            [
             0.4,
             "#fde0ef"
            ],
            [
             0.5,
             "#f7f7f7"
            ],
            [
             0.6,
             "#e6f5d0"
            ],
            [
             0.7,
             "#b8e186"
            ],
            [
             0.8,
             "#7fbc41"
            ],
            [
             0.9,
             "#4d9221"
            ],
            [
             1,
             "#276419"
            ]
           ],
           "sequential": [
            [
             0,
             "#0d0887"
            ],
            [
             0.1111111111111111,
             "#46039f"
            ],
            [
             0.2222222222222222,
             "#7201a8"
            ],
            [
             0.3333333333333333,
             "#9c179e"
            ],
            [
             0.4444444444444444,
             "#bd3786"
            ],
            [
             0.5555555555555556,
             "#d8576b"
            ],
            [
             0.6666666666666666,
             "#ed7953"
            ],
            [
             0.7777777777777778,
             "#fb9f3a"
            ],
            [
             0.8888888888888888,
             "#fdca26"
            ],
            [
             1,
             "#f0f921"
            ]
           ],
           "sequentialminus": [
            [
             0,
             "#0d0887"
            ],
            [
             0.1111111111111111,
             "#46039f"
            ],
            [
             0.2222222222222222,
             "#7201a8"
            ],
            [
             0.3333333333333333,
             "#9c179e"
            ],
            [
             0.4444444444444444,
             "#bd3786"
            ],
            [
             0.5555555555555556,
             "#d8576b"
            ],
            [
             0.6666666666666666,
             "#ed7953"
            ],
            [
             0.7777777777777778,
             "#fb9f3a"
            ],
            [
             0.8888888888888888,
             "#fdca26"
            ],
            [
             1,
             "#f0f921"
            ]
           ]
          },
          "colorway": [
           "#636efa",
           "#EF553B",
           "#00cc96",
           "#ab63fa",
           "#FFA15A",
           "#19d3f3",
           "#FF6692",
           "#B6E880",
           "#FF97FF",
           "#FECB52"
          ],
          "font": {
           "color": "#2a3f5f"
          },
          "geo": {
           "bgcolor": "white",
           "lakecolor": "white",
           "landcolor": "#E5ECF6",
           "showlakes": true,
           "showland": true,
           "subunitcolor": "white"
          },
          "hoverlabel": {
           "align": "left"
          },
          "hovermode": "closest",
          "mapbox": {
           "style": "light"
          },
          "paper_bgcolor": "white",
          "plot_bgcolor": "#E5ECF6",
          "polar": {
           "angularaxis": {
            "gridcolor": "white",
            "linecolor": "white",
            "ticks": ""
           },
           "bgcolor": "#E5ECF6",
           "radialaxis": {
            "gridcolor": "white",
            "linecolor": "white",
            "ticks": ""
           }
          },
          "scene": {
           "xaxis": {
            "backgroundcolor": "#E5ECF6",
            "gridcolor": "white",
            "gridwidth": 2,
            "linecolor": "white",
            "showbackground": true,
            "ticks": "",
            "zerolinecolor": "white"
           },
           "yaxis": {
            "backgroundcolor": "#E5ECF6",
            "gridcolor": "white",
            "gridwidth": 2,
            "linecolor": "white",
            "showbackground": true,
            "ticks": "",
            "zerolinecolor": "white"
           },
           "zaxis": {
            "backgroundcolor": "#E5ECF6",
            "gridcolor": "white",
            "gridwidth": 2,
            "linecolor": "white",
            "showbackground": true,
            "ticks": "",
            "zerolinecolor": "white"
           }
          },
          "shapedefaults": {
           "line": {
            "color": "#2a3f5f"
           }
          },
          "ternary": {
           "aaxis": {
            "gridcolor": "white",
            "linecolor": "white",
            "ticks": ""
           },
           "baxis": {
            "gridcolor": "white",
            "linecolor": "white",
            "ticks": ""
           },
           "bgcolor": "#E5ECF6",
           "caxis": {
            "gridcolor": "white",
            "linecolor": "white",
            "ticks": ""
           }
          },
          "title": {
           "x": 0.05
          },
          "xaxis": {
           "automargin": true,
           "gridcolor": "white",
           "linecolor": "white",
           "ticks": "",
           "title": {
            "standoff": 15
           },
           "zerolinecolor": "white",
           "zerolinewidth": 2
          },
          "yaxis": {
           "automargin": true,
           "gridcolor": "white",
           "linecolor": "white",
           "ticks": "",
           "title": {
            "standoff": 15
           },
           "zerolinecolor": "white",
           "zerolinewidth": 2
          }
         }
        },
        "title": {
         "text": "Emojis más usados"
        }
       }
      },
      "text/html": [
       "<div>                            <div id=\"5a07c885-a354-497c-853e-42a5200d5e47\" class=\"plotly-graph-div\" style=\"height:525px; width:100%;\"></div>            <script type=\"text/javascript\">                require([\"plotly\"], function(Plotly) {                    window.PLOTLYENV=window.PLOTLYENV || {};                                    if (document.getElementById(\"5a07c885-a354-497c-853e-42a5200d5e47\")) {                    Plotly.newPlot(                        \"5a07c885-a354-497c-853e-42a5200d5e47\",                        [{\"type\": \"bar\", \"x\": [\"\\u2b50\", \"\\ud83d\\ude0d\", \"\\ud83d\\udd25\", \"\\u2b50\\ufe0f\", \"\\ud83d\\udc40\", \"\\ud83d\\udc47\\ud83c\\udffb\", \"\\ud83d\\udc4f\", \"\\ud83e\\uddc2\", \"\\ud83e\\udd7a\", \"\\ud83d\\ude02\", \"\\ud83d\\udc9a\", \"\\u2764\\ufe0f\", \"\\ud83c\\udfac\", \"\\u264a\\ufe0f\", \"\\ud83d\\ude48\"], \"y\": [11, 8, 7, 5, 5, 3, 3, 2, 2, 2, 2, 2, 2, 1, 1]}],                        {\"template\": {\"data\": {\"bar\": [{\"error_x\": {\"color\": \"#2a3f5f\"}, \"error_y\": {\"color\": \"#2a3f5f\"}, \"marker\": {\"line\": {\"color\": \"#E5ECF6\", \"width\": 0.5}}, \"type\": \"bar\"}], \"barpolar\": [{\"marker\": {\"line\": {\"color\": \"#E5ECF6\", \"width\": 0.5}}, \"type\": \"barpolar\"}], \"carpet\": [{\"aaxis\": {\"endlinecolor\": \"#2a3f5f\", \"gridcolor\": \"white\", \"linecolor\": \"white\", \"minorgridcolor\": \"white\", \"startlinecolor\": \"#2a3f5f\"}, \"baxis\": {\"endlinecolor\": \"#2a3f5f\", \"gridcolor\": \"white\", \"linecolor\": \"white\", \"minorgridcolor\": \"white\", \"startlinecolor\": \"#2a3f5f\"}, \"type\": \"carpet\"}], \"choropleth\": [{\"colorbar\": {\"outlinewidth\": 0, \"ticks\": \"\"}, \"type\": \"choropleth\"}], \"contour\": [{\"colorbar\": {\"outlinewidth\": 0, \"ticks\": \"\"}, \"colorscale\": [[0.0, \"#0d0887\"], [0.1111111111111111, \"#46039f\"], [0.2222222222222222, \"#7201a8\"], [0.3333333333333333, \"#9c179e\"], [0.4444444444444444, \"#bd3786\"], [0.5555555555555556, \"#d8576b\"], [0.6666666666666666, \"#ed7953\"], [0.7777777777777778, \"#fb9f3a\"], [0.8888888888888888, \"#fdca26\"], [1.0, \"#f0f921\"]], \"type\": \"contour\"}], \"contourcarpet\": [{\"colorbar\": {\"outlinewidth\": 0, \"ticks\": \"\"}, \"type\": \"contourcarpet\"}], \"heatmap\": [{\"colorbar\": {\"outlinewidth\": 0, \"ticks\": \"\"}, \"colorscale\": [[0.0, \"#0d0887\"], [0.1111111111111111, \"#46039f\"], [0.2222222222222222, \"#7201a8\"], [0.3333333333333333, \"#9c179e\"], [0.4444444444444444, \"#bd3786\"], [0.5555555555555556, \"#d8576b\"], [0.6666666666666666, \"#ed7953\"], [0.7777777777777778, \"#fb9f3a\"], [0.8888888888888888, \"#fdca26\"], [1.0, \"#f0f921\"]], \"type\": \"heatmap\"}], \"heatmapgl\": [{\"colorbar\": {\"outlinewidth\": 0, \"ticks\": \"\"}, \"colorscale\": [[0.0, \"#0d0887\"], [0.1111111111111111, \"#46039f\"], [0.2222222222222222, \"#7201a8\"], [0.3333333333333333, \"#9c179e\"], [0.4444444444444444, \"#bd3786\"], [0.5555555555555556, \"#d8576b\"], [0.6666666666666666, \"#ed7953\"], [0.7777777777777778, \"#fb9f3a\"], [0.8888888888888888, \"#fdca26\"], [1.0, \"#f0f921\"]], \"type\": \"heatmapgl\"}], \"histogram\": [{\"marker\": {\"colorbar\": {\"outlinewidth\": 0, \"ticks\": \"\"}}, \"type\": \"histogram\"}], \"histogram2d\": [{\"colorbar\": {\"outlinewidth\": 0, \"ticks\": \"\"}, \"colorscale\": [[0.0, \"#0d0887\"], [0.1111111111111111, \"#46039f\"], [0.2222222222222222, \"#7201a8\"], [0.3333333333333333, \"#9c179e\"], [0.4444444444444444, \"#bd3786\"], [0.5555555555555556, \"#d8576b\"], [0.6666666666666666, \"#ed7953\"], [0.7777777777777778, \"#fb9f3a\"], [0.8888888888888888, \"#fdca26\"], [1.0, \"#f0f921\"]], \"type\": \"histogram2d\"}], \"histogram2dcontour\": [{\"colorbar\": {\"outlinewidth\": 0, \"ticks\": \"\"}, \"colorscale\": [[0.0, \"#0d0887\"], [0.1111111111111111, \"#46039f\"], [0.2222222222222222, \"#7201a8\"], [0.3333333333333333, \"#9c179e\"], [0.4444444444444444, \"#bd3786\"], [0.5555555555555556, \"#d8576b\"], [0.6666666666666666, \"#ed7953\"], [0.7777777777777778, \"#fb9f3a\"], [0.8888888888888888, \"#fdca26\"], [1.0, \"#f0f921\"]], \"type\": \"histogram2dcontour\"}], \"mesh3d\": [{\"colorbar\": {\"outlinewidth\": 0, \"ticks\": \"\"}, \"type\": \"mesh3d\"}], \"parcoords\": [{\"line\": {\"colorbar\": {\"outlinewidth\": 0, \"ticks\": \"\"}}, \"type\": \"parcoords\"}], \"pie\": [{\"automargin\": true, \"type\": \"pie\"}], \"scatter\": [{\"marker\": {\"colorbar\": {\"outlinewidth\": 0, \"ticks\": \"\"}}, \"type\": \"scatter\"}], \"scatter3d\": [{\"line\": {\"colorbar\": {\"outlinewidth\": 0, \"ticks\": \"\"}}, \"marker\": {\"colorbar\": {\"outlinewidth\": 0, \"ticks\": \"\"}}, \"type\": \"scatter3d\"}], \"scattercarpet\": [{\"marker\": {\"colorbar\": {\"outlinewidth\": 0, \"ticks\": \"\"}}, \"type\": \"scattercarpet\"}], \"scattergeo\": [{\"marker\": {\"colorbar\": {\"outlinewidth\": 0, \"ticks\": \"\"}}, \"type\": \"scattergeo\"}], \"scattergl\": [{\"marker\": {\"colorbar\": {\"outlinewidth\": 0, \"ticks\": \"\"}}, \"type\": \"scattergl\"}], \"scattermapbox\": [{\"marker\": {\"colorbar\": {\"outlinewidth\": 0, \"ticks\": \"\"}}, \"type\": \"scattermapbox\"}], \"scatterpolar\": [{\"marker\": {\"colorbar\": {\"outlinewidth\": 0, \"ticks\": \"\"}}, \"type\": \"scatterpolar\"}], \"scatterpolargl\": [{\"marker\": {\"colorbar\": {\"outlinewidth\": 0, \"ticks\": \"\"}}, \"type\": \"scatterpolargl\"}], \"scatterternary\": [{\"marker\": {\"colorbar\": {\"outlinewidth\": 0, \"ticks\": \"\"}}, \"type\": \"scatterternary\"}], \"surface\": [{\"colorbar\": {\"outlinewidth\": 0, \"ticks\": \"\"}, \"colorscale\": [[0.0, \"#0d0887\"], [0.1111111111111111, \"#46039f\"], [0.2222222222222222, \"#7201a8\"], [0.3333333333333333, \"#9c179e\"], [0.4444444444444444, \"#bd3786\"], [0.5555555555555556, \"#d8576b\"], [0.6666666666666666, \"#ed7953\"], [0.7777777777777778, \"#fb9f3a\"], [0.8888888888888888, \"#fdca26\"], [1.0, \"#f0f921\"]], \"type\": \"surface\"}], \"table\": [{\"cells\": {\"fill\": {\"color\": \"#EBF0F8\"}, \"line\": {\"color\": \"white\"}}, \"header\": {\"fill\": {\"color\": \"#C8D4E3\"}, \"line\": {\"color\": \"white\"}}, \"type\": \"table\"}]}, \"layout\": {\"annotationdefaults\": {\"arrowcolor\": \"#2a3f5f\", \"arrowhead\": 0, \"arrowwidth\": 1}, \"autotypenumbers\": \"strict\", \"coloraxis\": {\"colorbar\": {\"outlinewidth\": 0, \"ticks\": \"\"}}, \"colorscale\": {\"diverging\": [[0, \"#8e0152\"], [0.1, \"#c51b7d\"], [0.2, \"#de77ae\"], [0.3, \"#f1b6da\"], [0.4, \"#fde0ef\"], [0.5, \"#f7f7f7\"], [0.6, \"#e6f5d0\"], [0.7, \"#b8e186\"], [0.8, \"#7fbc41\"], [0.9, \"#4d9221\"], [1, \"#276419\"]], \"sequential\": [[0.0, \"#0d0887\"], [0.1111111111111111, \"#46039f\"], [0.2222222222222222, \"#7201a8\"], [0.3333333333333333, \"#9c179e\"], [0.4444444444444444, \"#bd3786\"], [0.5555555555555556, \"#d8576b\"], [0.6666666666666666, \"#ed7953\"], [0.7777777777777778, \"#fb9f3a\"], [0.8888888888888888, \"#fdca26\"], [1.0, \"#f0f921\"]], \"sequentialminus\": [[0.0, \"#0d0887\"], [0.1111111111111111, \"#46039f\"], [0.2222222222222222, \"#7201a8\"], [0.3333333333333333, \"#9c179e\"], [0.4444444444444444, \"#bd3786\"], [0.5555555555555556, \"#d8576b\"], [0.6666666666666666, \"#ed7953\"], [0.7777777777777778, \"#fb9f3a\"], [0.8888888888888888, \"#fdca26\"], [1.0, \"#f0f921\"]]}, \"colorway\": [\"#636efa\", \"#EF553B\", \"#00cc96\", \"#ab63fa\", \"#FFA15A\", \"#19d3f3\", \"#FF6692\", \"#B6E880\", \"#FF97FF\", \"#FECB52\"], \"font\": {\"color\": \"#2a3f5f\"}, \"geo\": {\"bgcolor\": \"white\", \"lakecolor\": \"white\", \"landcolor\": \"#E5ECF6\", \"showlakes\": true, \"showland\": true, \"subunitcolor\": \"white\"}, \"hoverlabel\": {\"align\": \"left\"}, \"hovermode\": \"closest\", \"mapbox\": {\"style\": \"light\"}, \"paper_bgcolor\": \"white\", \"plot_bgcolor\": \"#E5ECF6\", \"polar\": {\"angularaxis\": {\"gridcolor\": \"white\", \"linecolor\": \"white\", \"ticks\": \"\"}, \"bgcolor\": \"#E5ECF6\", \"radialaxis\": {\"gridcolor\": \"white\", \"linecolor\": \"white\", \"ticks\": \"\"}}, \"scene\": {\"xaxis\": {\"backgroundcolor\": \"#E5ECF6\", \"gridcolor\": \"white\", \"gridwidth\": 2, \"linecolor\": \"white\", \"showbackground\": true, \"ticks\": \"\", \"zerolinecolor\": \"white\"}, \"yaxis\": {\"backgroundcolor\": \"#E5ECF6\", \"gridcolor\": \"white\", \"gridwidth\": 2, \"linecolor\": \"white\", \"showbackground\": true, \"ticks\": \"\", \"zerolinecolor\": \"white\"}, \"zaxis\": {\"backgroundcolor\": \"#E5ECF6\", \"gridcolor\": \"white\", \"gridwidth\": 2, \"linecolor\": \"white\", \"showbackground\": true, \"ticks\": \"\", \"zerolinecolor\": \"white\"}}, \"shapedefaults\": {\"line\": {\"color\": \"#2a3f5f\"}}, \"ternary\": {\"aaxis\": {\"gridcolor\": \"white\", \"linecolor\": \"white\", \"ticks\": \"\"}, \"baxis\": {\"gridcolor\": \"white\", \"linecolor\": \"white\", \"ticks\": \"\"}, \"bgcolor\": \"#E5ECF6\", \"caxis\": {\"gridcolor\": \"white\", \"linecolor\": \"white\", \"ticks\": \"\"}}, \"title\": {\"x\": 0.05}, \"xaxis\": {\"automargin\": true, \"gridcolor\": \"white\", \"linecolor\": \"white\", \"ticks\": \"\", \"title\": {\"standoff\": 15}, \"zerolinecolor\": \"white\", \"zerolinewidth\": 2}, \"yaxis\": {\"automargin\": true, \"gridcolor\": \"white\", \"linecolor\": \"white\", \"ticks\": \"\", \"title\": {\"standoff\": 15}, \"zerolinecolor\": \"white\", \"zerolinewidth\": 2}}}, \"title\": {\"text\": \"Emojis m\\u00e1s usados\"}},                        {\"responsive\": true}                    ).then(function(){\n",
       "                            \n",
       "var gd = document.getElementById('5a07c885-a354-497c-853e-42a5200d5e47');\n",
       "var x = new MutationObserver(function (mutations, observer) {{\n",
       "        var display = window.getComputedStyle(gd).display;\n",
       "        if (!display || display === 'none') {{\n",
       "            console.log([gd, 'removed!']);\n",
       "            Plotly.purge(gd);\n",
       "            observer.disconnect();\n",
       "        }}\n",
       "}});\n",
       "\n",
       "// Listen for the removal of the full notebook cells\n",
       "var notebookContainer = gd.closest('#notebook-container');\n",
       "if (notebookContainer) {{\n",
       "    x.observe(notebookContainer, {childList: true});\n",
       "}}\n",
       "\n",
       "// Listen for the clearing of the current output cell\n",
       "var outputEl = gd.closest('.output');\n",
       "if (outputEl) {{\n",
       "    x.observe(outputEl, {childList: true});\n",
       "}}\n",
       "\n",
       "                        })                };                });            </script>        </div>"
      ]
     },
     "metadata": {},
     "output_type": "display_data"
    }
   ],
   "source": [
    "trace = go.Bar(x=temp_emojis.emoji.values[:15],\n",
    "               y=temp_emojis.cnt.values[:15])\n",
    "\n",
    "layout = go.Layout(title='Emojis más usados')\n",
    "\n",
    "fig = go.Figure(data=[trace], layout=layout)\n",
    "iplot(fig)"
   ]
  },
  {
   "cell_type": "code",
   "execution_count": null,
   "id": "incorrect-ribbon",
   "metadata": {},
   "outputs": [],
   "source": []
  },
  {
   "cell_type": "code",
   "execution_count": null,
   "id": "environmental-metallic",
   "metadata": {},
   "outputs": [],
   "source": []
  }
 ],
 "metadata": {
  "kernelspec": {
   "display_name": "Python 3",
   "language": "python",
   "name": "python3"
  },
  "language_info": {
   "codemirror_mode": {
    "name": "ipython",
    "version": 3
   },
   "file_extension": ".py",
   "mimetype": "text/x-python",
   "name": "python",
   "nbconvert_exporter": "python",
   "pygments_lexer": "ipython3",
   "version": "3.8.8"
  }
 },
 "nbformat": 4,
 "nbformat_minor": 5
}
