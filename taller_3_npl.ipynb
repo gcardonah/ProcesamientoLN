{
  "nbformat": 4,
  "nbformat_minor": 0,
  "metadata": {
    "colab": {
      "name": "Untitled3.ipynb",
      "provenance": [],
      "collapsed_sections": []
    },
    "kernelspec": {
      "name": "python3",
      "display_name": "Python 3"
    }
  },
  "cells": [
    {
      "cell_type": "code",
      "metadata": {
        "id": "TagrSSVJTxb8"
      },
      "source": [
        "###############################################################################\n",
        "# NLP 2021-I\n",
        "# Clase 3: taller 3\n",
        "###############################################################################\n",
        "\n",
        "from bs4 import BeautifulSoup\n",
        "import requests\n",
        "\n",
        "\n",
        "############ Requests\n",
        "import bs4 as bs\n",
        "import urllib.request\n",
        "\n",
        "import re\n",
        "from unicodedata import normalize\n",
        "\n",
        "link1 = \"https://es.wikipedia.org/wiki/Felis_silvestris_catus\"\n",
        "link2 = \"https://es.wikipedia.org/wiki/Canis_familiaris\"\n",
        "link3 = \"https://es.wikipedia.org/wiki/Elephantidae\"\n",
        "link4 = \"https://es.wikipedia.org/wiki/Equus_ferus\"\n",
        "link5 = \"https://es.wikipedia.org/wiki/Bos_primigenius_taurus\"\n",
        "link6 = \"https://es.wikipedia.org/wiki/Sus_scrofa_domestica\"\n",
        "link7 = \"https://es.wikipedia.org/wiki/Rattus\"\n",
        "link8 = \"https://es.wikipedia.org/wiki/Psittacoidea\"\n",
        "link9 = \"https://es.wikipedia.org/wiki/Gallus_gallus_domesticus\"\n",
        "link10 = \"https://es.wikipedia.org/wiki/Ovis_orientalis_aries\"\n",
        "allUrl = [link1, link2, link3, link4, link5, link6, link7, link8, link9, link10]\n"
      ],
      "execution_count": 3,
      "outputs": []
    },
    {
      "cell_type": "code",
      "metadata": {
        "id": "8HPotxq3XtOw"
      },
      "source": [
        "\n",
        "def paginaPython(datUrl):\n",
        "  # Descargar la página web en Python  \n",
        "    request = urllib.request.Request(datUrl, headers={'User-Agent': 'Mozilla/5.0'})\n",
        "    webpage = urllib.request.urlopen(request)\n",
        "    source = webpage.read()\n",
        "    webpage.close()\n",
        "    soup = bs.BeautifulSoup(source, 'html.parser')\n",
        "    return soup;\n",
        "\n",
        "\n",
        "def recorrerUrlTitulo(datoUrl):\n",
        "  datopagina = paginaPython(datoUrl)\n",
        "  titulo = datopagina.findAll('h1')\n",
        "  for dato in titulo:\n",
        "    header_append = dato.find(text=True)\n",
        "  return header_append\n",
        "\n",
        "def textoRegex(datoUrlCadena):\n",
        "  a = datoUrlCadena.replace(\"á\", \"*\")\n",
        "  e = a.replace(\"é\", \"*\")\n",
        "  i = e.replace(\"í\", \"*\")\n",
        "  o = i.replace(\"ó\", \"*\")\n",
        "  u = o.replace(\"ú\", \"*\")\n",
        "  return u\n",
        "\n",
        "\n",
        "def recorrerDiv(datoUrl):\n",
        "  datopagina = paginaPython(datoUrl)\n",
        "  job_elems = datopagina.find('div', class_='mw-parser-output')\n",
        "  parrafotexto = job_elems.find_all(\"p\")[0]\n",
        "  datos = parrafotexto.find_all(\"b\")\n",
        "  for dates in datos:\n",
        "    negrilla = dates.text\n",
        "    getEncab = textoRegex(negrilla)\n",
        "    return getEncab\n",
        "\n",
        "def funcionAgrupa(allUrl_):\n",
        "  titulos=[]\n",
        "  for encabezados in allUrl_:\n",
        "    getEncabezados = recorrerUrlTitulo(encabezados)\n",
        "    titulos.append(\"Encabezados: \" + getEncabezados)\n",
        "    datneg = recorrerDiv(encabezados)\n",
        "    titulos.append(datneg)\n",
        "  return titulos\n",
        "\n",
        "\n"
      ],
      "execution_count": 4,
      "outputs": []
    },
    {
      "cell_type": "code",
      "metadata": {
        "colab": {
          "base_uri": "https://localhost:8080/"
        },
        "id": "H0OiT9dE_juQ",
        "outputId": "9878b815-fd4f-4876-943c-1be74ed406cc"
      },
      "source": [
        "cabecera = funcionAgrupa(allUrl)\n",
        "cabecera\n",
        "\n"
      ],
      "execution_count": 5,
      "outputs": [
        {
          "output_type": "execute_result",
          "data": {
            "text/plain": [
              "['Encabezados: Felis silvestris catus',\n",
              " 'gato dom*stico',\n",
              " 'Encabezados: Canis familiaris',\n",
              " 'perro',\n",
              " 'Encabezados: Elephantidae',\n",
              " None,\n",
              " 'Encabezados: Equus ferus',\n",
              " 'Equus ferus',\n",
              " 'Encabezados: Bos primigenius taurus',\n",
              " 'vaca',\n",
              " 'Encabezados: Sus scrofa domestica',\n",
              " 'cerdo',\n",
              " 'Encabezados: Rattus',\n",
              " None,\n",
              " 'Encabezados: Psittacoidea',\n",
              " None,\n",
              " 'Encabezados: Gallus gallus domesticus',\n",
              " 'gallo',\n",
              " 'Encabezados: Ovis orientalis aries',\n",
              " 'oveja']"
            ]
          },
          "metadata": {
            "tags": []
          },
          "execution_count": 5
        }
      ]
    },
    {
      "cell_type": "code",
      "metadata": {
        "id": "rVOhpGKXYNcY"
      },
      "source": [
        ""
      ],
      "execution_count": null,
      "outputs": []
    }
  ]
}