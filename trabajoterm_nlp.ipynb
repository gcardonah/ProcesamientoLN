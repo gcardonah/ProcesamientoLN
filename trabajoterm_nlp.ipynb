{
 "cells": [
  {
   "cell_type": "markdown",
   "id": "charged-textbook",
   "metadata": {},
   "source": [
    "<img src='https://encrypted-tbn0.gstatic.com/images?q=tbn%3AANd9GcQ-VfNtOyJbsaxu43Kztf_cv1mgBG6ZIQZEVw&usqp=CAU'>\n",
    "\n",
    "## Analisis comparativo de la demanda laboral de especiliastas en Analitica de datos  y el perfil profesional propuesto de la Universidad Konrad Lorenz\n",
    "\n",
    "#### Daniel Alejandro Cárdenas Niño\n",
    "#### Guillermo Cardona"
   ]
  },
  {
   "cell_type": "markdown",
   "id": "attractive-qualification",
   "metadata": {},
   "source": [
    "### Objetivo Principal:\n",
    "La siguiente propuesta busca establecer la relación existente entre la pertinencia curricular del programa especialización en Anlitica de datos, de la Universidad Konrad Lorenz y los perfiles profesionales que esta demandando la ciudad de Bogotá D.C. \n"
   ]
  },
  {
   "cell_type": "markdown",
   "id": "endangered-gamma",
   "metadata": {},
   "source": [
    "### Recolección de datos:\n",
    "Los siguientes datos se recolectaron utilizando la herramienta de Web Scrapping con la libreria Beautiful Soup, en la pagina de <a href=\"https://www.computrabajo.com.co/\">computrabajo</a> y el perfil del Egresado Especialización en Analítica Estratégica de Datos de la Universidad Konrad Lorenz el cual se encuentra en su pagina Web. \n",
    "<a href=\"http://www.konradlorenz.edu.co/es/aspirantes/posgrados/especializacion-analitica-estrategica-datos/perfil-del-egresado.html\">Se puede visualizar aquí.</a>"
   ]
  },
  {
   "cell_type": "code",
   "execution_count": 1,
   "id": "composed-shepherd",
   "metadata": {},
   "outputs": [
    {
     "name": "stderr",
     "output_type": "stream",
     "text": [
      "C:\\Users\\Memo\\anaconda3\\lib\\site-packages\\gensim\\utils.py:1197: UserWarning: detected Windows; aliasing chunkize to chunkize_serial\n",
      "  warnings.warn(\"detected Windows; aliasing chunkize to chunkize_serial\")\n"
     ]
    }
   ],
   "source": [
    "from bs4 import BeautifulSoup\n",
    "import pandas as pd\n",
    "\n",
    "############ Requests\n",
    "import bs4 as bs\n",
    "import urllib.request\n",
    "\n",
    "import re\n",
    "from unicodedata import normalize\n",
    "\n",
    "import requests\n",
    "import argparse\n",
    "\n",
    "from nltk.corpus import stopwords\n",
    "stopwords_sp = stopwords.words('spanish')\n",
    "\n",
    "import gensim\n",
    "import platform\n",
    "import gensim.models.word2vec as w2v\n",
    "\n",
    "import json\n",
    "\n",
    "from sklearn.feature_extraction.text import TfidfVectorizer\n",
    "from sklearn.linear_model import LogisticRegression\n",
    "\n",
    "from sklearn.neighbors import NearestNeighbors\n",
    "from sklearn.cluster import KMeans\n",
    "from sklearn.decomposition import PCA\n",
    "\n",
    "import matplotlib.pyplot as plt\n",
    "import plotly.graph_objs as go\n",
    "from plotly.offline import iplot\n",
    "\n",
    "# ! pip install plotly\n",
    "from sklearn.decomposition import PCA\n",
    "import plotly.graph_objs as go\n",
    "from plotly.offline import iplot\n",
    "\n",
    "from sklearn.cluster import KMeans\n",
    "from sklearn.neighbors import NearestNeighbors\n",
    "import matplotlib.pyplot as plt\n"
   ]
  },
  {
   "cell_type": "code",
   "execution_count": 2,
   "id": "noble-detector",
   "metadata": {},
   "outputs": [],
   "source": [
    "def paginaPython(datUrl, trabajoguion, ubicacionguion, trabajoporc):\n",
    "  # Descargar la página web en Python  \n",
    "    request = urllib.request.Request(datUrl, headers={'User-Agent': 'Mozilla/5.0'})\n",
    "    webpage = urllib.request.urlopen(request)\n",
    "    source = webpage.read()\n",
    "    webpage.close()\n",
    "    soup = bs.BeautifulSoup(source, 'html.parser')\n",
    "    return soup, trabajoguion, ubicacionguion, trabajoporc;\n",
    "\n",
    "def paginaPythonDatoUrl(datUrl):\n",
    "  # Descargar la página web en Python  \n",
    "    request = urllib.request.Request(datUrl, headers={'User-Agent': 'Mozilla/5.0'})\n",
    "    webpage = urllib.request.urlopen(request)\n",
    "    source = webpage.read()\n",
    "    webpage.close()\n",
    "    soup = bs.BeautifulSoup(source, 'html.parser')\n",
    "    return soup;\n",
    "\n",
    "def convertirPalabraGuionURL(datURL):\n",
    "    a = datURL.replace(\" \", \"-\")\n",
    "    return a\n",
    "\n",
    "def convertirPalabraVaciaBusquedaURL(datURL):\n",
    "    a = datURL.replace(\" \", \"%20\")\n",
    "    return a\n",
    "\n",
    "\n",
    "def convertirNum(num):\n",
    "    numero= num.replace(\".\", \"\")\n",
    "    return int(numero)\n",
    "\n",
    "def scrape_jobs(ubicacion=None, trabajo=None):\n",
    "    if trabajo:\n",
    "        trabajoguion = convertirPalabraGuionURL(trabajo)\n",
    "        \n",
    "    if ubicacion:\n",
    "        if(ubicacion == \"bogota\"):\n",
    "            ubicacion = ubicacion+\"-dc\"\n",
    "        elif(ubicacion == \"Bogota\"):\n",
    "            ubicacion = ubicacion+\"-dc\"\n",
    "        elif(ubicacion == \"Bogotá\"):\n",
    "            ubicacion = ubicacion+\"-dc\" \n",
    "        elif(ubicacion == \"bogotá\"):\n",
    "            ubicacion = ubicacion+\"-dc\"\n",
    "        else:\n",
    "            ubicacion=ubicacion\n",
    "        ubicacionguion = convertirPalabraGuionURL(ubicacion)\n",
    "        \n",
    "    if trabajo:\n",
    "        trabajoporciento = convertirPalabraVaciaBusquedaURL(trabajo)\n",
    "        \n",
    "    if ubicacion and trabajo:\n",
    "        URL = f\"https://www.computrabajo.com.co/trabajo-de-{trabajoguion}-en-{ubicacionguion}?q={trabajoporciento}\"\n",
    "        #linkPrimariosPaginacion(f\"https://www.computrabajo.com.co/trabajo-de-{trabajoguion}-en-{ubicacionguion}?p=\")\n",
    "    elif ubicacion and not trabajo:\n",
    "        print(f\"Por favor especifique el trabajo que desea buscar, gracias\")\n",
    "        return\n",
    "    elif trabajo and not ubicacion:\n",
    "        URL = f\"https://www.computrabajo.com.co/trabajo-de-{trabajoguion}?q={trabajoporciento}\"\n",
    "    elif not trabajo and not ubicacion:\n",
    "        print(f\"Trabajo y Ubicacion deben tener datos, gracias\")\n",
    "        return\n",
    "    else:\n",
    "        print(f\"Datos errones, intentelo de nuevo, gracias\")\n",
    "        return\n",
    "\n",
    "    return paginaPython(URL, trabajoguion, ubicacionguion, trabajoporciento)\n",
    "\n",
    "\n",
    "#genera todos los link internos de la busqueda es cada link primario los que contienen 20 por pagina\n",
    "def generarTodosLinkIni(entero, residuos, urlpagina, trabajoporc, listagenul, listadescrip):\n",
    "    turlprimarias = []\n",
    "    if entero > 0:\n",
    "        count=0\n",
    "        for contad in range(0,entero):\n",
    "            contad =  str(contad+1)\n",
    "            urlcompleta = urlpagina + contad + \"&q=\" + trabajoporc\n",
    "            turlprimarias.append(str(urlcompleta))\n",
    "            \n",
    "        if residuos > 0:  \n",
    "            contad =  int(contad)+1            \n",
    "            urlcompleta = urlpagina + str(contad) + \"&q=\" + trabajoporc\n",
    "            turlprimarias.append(str(urlcompleta))\n",
    "    else:\n",
    "        contad =  \"1\"\n",
    "        urlcompleta = urlpagina + contad  + \"&q=\" + trabajoporc\n",
    "        turlprimarias.append(str(urlcompleta))\n",
    "    \n",
    "    linkPaginacion(turlprimarias, listagenurl, listadescrip)\n",
    "        \n",
    "\n",
    "#traer el titulo y el link de todas las vacantes\n",
    "def buscardatpagina(bsoup, listagenurl, listadescrip):\n",
    "    todapagpaginascont=[]\n",
    "    \n",
    "    #link normales\n",
    "    link_elems = bsoup.find_all('div', class_='bRS bClick')\n",
    "    #return link_elems\n",
    "    for job_elem in link_elems:\n",
    "        camp_div = job_elem.find_all('div', class_='iO')\n",
    "        title_link = job_elem.find('a', class_=\"js-o-link\")\n",
    "        descripcion_elem = job_elem.find('p')\n",
    "        #company_elem = job_elem.find('a', class_='it-blank')[\"title\"]\n",
    "        # location_elem = job_elem.find('a', title_='Empleos')\n",
    "\n",
    "        if None in (title_link, descripcion_elem):\n",
    "            continue\n",
    "            # print(job_elem.prettify())  # to inspect the 'None' element\n",
    "\n",
    "        #print(f\"Titulo {title_link.text.strip()} - https://www.computrabajo.com.co{title_link['href']}\")\n",
    "        todapagpaginascont.append(\"https://www.computrabajo.com.co\"+title_link[\"href\"])\n",
    "        \n",
    "    link_elems = bsoup.find_all('div', class_='bRS bClick ')\n",
    "    #return link_elems\n",
    "    for job_elem in link_elems:\n",
    "        camp_div = job_elem.find_all('div', class_='iO')\n",
    "        title_link = job_elem.find('a', class_=\"js-o-link\")\n",
    "        descripcion_elem = job_elem.find('p')\n",
    "        #company_elem = job_elem.find('a', class_='it-blank')[\"title\"]\n",
    "        # location_elem = job_elem.find('a', title_='Empleos')\n",
    "\n",
    "        if None in (title_link, descripcion_elem):\n",
    "            continue\n",
    "            # print(job_elem.prettify())  # to inspect the 'None' element\n",
    "\n",
    "        #print(f\"Titulo {title_link.text.strip()} - https://www.computrabajo.com.co{title_link['href']}\")\n",
    "        todapagpaginascont.append(\"https://www.computrabajo.com.co\"+title_link[\"href\"])\n",
    "        \n",
    "    #links resaltados    \n",
    "    link_esp = bsoup.find_all('div', class_='bRS bClick oD')\n",
    "    for job_elem in link_esp:\n",
    "        camp_div = job_elem.find_all('div', class_='iO')\n",
    "        title_link = job_elem.find('a', class_=\"js-o-link\")\n",
    "        descripcion_elem = job_elem.find('p')\n",
    "\n",
    "        if None in (title_link, descripcion_elem):\n",
    "            continue\n",
    "        todapagpaginascont.append(\"https://www.computrabajo.com.co\"+title_link[\"href\"])\n",
    "        \n",
    "    #links importancia alta o urgentes resaltados    \n",
    "    link_esp = bsoup.find_all('div', class_='bRS bClick oD oU')\n",
    "    for job_elem in link_esp:\n",
    "        camp_div = job_elem.find_all('div', class_='iO')\n",
    "        title_link = job_elem.find('a', class_=\"js-o-link\")\n",
    "        descripcion_elem = job_elem.find('p')\n",
    "\n",
    "        if None in (title_link, descripcion_elem):\n",
    "            continue\n",
    "        \n",
    "        todapagpaginascont.append(\"https://www.computrabajo.com.co\"+title_link[\"href\"])\n",
    "        \n",
    "    #links importancia alta o urgentes    \n",
    "    link_esp = bsoup.find_all('div', class_='bRS bClick  oU')\n",
    "    for job_elem in link_esp:\n",
    "        camp_div = job_elem.find_all('div', class_='iO')\n",
    "        camp_divs = job_elem.find('h2', class_='tO')\n",
    "        title_link = job_elem.find('a', class_=\"js-o-link\")\n",
    "        descripcion_elem = job_elem.find('p')\n",
    "\n",
    "        if None in (camp_divs, title_link, descripcion_elem):\n",
    "            continue\n",
    "        \n",
    "        todapagpaginascont.append(\"https://www.computrabajo.com.co\"+title_link[\"href\"])\n",
    "    \n",
    "    \n",
    "    paginaEmpleo(todapagpaginascont, listagenurl, listadescrip)  \n",
    "\n",
    "    \n",
    "#reecorre los link de la paginacion y le hace scrapping\n",
    "def paginaEmpleo(linkpagprincipal, lista, listadescrip):\n",
    "    cont = 1\n",
    "    for i in linkpagprincipal:\n",
    "        pagpaginacion = paginaPythonDatoUrl(i)\n",
    "        #lista link\n",
    "        lista.append(i)\n",
    "        buscardatpaginaVacante(pagpaginacion, listadescrip)\n",
    "        \n",
    "#reecorre los link de las paginares\n",
    "def linkPaginacion(linkpagprincipal, listagenurl, listadescrip):\n",
    "    solobs = []\n",
    "    for i in linkpagprincipal:\n",
    "        pagpaginacion = paginaPythonDatoUrl(i)\n",
    "        buscardatpagina(pagpaginacion, listagenurl, listadescrip)\n",
    "            \n",
    "#realiza  conteo de paginas y retorna, la parte entera, residuo y url primaria de paginacion\n",
    "def linkPrimariosPaginacion(cantPaginas, urlpaginas, trabajoporc, listagenurl, listadescrip):\n",
    "    intcant = int(cantPaginas)\n",
    "    if intcant > 0:\n",
    "        numfinalpag = intcant/20\n",
    "        split_num = str(numfinalpag).split('.')\n",
    "        int_part = int(split_num[0])\n",
    "        decimal_part = int(split_num[1])\n",
    "        \n",
    "        if int_part > 1000:\n",
    "            int_part = 50\n",
    "            decimal_part = 0\n",
    "            return generarTodosLinkIni(int_part, decimal_part, urlpaginas, trabajoporc, listagenurl, listadescrip)\n",
    "        else:\n",
    "            return generarTodosLinkIni(int_part, decimal_part, urlpaginas, trabajoporc, listagenurl, listadescrip)\n",
    "    else:\n",
    "        return print(\"Busqueda sin resultados\")\n",
    "\n",
    "def validarEntero(entero):\n",
    "    if type(entero) not in (int, float):\n",
    "        return 0\n",
    "    else:\n",
    "        return entero\n",
    "    \n",
    "def numeroPaginas(resultadopagprinc):\n",
    "    link_elems = resultadopagprinc.find_all('div', class_='pg_grid')\n",
    "    #return link_elems\n",
    "    for job_elem in link_elems:\n",
    "        camp_div = job_elem.find('span')\n",
    "        cantidad = camp_div.contents[3]\n",
    "        numero  = cantidad.text.strip()\n",
    "        digito = validarEntero(int(numero))\n",
    "        #digito = convertirNum(numero)\n",
    "        return digito\n",
    "\n",
    "    \n",
    "def buscardatpaginaVacante(bsoup, listadescrip):\n",
    "    \n",
    "    desc_div = bsoup.find_all('div', class_='bgBlueMbl w_100 fl mt20 mt0_r')\n",
    "    cont = 0\n",
    "    for divs in desc_div:       \n",
    "        desc_articulo = divs.find('article', class_='cm-8 fl p0 w100_r')  \n",
    "        desc_section = divs.find('section', class_='boxWhite fl w_100 detail_of mb20 bWord')  \n",
    "        descripcionul = divs.find('ul', class_=\"p0 m0\") \n",
    "        \n",
    "        datdescrip = descripcionul.find_all(\"li\")[1]  \n",
    "        listadescrip.append(datdescrip.text)\n",
    "    return listadescrip\n"
   ]
  },
  {
   "cell_type": "code",
   "execution_count": 3,
   "id": "iraqi-reconstruction",
   "metadata": {},
   "outputs": [],
   "source": [
    "listagenurl=[]\n",
    "listadescrip = []\n",
    "#primer parametro ubicacion, segundo el trabajo a buscar\n",
    "pagina = scrape_jobs(\"Bogota\",\"Analista de datos\")\n",
    "data = pd.DataFrame ()\n",
    "#pd.set_option(\"max_colwidth\", None)\n",
    "#cantidad de paginas\n",
    "conteopag = numeroPaginas(pagina[0])\n",
    "if conteopag == None:\n",
    "    print(\"No hay resultados de busqueda\")\n",
    "else:\n",
    "    linkPrimariosPaginacion(conteopag, f\"https://www.computrabajo.com.co/trabajo-de-{pagina[1]}-en-{pagina[2]}?p=\", pagina[3], listagenurl, listadescrip)\n",
    "    \n",
    "data[\"link\"] = listagenurl\n",
    "data[\"descripcion\"] = listadescrip\n"
   ]
  },
  {
   "cell_type": "code",
   "execution_count": 4,
   "id": "designing-nurse",
   "metadata": {},
   "outputs": [],
   "source": [
    "data.to_csv(r'C:\\ArchivoNLP.csv', encoding='utf-8-sig')"
   ]
  },
  {
   "cell_type": "markdown",
   "id": "portuguese-easter",
   "metadata": {},
   "source": [
    "### Desafios \n",
    "\n",
    "1. La cantidad de opciones en la que se puede escribir una ciudad. Ejemplo: Bogota, bogotá, Bogotá, BOGOTA DC.\n",
    "2. Para un empleo se pueden tener mas de una hoja de vacantes en computrabajo. \"Cada hoja contiene 20 vacantes\".\n",
    "3. Si el empleo que se busca no trae resultado.\n",
    "4. Al recorrer el codigo HTML sobre la pagina de computrabajo, el scraping devuelve multiples etiquetas para las vacantes.\n",
    "5. Al tener varios ciclos, se retornan varias instancias de las listas lo cual nos afectó para crear el DataFrame\n",
    "6. Desventajas: Como no tenemos etiquetas, vamos a utilizar K-means para ver la similitud de el perfil vs la vacante"
   ]
  },
  {
   "cell_type": "code",
   "execution_count": 6,
   "id": "personalized-participant",
   "metadata": {},
   "outputs": [
    {
     "data": {
      "text/html": [
       "<div>\n",
       "<style scoped>\n",
       "    .dataframe tbody tr th:only-of-type {\n",
       "        vertical-align: middle;\n",
       "    }\n",
       "\n",
       "    .dataframe tbody tr th {\n",
       "        vertical-align: top;\n",
       "    }\n",
       "\n",
       "    .dataframe thead th {\n",
       "        text-align: right;\n",
       "    }\n",
       "</style>\n",
       "<table border=\"1\" class=\"dataframe\">\n",
       "  <thead>\n",
       "    <tr style=\"text-align: right;\">\n",
       "      <th></th>\n",
       "      <th>Unnamed: 0</th>\n",
       "      <th>link</th>\n",
       "      <th>descripcion</th>\n",
       "    </tr>\n",
       "  </thead>\n",
       "  <tbody>\n",
       "    <tr>\n",
       "      <th>0</th>\n",
       "      <td>0</td>\n",
       "      <td>https://www.computrabajo.com.co/ofertas-de-tra...</td>\n",
       "      <td>Importante empresa  del sector de consultoría ...</td>\n",
       "    </tr>\n",
       "    <tr>\n",
       "      <th>1</th>\n",
       "      <td>1</td>\n",
       "      <td>https://www.computrabajo.com.co/ofertas-de-tra...</td>\n",
       "      <td>Importante empresa  del sector de consultoría ...</td>\n",
       "    </tr>\n",
       "    <tr>\n",
       "      <th>2</th>\n",
       "      <td>2</td>\n",
       "      <td>https://www.computrabajo.com.co/ofertas-de-tra...</td>\n",
       "      <td>Reconocida empresa Contac Center, se encuentra...</td>\n",
       "    </tr>\n",
       "    <tr>\n",
       "      <th>3</th>\n",
       "      <td>3</td>\n",
       "      <td>https://www.computrabajo.com.co/ofertas-de-tra...</td>\n",
       "      <td>Reconocida empresa Contac Center, se encuentra...</td>\n",
       "    </tr>\n",
       "    <tr>\n",
       "      <th>4</th>\n",
       "      <td>4</td>\n",
       "      <td>https://www.computrabajo.com.co/ofertas-de-tra...</td>\n",
       "      <td>Importante compañía requiere Profesionales en ...</td>\n",
       "    </tr>\n",
       "    <tr>\n",
       "      <th>...</th>\n",
       "      <td>...</td>\n",
       "      <td>...</td>\n",
       "      <td>...</td>\n",
       "    </tr>\n",
       "    <tr>\n",
       "      <th>86</th>\n",
       "      <td>86</td>\n",
       "      <td>https://www.computrabajo.com.co/ofertas-de-tra...</td>\n",
       "      <td>Cargo: Big data estratégicoSalario: $2.500.000...</td>\n",
       "    </tr>\n",
       "    <tr>\n",
       "      <th>87</th>\n",
       "      <td>87</td>\n",
       "      <td>https://www.computrabajo.com.co/ofertas-de-tra...</td>\n",
       "      <td>Cargo: Big data estratégicoSalario: $2.500.000...</td>\n",
       "    </tr>\n",
       "    <tr>\n",
       "      <th>88</th>\n",
       "      <td>88</td>\n",
       "      <td>https://www.computrabajo.com.co/ofertas-de-tra...</td>\n",
       "      <td>Cargo: Big data estratégicoSalario: $2.500.000...</td>\n",
       "    </tr>\n",
       "    <tr>\n",
       "      <th>89</th>\n",
       "      <td>89</td>\n",
       "      <td>https://www.computrabajo.com.co/ofertas-de-tra...</td>\n",
       "      <td>Importante empresa multinacional ubicada al no...</td>\n",
       "    </tr>\n",
       "    <tr>\n",
       "      <th>90</th>\n",
       "      <td>90</td>\n",
       "      <td>https://www.computrabajo.com.co/ofertas-de-tra...</td>\n",
       "      <td>Importante empresa requiere profesional en Ing...</td>\n",
       "    </tr>\n",
       "  </tbody>\n",
       "</table>\n",
       "<p>91 rows × 3 columns</p>\n",
       "</div>"
      ],
      "text/plain": [
       "    Unnamed: 0                                               link  \\\n",
       "0            0  https://www.computrabajo.com.co/ofertas-de-tra...   \n",
       "1            1  https://www.computrabajo.com.co/ofertas-de-tra...   \n",
       "2            2  https://www.computrabajo.com.co/ofertas-de-tra...   \n",
       "3            3  https://www.computrabajo.com.co/ofertas-de-tra...   \n",
       "4            4  https://www.computrabajo.com.co/ofertas-de-tra...   \n",
       "..         ...                                                ...   \n",
       "86          86  https://www.computrabajo.com.co/ofertas-de-tra...   \n",
       "87          87  https://www.computrabajo.com.co/ofertas-de-tra...   \n",
       "88          88  https://www.computrabajo.com.co/ofertas-de-tra...   \n",
       "89          89  https://www.computrabajo.com.co/ofertas-de-tra...   \n",
       "90          90  https://www.computrabajo.com.co/ofertas-de-tra...   \n",
       "\n",
       "                                          descripcion  \n",
       "0   Importante empresa  del sector de consultoría ...  \n",
       "1   Importante empresa  del sector de consultoría ...  \n",
       "2   Reconocida empresa Contac Center, se encuentra...  \n",
       "3   Reconocida empresa Contac Center, se encuentra...  \n",
       "4   Importante compañía requiere Profesionales en ...  \n",
       "..                                                ...  \n",
       "86  Cargo: Big data estratégicoSalario: $2.500.000...  \n",
       "87  Cargo: Big data estratégicoSalario: $2.500.000...  \n",
       "88  Cargo: Big data estratégicoSalario: $2.500.000...  \n",
       "89  Importante empresa multinacional ubicada al no...  \n",
       "90  Importante empresa requiere profesional en Ing...  \n",
       "\n",
       "[91 rows x 3 columns]"
      ]
     },
     "execution_count": 6,
     "metadata": {},
     "output_type": "execute_result"
    }
   ],
   "source": [
    "df = pd.read_csv(\"C:/ArchivoNLP.csv\")\n",
    "df"
   ]
  },
  {
   "cell_type": "code",
   "execution_count": 7,
   "id": "mental-commodity",
   "metadata": {},
   "outputs": [],
   "source": [
    "stopwords_sp = stopwords.words('spanish')\n",
    "\n",
    "from sklearn.model_selection import train_test_split\n",
    "\n",
    "train, test = train_test_split(df, test_size=0.2, random_state=42)\n",
    "\n",
    "def pre_procesado(texto):\n",
    "    texto = texto.lower()\n",
    "    texto = re.sub(r\"[\\W\\d_]+\", \" \", texto)\n",
    "    texto = texto.split() # Tokenizar\n",
    "    texto = [palabra for palabra in texto if palabra not in stopwords_sp]\n",
    "    texto = \" \".join(texto)\n",
    "    return texto\n",
    "\n",
    "tfidf_vect = TfidfVectorizer(preprocessor=pre_procesado)\n",
    "tfidf = tfidf_vect.fit_transform(df.descripcion.values)\n",
    "tfidf_matrix = pd.DataFrame(tfidf.toarray(), columns = tfidf_vect.get_feature_names())"
   ]
  },
  {
   "cell_type": "code",
   "execution_count": 8,
   "id": "outside-telling",
   "metadata": {},
   "outputs": [
    {
     "name": "stderr",
     "output_type": "stream",
     "text": [
      "C:\\Users\\Memo\\anaconda3\\lib\\site-packages\\sklearn\\cluster\\_kmeans.py:881: UserWarning:\n",
      "\n",
      "KMeans is known to have a memory leak on Windows with MKL, when there are less chunks than available threads. You can avoid it by setting the environment variable OMP_NUM_THREADS=1.\n",
      "\n"
     ]
    }
   ],
   "source": [
    "ks = []\n",
    "k_inertias = []\n",
    "\n",
    "for k in range(1,30):\n",
    "    kmeans = KMeans(n_clusters=k).fit(tfidf_matrix)\n",
    "    k_inertia = kmeans.inertia_\n",
    "    \n",
    "    ks.append(k)\n",
    "    k_inertias.append(k_inertia)"
   ]
  },
  {
   "cell_type": "code",
   "execution_count": 9,
   "id": "ultimate-woman",
   "metadata": {},
   "outputs": [
    {
     "data": {
      "image/png": "[encoded data removed]",
      "text/plain": [
       "<Figure size 432x288 with 1 Axes>"
      ]
     },
     "metadata": {
      "needs_background": "light"
     },
     "output_type": "display_data"
    }
   ],
   "source": [
    "# list(zip(ks,k_inertias))\n",
    "\n",
    "plt.xlabel(\"Número de cúmulos\")\n",
    "plt.ylabel(\"Inercia\")\n",
    "plt.title(\"Método del codo\")\n",
    "plt.plot(ks, k_inertias, 'bx-');"
   ]
  },
  {
   "cell_type": "code",
   "execution_count": 10,
   "id": "qualified-suggestion",
   "metadata": {},
   "outputs": [
    {
     "data": {
      "text/plain": [
       "KMeans(n_clusters=5)"
      ]
     },
     "execution_count": 10,
     "metadata": {},
     "output_type": "execute_result"
    }
   ],
   "source": [
    "k = 5\n",
    "model = KMeans(n_clusters=k)\n",
    "model.fit(tfidf_matrix)"
   ]
  },
  {
   "cell_type": "code",
   "execution_count": 11,
   "id": "mexican-booking",
   "metadata": {},
   "outputs": [
    {
     "data": {
      "text/html": [
       "<div>\n",
       "<style scoped>\n",
       "    .dataframe tbody tr th:only-of-type {\n",
       "        vertical-align: middle;\n",
       "    }\n",
       "\n",
       "    .dataframe tbody tr th {\n",
       "        vertical-align: top;\n",
       "    }\n",
       "\n",
       "    .dataframe thead th {\n",
       "        text-align: right;\n",
       "    }\n",
       "</style>\n",
       "<table border=\"1\" class=\"dataframe\">\n",
       "  <thead>\n",
       "    <tr style=\"text-align: right;\">\n",
       "      <th></th>\n",
       "      <th>Unnamed: 0</th>\n",
       "      <th>link</th>\n",
       "      <th>descripcion</th>\n",
       "      <th>cluster</th>\n",
       "    </tr>\n",
       "  </thead>\n",
       "  <tbody>\n",
       "    <tr>\n",
       "      <th>0</th>\n",
       "      <td>0</td>\n",
       "      <td>https://www.computrabajo.com.co/ofertas-de-tra...</td>\n",
       "      <td>Importante empresa  del sector de consultoría ...</td>\n",
       "      <td>1</td>\n",
       "    </tr>\n",
       "    <tr>\n",
       "      <th>1</th>\n",
       "      <td>1</td>\n",
       "      <td>https://www.computrabajo.com.co/ofertas-de-tra...</td>\n",
       "      <td>Importante empresa  del sector de consultoría ...</td>\n",
       "      <td>1</td>\n",
       "    </tr>\n",
       "    <tr>\n",
       "      <th>2</th>\n",
       "      <td>2</td>\n",
       "      <td>https://www.computrabajo.com.co/ofertas-de-tra...</td>\n",
       "      <td>Reconocida empresa Contac Center, se encuentra...</td>\n",
       "      <td>1</td>\n",
       "    </tr>\n",
       "    <tr>\n",
       "      <th>3</th>\n",
       "      <td>3</td>\n",
       "      <td>https://www.computrabajo.com.co/ofertas-de-tra...</td>\n",
       "      <td>Reconocida empresa Contac Center, se encuentra...</td>\n",
       "      <td>1</td>\n",
       "    </tr>\n",
       "    <tr>\n",
       "      <th>4</th>\n",
       "      <td>4</td>\n",
       "      <td>https://www.computrabajo.com.co/ofertas-de-tra...</td>\n",
       "      <td>Importante compañía requiere Profesionales en ...</td>\n",
       "      <td>2</td>\n",
       "    </tr>\n",
       "    <tr>\n",
       "      <th>...</th>\n",
       "      <td>...</td>\n",
       "      <td>...</td>\n",
       "      <td>...</td>\n",
       "      <td>...</td>\n",
       "    </tr>\n",
       "    <tr>\n",
       "      <th>86</th>\n",
       "      <td>86</td>\n",
       "      <td>https://www.computrabajo.com.co/ofertas-de-tra...</td>\n",
       "      <td>Cargo: Big data estratégicoSalario: $2.500.000...</td>\n",
       "      <td>3</td>\n",
       "    </tr>\n",
       "    <tr>\n",
       "      <th>87</th>\n",
       "      <td>87</td>\n",
       "      <td>https://www.computrabajo.com.co/ofertas-de-tra...</td>\n",
       "      <td>Cargo: Big data estratégicoSalario: $2.500.000...</td>\n",
       "      <td>3</td>\n",
       "    </tr>\n",
       "    <tr>\n",
       "      <th>88</th>\n",
       "      <td>88</td>\n",
       "      <td>https://www.computrabajo.com.co/ofertas-de-tra...</td>\n",
       "      <td>Cargo: Big data estratégicoSalario: $2.500.000...</td>\n",
       "      <td>3</td>\n",
       "    </tr>\n",
       "    <tr>\n",
       "      <th>89</th>\n",
       "      <td>89</td>\n",
       "      <td>https://www.computrabajo.com.co/ofertas-de-tra...</td>\n",
       "      <td>Importante empresa multinacional ubicada al no...</td>\n",
       "      <td>1</td>\n",
       "    </tr>\n",
       "    <tr>\n",
       "      <th>90</th>\n",
       "      <td>90</td>\n",
       "      <td>https://www.computrabajo.com.co/ofertas-de-tra...</td>\n",
       "      <td>Importante empresa requiere profesional en Ing...</td>\n",
       "      <td>3</td>\n",
       "    </tr>\n",
       "  </tbody>\n",
       "</table>\n",
       "<p>91 rows × 4 columns</p>\n",
       "</div>"
      ],
      "text/plain": [
       "    Unnamed: 0                                               link  \\\n",
       "0            0  https://www.computrabajo.com.co/ofertas-de-tra...   \n",
       "1            1  https://www.computrabajo.com.co/ofertas-de-tra...   \n",
       "2            2  https://www.computrabajo.com.co/ofertas-de-tra...   \n",
       "3            3  https://www.computrabajo.com.co/ofertas-de-tra...   \n",
       "4            4  https://www.computrabajo.com.co/ofertas-de-tra...   \n",
       "..         ...                                                ...   \n",
       "86          86  https://www.computrabajo.com.co/ofertas-de-tra...   \n",
       "87          87  https://www.computrabajo.com.co/ofertas-de-tra...   \n",
       "88          88  https://www.computrabajo.com.co/ofertas-de-tra...   \n",
       "89          89  https://www.computrabajo.com.co/ofertas-de-tra...   \n",
       "90          90  https://www.computrabajo.com.co/ofertas-de-tra...   \n",
       "\n",
       "                                          descripcion  cluster  \n",
       "0   Importante empresa  del sector de consultoría ...        1  \n",
       "1   Importante empresa  del sector de consultoría ...        1  \n",
       "2   Reconocida empresa Contac Center, se encuentra...        1  \n",
       "3   Reconocida empresa Contac Center, se encuentra...        1  \n",
       "4   Importante compañía requiere Profesionales en ...        2  \n",
       "..                                                ...      ...  \n",
       "86  Cargo: Big data estratégicoSalario: $2.500.000...        3  \n",
       "87  Cargo: Big data estratégicoSalario: $2.500.000...        3  \n",
       "88  Cargo: Big data estratégicoSalario: $2.500.000...        3  \n",
       "89  Importante empresa multinacional ubicada al no...        1  \n",
       "90  Importante empresa requiere profesional en Ing...        3  \n",
       "\n",
       "[91 rows x 4 columns]"
      ]
     },
     "execution_count": 11,
     "metadata": {},
     "output_type": "execute_result"
    }
   ],
   "source": [
    "df['cluster'] = model.labels_\n",
    "df"
   ]
  },
  {
   "cell_type": "code",
   "execution_count": 12,
   "id": "focal-allocation",
   "metadata": {},
   "outputs": [
    {
     "name": "stdout",
     "output_type": "stream",
     "text": [
      "Cluster # 0\n",
      "Tiene 15 registros (16.48% de los datos)\n",
      "\n",
      "TÉRMINOS MÁS REPRESENTATIVOS\n",
      "base datos administración meses candidatos inscripción inicialmente avanzado ciudad administrador bogotá experiencia analista proceso excel teletrabajo selección motores farma requerimos \n",
      "\n",
      "DOCUMENTOS MÁS REPRESENTATIVOS\n",
      " *** Nos encontramos en búsqueda de un analista de datos (Excel avanzado) Funciones- Apoyo al proceso de inscripción y selección de candidatos, seguimiento a procesos y administración de la base de datos. Perfil- Profesional en ingenieria, administración o similares- Experiencia de 6 meses como administrador de base de datos- Inglés B1 Condiciones- Horario de Lunes a Viernes de 8:00 am a 6:00 pm- Salario $2'000.000- Inicialmente Teletrabajo\n",
      "\n",
      " *** Importante empresa del sector se encuentra en la búsqueda de analista de datos (Excel avanzado) Funciones-Apoyo al proceso de inscripción y selección de candidatos - Seguimiento a procesos - Administración de la base de datos. Perfil-Profesional en ingeniería, administración o similares.-Experiencia de 6 meses como administrador de base de datos.- Nivel de inglés B1- Excelente manejo de Excel  CondicionesHorarios: Lunes -Viernes (8:00 am -6:00 pm)Salario: 2'000.000Inicialmente Teletrabajo ¡ Aplica Ahora ! \n",
      "\n",
      " *** Nos encontramos en búsqueda de un analista de datos (Excel avanzado)FuncionesApoyo al proceso de inscripción y selección de candidatos, seguimiento a procesos y administración de la base de datos.PerfilProfesional en ingenieria, administración o similaresExperiencia de 6 meses como administrador de base de datosInglés B1CondicionesH: L-V (8am -6 pm)S: 2'000.000Inicialmente Teletrabajo\n",
      "\n",
      "\n",
      "********************************************\n",
      "\n",
      "Cluster # 1\n",
      "Tiene 32 registros (35.16% de los datos)\n",
      "\n",
      "TÉRMINOS MÁS REPRESENTATIVOS\n",
      "datos manejo información experiencia análisis excel año am avanzado bases prestaciones viernes lunes informes empresa conocimiento tecnólogo laboral sector horario \n",
      "\n",
      "DOCUMENTOS MÁS REPRESENTATIVOS\n",
      " *** Importante empresa  del sector de consultoría de la ciudad de Bogotá requiere para su equipo de trabajo un Analista de minería de datosFormación académica: Estudiante de últimos semestres o profesionales en estadístico, matemático o Ing. de sistemas  Experiencia: Mínimo 1 a 2 años experiencia en cargos similares o de análisis de datos. Indispensable: - Excel avanzado y Access, conocimiento en software de análisis de datos preferiblemente KNIME Objetivo del cargo: Análisis de información numérica y procesamiento, redacción de informes, información de segmentación, conocimiento en normatividad ISO 31000 y 19600.Horario: Lunes a viernes 8:30am a 5:30pm o 8:00am a 5:00pmSalario: Básico $2.500.000 + prestaciones de ley Contrato a termino Indefinido directamente con la compañía.\n",
      "\n",
      " *** Importante empresa  del sector de consultoría de la ciudad de Bogotá requiere para su equipo de trabajo un Analista de minería de datosFormación académica: Estudiante de últimos semestres o profesionales en estadístico, matemático o Ing. de sistemas  Experiencia: Mínimo 1 a 2 años experiencia en cargos similares o de análisis de datos. Indispensable: - Excel avanzado y Access, conocimiento en software de análisis de datos preferiblemente KNIME Objetivo del cargo: Análisis de información numérica y procesamiento, redacción de informes, información de segmentación, conocimiento en normatividad ISO 31000 y 19600.Horario: Lunes a viernes 8:30am a 5:30pm o 8:00am a 5:00pmSalario: Básico $2.500.000 + prestaciones de ley Contrato a termino Indefinido directamente con la compañía.\n",
      "\n",
      " *** Somos Grupo Nacional de Proyectos GNP líderes en el sector de Telecomunicaciones, Marketing y Tecnología. Nos encontramos en búsqueda de Técnico o Tecnólogo con experiencia mínima de 6 meses en control de indicadores e informes de Contact Center, excelente manejo de Office y bases de datos, experiencia en minería de datos, manejo de power BI, Implementación de informes, Conocimiento de KPI´S Inbound y Outbound, Manejo Excel, Access y o herramientas de análisis.Se ofrece Contrato Obra Labor con todas las prestaciones de ley y directo con la empresa, buen clima laboral y beneficios de bienestar organizacional. Horario de lunes a viernes tiempo completo y sábados medio día. Salario A convenir dependiendo experiencia y manejo de los aplicativos requeridos.  \n",
      "\n",
      "\n",
      "********************************************\n",
      "\n",
      "Cluster # 2\n",
      "Tiene 12 registros (13.19% de los datos)\n",
      "\n",
      "TÉRMINOS MÁS REPRESENTATIVOS\n",
      "datos proyectos profesional migración requisitosformación it experiencia análisis bi convenir industrial empresas ing superior dos multinacional sistemas carreras sector negocio \n",
      "\n",
      "DOCUMENTOS MÁS REPRESENTATIVOS\n",
      " *** Importante Multinacional del sector IT requiere para su equipo de trabajo Analista de Datos Senior con experiencia superior de 3 años participando en proyectos de Business Intelligence, migración de datos en el levantamiento de necesidades del negocio, seguimiento de actividades, y garantizar la entrega de resultados en la fecha esperada.REQUISITOSFormación: Profesional en Ing Industrial o Sistemas o carreras afines y certificación en proyectos de BI, análisis de datos, big dataCondiciones a Convenir  \n",
      "\n",
      " *** Importante Multinacional del sector IT requiere para su equipo de trabajo Analista de Datos Senior con experiencia superior de 5 años participando en proyectos de Business Intelligence, migración de datos en el levantamiento de necesidades del negocio, seguimiento de actividades, y garantizar la entrega de resultados en la fecha esperada.REQUISITOSFormación: Profesional en Ing Industrial o Sistemas o carreras afines y certificación en proyectos de BI, análisis de datos, big dataCondiciones a Convenir  \n",
      "\n",
      " *** Importante Multinacional del sector IT requiere para su equipo de trabajo Analista de Datos Junior con experiencia superior de 6 meses en Migración de Datos en la construcción de tablas de homologación de datos maestros entre dos sistemas transaccionales.REQUISITOSFormación: Profesional en Ing Industrial o Sistemas, Admin de Empresas o afinesConocimientos de manejo de información, excel, bases de datos, familiarizado con aplicaciones corporativas, análisis de datosExperiencia: 6 mesesCondiciones a Convenir\n",
      "\n",
      "\n",
      "********************************************\n",
      "\n",
      "Cluster # 3\n",
      "Tiene 28 registros (30.77% de los datos)\n",
      "\n",
      "TÉRMINOS MÁS REPRESENTATIVOS\n",
      "datos bases sql sistemas conocimientos administración si requiere años data empresa experiencia mínimo ingeniería big server transact lunes trabajo compañía \n",
      "\n",
      "DOCUMENTOS MÁS REPRESENTATIVOS\n",
      " *** Reconocida empresa de mensajería requiere con urgencia para su equipo de trabajo hombres profesionales en ingeniería de sistemas Con especializacion   con experiencia de 3 años mínimo en administración de bases de datos, bases en  diseño, Tunning,, Transact SQL, Reporting Service, Replicación en log shipping y always on, Conocimientos en sistemas de Bases de Datos DB2, Back up y recovery, Troubleshooting, Conocimiento del lenguaje SQL (DML y DDL), bases de datos relacionales, Bases de datos -SQLSalario: 8.000.000  + Prestaciones de LeyHorario: lunes a viernes de 7:00 am a 5:30 pm sábado si la empresa lo requiere Si te encuentras interesado postular hoja de vida\n",
      "\n",
      " *** Reconocida empresa de mensajería requiere con urgencia para su equipo de trabajo hombres profesionales en ingeniería de sistemas Con especializacion   con experiencia de 3 años mínimo en administración de bases de datos, bases en  diseño, Tunning,, Transact SQL, Reporting Service, Replicación en log shipping y always on, Conocimientos en sistemas de Bases de Datos DB2, Back up y recovery, Troubleshooting, Conocimiento del lenguaje SQL (DML y DDL), bases de datos relacionales, Bases de datos -SQLSalario: 6.200.000 + Prestaciones de LeyHorario: lunes a viernes de 7:00 am a 5:30 pm sábado si la empresa lo requiere Si te encuentras interesado postular hoja de vida\n",
      "\n",
      " *** Reconocida empresa de mensajería requiere con urgencia para su equipo de trabajo hombres profesionales en ingeniería de sistemas Con especializacion   con experiencia de 3 años mínimo en administración de bases de datos, bases en  diseño, Tunning,, Transact SQL, Reporting Service, Replicación en log shipping y always on, Conocimientos en sistemas de Bases de Datos DB2, Back up y recovery, Troubleshooting, Conocimiento del lenguaje SQL (DML y DDL), bases de datos relacionales, Bases de datos -SQLSalario: 6.200.000 + Prestaciones de LeyHorario: lunes a viernes de 7:00 am a 5:30 pm sábado si la empresa lo requiere Si te encuentras interesado postular hoja de vida\n",
      "\n",
      "\n",
      "********************************************\n",
      "\n",
      "Cluster # 4\n",
      "Tiene 4 registros (4.40% de los datos)\n",
      "\n",
      "TÉRMINOS MÁS REPRESENTATIVOS\n",
      "etc informes consultar analisis proporcionar especiales coberturas brindar sku pedidos visibilidad ingles específicos powerbi necesaria nuevos actualizar generar creación diferentes \n",
      "\n",
      "DOCUMENTOS MÁS REPRESENTATIVOS\n",
      " *** 1. Consultar y proporcionar la información necesaria para la creación de nuevos SKU, etc.Generar y actualizar diferentes informes para brindar visibilidad como Seguimiento de pedidos, Coberturas, etc. 2. Actualización de informes específicos para proyectos especiales 3. Analisis de reportes de informacion4. Conocimiento de Excel Avanzado, powerBI,  Ingles Intermedio\n",
      "\n",
      " *** 1. Consultar y proporcionar la información necesaria para la creación de nuevos SKU, etc.Generar y actualizar diferentes informes para brindar visibilidad como Seguimiento de pedidos, Coberturas, etc. 2. Actualización de informes específicos para proyectos especiales 3. Analisis de reportes de informacion4. Conocimiento de Excel Avanzado, powerBI,  Ingles Intermedio\n",
      "\n",
      " *** Consultar y proporcionar la información necesaria para la creación de nuevos SKU, etc.Generar y actualizar diferentes informes para brindar visibilidad como Seguimiento de pedidos, Coberturas, etc.Actualización de informes específicos para proyectos especiales Analisis de reportes de informacionConocimiento de Excel Avanzado, powerBI,  Ingles Intermedio\n",
      "\n",
      "\n",
      "********************************************\n",
      "\n"
     ]
    }
   ],
   "source": [
    "nbrs = NearestNeighbors(n_neighbors=3, metric='euclidean').fit(tfidf_matrix.values)\n",
    "\n",
    "clust_cnt = df['cluster'].value_counts()\n",
    "clust_cnt_pct = df['cluster'].value_counts(normalize=True)\n",
    "\n",
    "centroids = model.cluster_centers_\n",
    "\n",
    "terms = tfidf_vect.get_feature_names()\n",
    "order_centroids = centroids.argsort()[:, ::-1]\n",
    "\n",
    "for i in range(k):\n",
    "    print(f\"Cluster # {i}\")\n",
    "    print(f\"Tiene {clust_cnt[i]} registros ({clust_cnt_pct[i]:.2%} de los datos)\")\n",
    "    print()\n",
    "    \n",
    "    print(\"TÉRMINOS MÁS REPRESENTATIVOS\")\n",
    "    for ind in order_centroids[i][:20]:\n",
    "        print(terms[ind], end=\" \")\n",
    "    print()\n",
    "    print()\n",
    "    \n",
    "    print(f\"DOCUMENTOS MÁS REPRESENTATIVOS\")\n",
    "    for vecino in df.iloc[nbrs.kneighbors([centroids[i]])[1][0]].descripcion.values:\n",
    "        print(f\" *** {vecino}\")\n",
    "        print()\n",
    "        \n",
    "    print()\n",
    "    print(\"********************************************\")\n",
    "    print()"
   ]
  },
  {
   "cell_type": "code",
   "execution_count": 13,
   "id": "naked-solid",
   "metadata": {},
   "outputs": [
    {
     "data": {
      "text/html": [
       "<div>\n",
       "<style scoped>\n",
       "    .dataframe tbody tr th:only-of-type {\n",
       "        vertical-align: middle;\n",
       "    }\n",
       "\n",
       "    .dataframe tbody tr th {\n",
       "        vertical-align: top;\n",
       "    }\n",
       "\n",
       "    .dataframe thead th {\n",
       "        text-align: right;\n",
       "    }\n",
       "</style>\n",
       "<table border=\"1\" class=\"dataframe\">\n",
       "  <thead>\n",
       "    <tr style=\"text-align: right;\">\n",
       "      <th></th>\n",
       "      <th>Unnamed: 0</th>\n",
       "      <th>link</th>\n",
       "      <th>descripcion</th>\n",
       "      <th>cluster</th>\n",
       "      <th>nombres_clusters</th>\n",
       "    </tr>\n",
       "  </thead>\n",
       "  <tbody>\n",
       "    <tr>\n",
       "      <th>79</th>\n",
       "      <td>79</td>\n",
       "      <td>https://www.computrabajo.com.co/ofertas-de-tra...</td>\n",
       "      <td>Servicios Médicos Vital Health Requiere de man...</td>\n",
       "      <td>3</td>\n",
       "      <td>4</td>\n",
       "    </tr>\n",
       "    <tr>\n",
       "      <th>7</th>\n",
       "      <td>7</td>\n",
       "      <td>https://www.computrabajo.com.co/ofertas-de-tra...</td>\n",
       "      <td>Entidad financiera requiere profesional en Ing...</td>\n",
       "      <td>1</td>\n",
       "      <td>2</td>\n",
       "    </tr>\n",
       "    <tr>\n",
       "      <th>48</th>\n",
       "      <td>48</td>\n",
       "      <td>https://www.computrabajo.com.co/ofertas-de-tra...</td>\n",
       "      <td>Nos encontramos en la búsqueda de un ANALISTA ...</td>\n",
       "      <td>1</td>\n",
       "      <td>2</td>\n",
       "    </tr>\n",
       "    <tr>\n",
       "      <th>81</th>\n",
       "      <td>81</td>\n",
       "      <td>https://www.computrabajo.com.co/ofertas-de-tra...</td>\n",
       "      <td>Empresa de telecomunicaciones ubicada en Tober...</td>\n",
       "      <td>1</td>\n",
       "      <td>2</td>\n",
       "    </tr>\n",
       "    <tr>\n",
       "      <th>2</th>\n",
       "      <td>2</td>\n",
       "      <td>https://www.computrabajo.com.co/ofertas-de-tra...</td>\n",
       "      <td>Reconocida empresa Contac Center, se encuentra...</td>\n",
       "      <td>1</td>\n",
       "      <td>2</td>\n",
       "    </tr>\n",
       "  </tbody>\n",
       "</table>\n",
       "</div>"
      ],
      "text/plain": [
       "    Unnamed: 0                                               link  \\\n",
       "79          79  https://www.computrabajo.com.co/ofertas-de-tra...   \n",
       "7            7  https://www.computrabajo.com.co/ofertas-de-tra...   \n",
       "48          48  https://www.computrabajo.com.co/ofertas-de-tra...   \n",
       "81          81  https://www.computrabajo.com.co/ofertas-de-tra...   \n",
       "2            2  https://www.computrabajo.com.co/ofertas-de-tra...   \n",
       "\n",
       "                                          descripcion  cluster  \\\n",
       "79  Servicios Médicos Vital Health Requiere de man...        3   \n",
       "7   Entidad financiera requiere profesional en Ing...        1   \n",
       "48  Nos encontramos en la búsqueda de un ANALISTA ...        1   \n",
       "81  Empresa de telecomunicaciones ubicada en Tober...        1   \n",
       "2   Reconocida empresa Contac Center, se encuentra...        1   \n",
       "\n",
       "   nombres_clusters  \n",
       "79                4  \n",
       "7                 2  \n",
       "48                2  \n",
       "81                2  \n",
       "2                 2  "
      ]
     },
     "execution_count": 13,
     "metadata": {},
     "output_type": "execute_result"
    }
   ],
   "source": [
    "clusters = {0: '1',\n",
    "            1: '2',\n",
    "            2: '3',\n",
    "            3: '4',\n",
    "            4: '5'}     \n",
    "\n",
    "df['nombres_clusters'] = df['cluster'].apply(lambda val: clusters[val])\n",
    "df.sample(5)"
   ]
  },
  {
   "cell_type": "code",
   "execution_count": 14,
   "id": "minimal-discount",
   "metadata": {},
   "outputs": [
    {
     "data": {
      "text/html": [
       "<div>\n",
       "<style scoped>\n",
       "    .dataframe tbody tr th:only-of-type {\n",
       "        vertical-align: middle;\n",
       "    }\n",
       "\n",
       "    .dataframe tbody tr th {\n",
       "        vertical-align: top;\n",
       "    }\n",
       "\n",
       "    .dataframe thead th {\n",
       "        text-align: right;\n",
       "    }\n",
       "</style>\n",
       "<table border=\"1\" class=\"dataframe\">\n",
       "  <thead>\n",
       "    <tr style=\"text-align: right;\">\n",
       "      <th></th>\n",
       "      <th>X</th>\n",
       "      <th>Y</th>\n",
       "      <th>cluster</th>\n",
       "      <th>texto</th>\n",
       "      <th>colores</th>\n",
       "    </tr>\n",
       "  </thead>\n",
       "  <tbody>\n",
       "    <tr>\n",
       "      <th>0</th>\n",
       "      <td>-0.000290</td>\n",
       "      <td>0.034309</td>\n",
       "      <td>2</td>\n",
       "      <td>Importante empresa  del sector de consultoría ...</td>\n",
       "      <td>red</td>\n",
       "    </tr>\n",
       "    <tr>\n",
       "      <th>1</th>\n",
       "      <td>-0.000290</td>\n",
       "      <td>0.034309</td>\n",
       "      <td>2</td>\n",
       "      <td>Importante empresa  del sector de consultoría ...</td>\n",
       "      <td>red</td>\n",
       "    </tr>\n",
       "    <tr>\n",
       "      <th>2</th>\n",
       "      <td>0.074531</td>\n",
       "      <td>0.023593</td>\n",
       "      <td>2</td>\n",
       "      <td>Reconocida empresa Contac Center, se encuentra...</td>\n",
       "      <td>red</td>\n",
       "    </tr>\n",
       "    <tr>\n",
       "      <th>3</th>\n",
       "      <td>0.074531</td>\n",
       "      <td>0.023593</td>\n",
       "      <td>2</td>\n",
       "      <td>Reconocida empresa Contac Center, se encuentra...</td>\n",
       "      <td>red</td>\n",
       "    </tr>\n",
       "    <tr>\n",
       "      <th>4</th>\n",
       "      <td>-0.042766</td>\n",
       "      <td>-0.073090</td>\n",
       "      <td>3</td>\n",
       "      <td>Importante compañía requiere Profesionales en ...</td>\n",
       "      <td>blue</td>\n",
       "    </tr>\n",
       "  </tbody>\n",
       "</table>\n",
       "</div>"
      ],
      "text/plain": [
       "          X         Y cluster  \\\n",
       "0 -0.000290  0.034309       2   \n",
       "1 -0.000290  0.034309       2   \n",
       "2  0.074531  0.023593       2   \n",
       "3  0.074531  0.023593       2   \n",
       "4 -0.042766 -0.073090       3   \n",
       "\n",
       "                                               texto colores  \n",
       "0  Importante empresa  del sector de consultoría ...     red  \n",
       "1  Importante empresa  del sector de consultoría ...     red  \n",
       "2  Reconocida empresa Contac Center, se encuentra...     red  \n",
       "3  Reconocida empresa Contac Center, se encuentra...     red  \n",
       "4  Importante compañía requiere Profesionales en ...    blue  "
      ]
     },
     "execution_count": 14,
     "metadata": {},
     "output_type": "execute_result"
    }
   ],
   "source": [
    "pca = PCA(n_components=2)\n",
    "\n",
    "result = pca.fit_transform(tfidf_matrix)\n",
    "result = pd.DataFrame(result)\n",
    "result.columns = ['X', 'Y']\n",
    "result['cluster'] = df.nombres_clusters.values\n",
    "result['texto'] = df.descripcion.apply(lambda val: val[:140])\n",
    "\n",
    "colorsIdx = {'1': 'orange',\n",
    "             '2': 'red',\n",
    "             '3': 'blue',\n",
    "             '4': 'green',\n",
    "             '5': 'black'}\n",
    "            \n",
    "\n",
    "result['colores'] = result['cluster'].map(colorsIdx)\n",
    "\n",
    "\n",
    "result.head()"
   ]
  },
  {
   "cell_type": "code",
   "execution_count": 16,
   "id": "abstract-parliament",
   "metadata": {},
   "outputs": [
    {
     "data": {
      "application/vnd.plotly.v1+json": {
       "config": {
        "linkText": "Export to plot.ly",
        "plotlyServerURL": "https://plot.ly",
        "showLink": false
       },
       "data": [
        {
         "marker": {
          "color": [
           "red",
           "red",
           "red",
           "red",
           "blue",
           "red",
           "blue",
           "red",
           "red",
           "green",
           "blue",
           "green",
           "blue",
           "red",
           "orange",
           "red",
           "red",
           "red",
           "orange",
           "green",
           "red",
           "red",
           "red",
           "green",
           "green",
           "blue",
           "green",
           "green",
           "orange",
           "orange",
           "orange",
           "red",
           "orange",
           "green",
           "green",
           "orange",
           "blue",
           "orange",
           "red",
           "red",
           "red",
           "orange",
           "red",
           "red",
           "green",
           "red",
           "red",
           "green",
           "red",
           "red",
           "green",
           "red",
           "green",
           "green",
           "green",
           "blue",
           "red",
           "blue",
           "green",
           "orange",
           "orange",
           "orange",
           "orange",
           "blue",
           "orange",
           "red",
           "green",
           "blue",
           "blue",
           "green",
           "red",
           "green",
           "orange",
           "green",
           "blue",
           "green",
           "green",
           "red",
           "green",
           "green",
           "red",
           "red",
           "black",
           "black",
           "black",
           "black",
           "green",
           "green",
           "green",
           "red",
           "green"
          ]
         },
         "mode": "markers",
         "text": [
          "Importante empresa  del sector de consultoría de la ciudad de Bogotá requiere para su equipo de trabajo un Analista de minería de datosForma",
          "Importante empresa  del sector de consultoría de la ciudad de Bogotá requiere para su equipo de trabajo un Analista de minería de datosForma",
          "Reconocida empresa Contac Center, se encuentra en búsqueda de analista Análisis de KPI´s Reportes - con 1 año de experiencia. Preparar, anal",
          "Reconocida empresa Contac Center, se encuentra en búsqueda de analista Análisis de KPI´s Reportes - con 1 año de experiencia. Preparar, anal",
          "Importante compañía requiere Profesionales en – Tecnología o Ingeniería de Sistematización de datos / Estadística o Matemática. con experien",
          "#TrabajoSiHayMultinacional solicita para su equipo de trabajo DATAMARSHALL - ANALISTA DE BASES DE DATOS CALL CENTER en Bogotá, con experienc",
          "Importante Multinacional del sector IT requiere para su equipo de trabajo Analista de Datos Junior con experiencia superior de 6 meses en Mi",
          "Entidad financiera requiere profesional en Ingeniería de Sistemas , Economista, estadístico, matemático, con conocimiento en Estadística , m",
          "Reconocida multinacional de telecomunicaciones requiere para su equipo de trabajo Ingeniero de sistemas o afines, con experiencia mínima de ",
          "Importante compañía Call Center requiere para su equipo de trabajo Analista de datos / Controller con experiencia mínima de 6 meses en call ",
          "BairesDev se enorgullece de ser una de las empresas con más rápido crecimiento de América Latina y un empleador acogedor altamente calificad",
          "Importante compañía Call Center requiere para su equipo de trabajo Analista de datos / Controller con experiencia mínima de 6 meses en call ",
          "Importante compañia BPO requiere para su equipo de trabajo Tecnólogo o profesional en ingenierías o carreras administrativas. Experiencia mí",
          "Somos Grupo Nacional de Proyectos GNP líderes en el sector de Telecomunicaciones, Marketing y Tecnología. Nos encontramos en búsqueda de Téc",
          "Reconocida empresa requiere para su equipo de trabajo ingeniero de sistemas  Profesional con  especialización,   4 años de experiencia en: S",
          "Somos Grupo Nacional de Proyectos GNP líderes en el sector de Telecomunicaciones, Marketing y Tecnología. Nos encontramos en búsqueda de Téc",
          "Empresa multinacional española del sector Data Management & Analytics busca para su equipo de trabajo a técnico o estudiante hasta IV semest",
          "Empresa de tecnología requiere Tecnólogo o Estudiante universitario de últimos semestres de sistemas o carreras administrativas; Manejo de p",
          "Requerimos para nuestro equipo de trabajo Analista de datos con experiencia mínima de 1 año en manejo de Excel avanzado preferiblemente cono",
          "Reconocida empresa de telecomunicaciones solicita para su equipo de trabajo WORKFORCE, encargado de analizar, controlar y optimizar las capa",
          "Empresa del sector bebidas requiere analista de ventas encargado de Analizar, programar y hacer seguimiento a los datos de ventas con el fin",
          "Se requiere profesional en Ingeniería Industrial o áreas afines con experiencia de 2 años en manejo de bases de datos; análisis de bases de ",
          "Importante multinacional de telecomunicaciones dedicada al servicio de call center requiere para su equipo de trabajo Datamarshall o  Analis",
          "Importante empresa de alimentos requiere para su equipo analista  de datos con experiencia  en manejo de bases datos al sistema, manejo alfa",
          "Empresa del sector TI requiere Analista de datos con experiencia en:Experiencia de soporte de usuarios Manejo de Excel  avanzado Manejo de b",
          "Prestigiosa compañía del sector farmacéutico, se encuentra en búsqueda de Profesionales en  Administración de empresas, Finanzas, Marketing ",
          "Reconocida empresa de mensajería requiere con urgencia para su equipo de trabajo hombres profesionales en ingeniería de sistemas Con especia",
          "Reconocida empresa solicita ANALISTA SENIOR ARQUITECTURA DE DATOS,  Ingeniero de sistemas, electrónico o afines, debe tener mínimo 2 años de",
          "Reconocido laboratorio Farmacéutico ubicado en puente requiere para su equipo de trabajo Tecnologo en Regencia Farmacia o estudiante mínimo ",
          "Reconocido laboratorio Farmacéutico ubicado en puente requiere para su equipo de trabajo Tecnologo en Regencia Farmacia o estudiante mínimo ",
          "Reconocido laboratorio Farmacéutico ubicado en puente aranda requiere para su equipo de trabajo Tecnologo en Regencia Farmacia o estudiante ",
          "Empresa del sector transporte requiere profesional en Ingeniería de Sistemas, Ingeniería Electrónica, Ingeniería Eléctrica o Ingeniería Meca",
          "Requerimos para nuestro equipo de trabajo Analista de datos con experiencia mínima de 1 año en manejo de Excel avanzado preferiblemente cono",
          "Ingeniero en Sistemas, con conocimientos en administración y desarrollo en bases de datos SQL Server (Triggers, procedimientos almacenados, ",
          "Profesional en ingeniería de sistemas, electrónica o carreras afines con mínimo 1 año de experiencia con conocimientos administración de bas",
          "Requerimos para nuestro equipo de trabao analista de Datosl con experiencia mínima de 1 año en manejo de Excel avanzado preferiblemente cono",
          "Empresa de servicios tecnológicos y outsourcing requiere profesional en Ingeniería Industrial, Administración de Empresas, Contaduría, Finan",
          "Importante Contact Center Ubicado en la ciudad de Bogotá busca para si equipo de trabajo Analista base de datos con experiencia de un 1 año ",
          "Reconocido operador del sector Salud requiere para su equipo de trabajo Ingeniero Industrial.  Horario de contribución de Lunes a Viernes de",
          "Limpieza, Estandarización, Unificación de datos con bases Excel y MySQL, experiencia mínima de un año en estos programas demostrables. Pacie",
          "Prestigiosa entidad solicita Analista de inteligencia de negocios - Cientifico de datos que cuente con 3 años de experiencia Minería de dato",
          "Reconocida empresa de telecomunicaciones requieres para su equipo de trabajo Analista base de datos con 2 años de experiencia en el cargo, e",
          "importante empresa del sector financieroRequiere analista de bases de datos en excel avanzadoDebe contar con un año de experiencia en VISUAL",
          "Importante empresa del sector se encuentra en búsqueda de tecnólogo o profesional en sistemas o tecnología de la información con experiencia",
          "Importante compañía del sector logístico requiere Profesional en ingeniería de sistemas o afines especializado en programación o bases de da",
          "Reconocida entidad del sector bancario requiere para su equipo de trabajo Analista de inteligencia de negocios - Cientifico de datos que cue",
          "Objetivo: Elaborar informes y estadísticas, con el fin de monitorear el adecuado funcionamiento del negocio, teniendo en cuenta los indicado",
          "Reconocida empresa de mensajería requiere con urgencia para su equipo de trabajo hombres profesionales en ingeniería de sistemas Con especia",
          "Nos encontramos en la búsqueda de un ANALISTA DE DATOSTécnico y/o Estudiante de mínimo VI semestre de carreras administrativas, de analítica",
          "Importante empresa prestadora de servicios se encuentra en búsqueda de Oficial de Informes y Seguimiento del área comercial, Técnico y/o Est",
          "Reconocida empresa del sector real solicita Analista Base de Datos. Buscamos profesionales en Ingeniería de Sistemas o afines con 2 años de ",
          "Multinacional requiere para su equipo de trabajo Analista de Datos. Experiencia: mínimo 1 año realizando análisis de datos administrativos. ",
          "Profesional en Ingenieria de sistemas,con posgrado temas relacionados con funciones del cargo.\t\"Mínimo tres (3) años deexperiencia en la adm",
          "Empresa de servicios logísticos requiere personal para desempeñarse en el cargo de Analista de Base de DatosIngenieros de sistemas con espec",
          "\"Ingeniero de Sistemas, Electrónico y/o afines , conexperiencia en gestión de datos, deseable Especializacióny/o cursos en gobierno de datos",
          "Importante Multinacional del sector IT requiere para su equipo de trabajo Analista de Datos Senior con experiencia superior de 3 años partic",
          "Importante empresa del sector de telecomunicaciones se encuentra en busqueda de datamarshall, controller con un (1) año de experiencia en el",
          "¿Qué tal un nuevo reto profesional en el 2021?Nuestro equipo de Data está buscando profesionales interesados en la toma de decisiones y el a",
          "¡Tenemos una gran oportunidad para ti!Reconocida empresa requiere para su equipo de trabajo, profesional en Ingeniería de Sistemas o Ingenie",
          "Nos encontramos en búsqueda de un analista de datos (Excel avanzado) Funciones- Apoyo al proceso de inscripción y selección de candidatos, s",
          "Nos encontramos en búsqueda de un analista de datos (Excel avanzado)FuncionesApoyo al proceso de inscripción y selección de candidatos, segu",
          "Nos encontramos en búsqueda de un analista de datos (Excel avanzado)FuncionesApoyo al proceso de inscripción y selección de candidatos, segu",
          "Nos encontramos en búsqueda de un Analista de datos (Excel avanzado)Funciones•\tApoyo al proceso de inscripción y selección de candidatos•\tSe",
          "Importante Multinacional del sector IT requiere para su equipo de trabajo Analista de Datos Junior con experiencia superior de 6 meses en Mi",
          "Importante empresa del sector se encuentra en la búsqueda de analista de datos (Excel avanzado) Funciones-Apoyo al proceso de inscripción y ",
          "Importante IPS a nivel nacional requiere analista de base de datos EXPERTO EN EXCEL; tecnólogo o técnico en ingeniería industrial.Asignación",
          "Reconocida empresa del sector Financiero requiere para su equipo de trabajo profesionales en ingeniería de sistemas o afines que cuenten con",
          "Determinar el potencial de las ventas.Analizar métricas web,  predecir la conducta de los clientes referente a nuestro producto y la tendenc",
          "Empresa del sector logístico requiere profesional en  ingenieria de sistemas o carreras afines, con especialización , cursos en gobierno de ",
          "Reconocida empresa de mensajería requiere con urgencia para su equipo de trabajo hombres profesionales en ingeniería de sistemas Con especia",
          "Importante multinacional del sector  requiere para su equipo de trabajo Back office CALL CENTER.Si eres técnico, tecnológo o profesional en ",
          "Importante empresa del sector de telecomunicaciones requiere para su equipo de trabajo Analista de Incidencias para realizar funciones como:",
          "Haz parte de nuestro equipo y vive experiencias ¡únicas y memorables! Buscamos personas como tú, dinámicas, proactivas y apasionadas, si cum",
          "Se requiere de manera inmediata profesional en Ingeniera de Sistemas con especialización culminada y mínimo 3 años de experiencia en bases d",
          "Importante Multinacional del sector IT requiere para su equipo de trabajo Analista de Datos Senior con experiencia superior de 5 años partic",
          "Profesional titulado en Ingeniería de Sistemas Informática, Telecomunicaciones, Desarrollador de Software y afines a las TIC, mínimo tres añ",
          "Importante empresa del sector de pagos y finanzas requiere profesional en ingeniería de sistemas con certificación en administración de base",
          "Manejo y conocimiento de ley de protección de datos personalesManejo y conocimiento Reporte Centrales InformaciónManejo de casos relacionado",
          "Empresa del sector logístico requiere  ingeniero de sistemas o afines  con especialización ,  3 años de experiencia mínimo, en administració",
          "Servicios Médicos Vital Health Requiere de manera inmediata Perfil: Tecnólogo o profesional sistemas, administración de empresas o administr",
          "En Jobandtalent empleamos a más de 15.000 profesionales en toda Colombia y ofrecemos oportunidades de empleo de forma constante para que sie",
          "Empresa de telecomunicaciones ubicada en Toberin, desea vincular a su equipo estudiante de ingeniería industrial o afines, con manejo alto d",
          "Consultar y proporcionar la información necesaria para la creación de nuevos SKU, etc.Generar y actualizar diferentes informes para brindar ",
          "Consultar y proporcionar la información necesaria para la creación de nuevos SKU, etc.Generar y actualizar diferentes informes para brindar ",
          "1. Consultar y proporcionar la información necesaria para la creación de nuevos SKU, etc.Generar y actualizar diferentes informes para brind",
          "1. Consultar y proporcionar la información necesaria para la creación de nuevos SKU, etc.Generar y actualizar diferentes informes para brind",
          "Cargo: Big data estratégicoSalario: $2.500.000 a $2.900.000Importante compañía de telecomunicaciones requiere vincular a su equipo de trabaj",
          "Cargo: Big data estratégicoSalario: $2.500.000 a $2.900.000Importante compañía de telecomunicaciones requiere vincular a su equipo de trabaj",
          "Cargo: Big data estratégicoSalario: $2.500.000 a $2.900.000Importante compañía de telecomunicaciones requiere vincular a su equipo de trabaj",
          "Importante empresa multinacional ubicada al norte de la ciudad requiere Analista de bases de datos, para desempeñar actividades enfocadas en",
          "Importante empresa requiere profesional en Ingeniería Sistemas, con mínimo 3 años de experiencia en Administración y monitoreo de base de da"
         ],
         "type": "scatter",
         "x": [
          -0.0002903732673836606,
          -0.0002903732673834324,
          0.07453051204504654,
          0.0745305120450465,
          -0.04276568560365819,
          0.02218247913818055,
          -0.04552841557724448,
          0.09834932779073481,
          -0.01758642317312671,
          -0.006265993163305975,
          0.008636755086486057,
          -0.005675114795071181,
          0.055530562678476766,
          0.0878656558126506,
          -0.1011352614091597,
          0.07617562894942553,
          0.07388963666661755,
          0.07301669752593207,
          -0.01910370617222571,
          -0.013619445318796001,
          0.08019319324588456,
          -0.043447789373815826,
          -0.029432694127974068,
          -0.07386537067297226,
          -0.06696514222853105,
          0.05150545204836306,
          -0.5246900012615646,
          -0.0638176979336562,
          0.0876930785766865,
          0.0876930785766865,
          0.08782501179276074,
          0.09746035118458032,
          -0.01910370617222571,
          -0.07738128649967192,
          -0.06351789358378493,
          0.0001075797095607002,
          0.08043713843749768,
          -0.048146194751765375,
          -0.018302011649961442,
          -0.017310796858870957,
          0.05599023711653062,
          -0.009378547694247515,
          -0.01313032252044237,
          -0.026109800234487005,
          -0.1852438394191019,
          0.03650988075734511,
          0.0753650117640054,
          -0.5246900012615646,
          0.09927908358000087,
          0.10822150285085169,
          -0.034022810026849974,
          -0.008284303434349823,
          -0.3756847705628728,
          -0.06435420887489224,
          -0.060689094789406775,
          0.023076292490425275,
          0.06381987505888587,
          -0.002541601617079595,
          -0.03993461114557071,
          -0.04979230869919559,
          -0.004629855535212485,
          -0.004629855535212485,
          -0.0633764991376897,
          -0.04552841557724448,
          -0.04318911975606076,
          0.00045787816080663287,
          -0.1740755297811735,
          0.0387368927739116,
          -0.028336432323010256,
          -0.5246900012615646,
          -0.011209941818234639,
          0.004740933035795301,
          -0.08880850986451012,
          -0.1129336370765578,
          0.023076292490425275,
          0.004134007345853051,
          -0.07050022849825935,
          0.051570223223165956,
          -0.45482748178985516,
          0.04347783624710549,
          0.030990487751929623,
          -0.01385828442497651,
          0.8098703641233095,
          0.8098703641233095,
          0.8056222549142092,
          0.8056222549142092,
          -0.20550957302753903,
          -0.20550957302753903,
          -0.20550957302753903,
          -0.10275436639651511,
          -0.05607984903178717
         ],
         "y": [
          0.034309228200339485,
          0.0343092282003398,
          0.023592845199354624,
          0.023592845199354676,
          -0.07308997619198374,
          0.06910753977818562,
          -0.024221283966470455,
          -0.0261311745394197,
          -0.04401462782379985,
          0.027620978000627225,
          0.05097617424218305,
          0.023793596014033965,
          -0.005416795780831997,
          0.06104283477613779,
          0.11041854953151295,
          0.0349350918481812,
          -0.058681265877212875,
          -0.0608212463469931,
          0.18746880442508246,
          0.0494153510276104,
          0.025783113667287246,
          0.0007406916010203665,
          0.04673393274006775,
          -0.04381027271545206,
          -0.06866284578307345,
          0.04221134326608999,
          -0.4542275610130533,
          -0.0404442885613543,
          -0.012314852297169391,
          -0.012314852297169391,
          -0.012281495074845631,
          -0.049639709359347035,
          0.18746880442508246,
          0.023110282339465854,
          0.052055862023916384,
          0.17936158017377052,
          0.013828206527128954,
          0.07810057175158648,
          0.05965222160315012,
          0.04769767452403288,
          0.03542285221208676,
          0.1647759895996393,
          -0.01615339827202392,
          0.03229151693863402,
          -0.03718454449817384,
          0.019573287846822267,
          0.020399435284983822,
          -0.4542275610130533,
          0.11501871083231438,
          0.08254124820621625,
          0.0035684328320246634,
          0.008875828758346938,
          -0.27845892066778366,
          -0.04614352819465604,
          0.007092798558041066,
          -0.06278567565334817,
          0.015374561200420021,
          -0.02275604765921819,
          -0.012415915982012343,
          0.6399026474985952,
          0.6424788303014296,
          0.6424788303014296,
          0.5261565384449028,
          -0.02422128396647046,
          0.548824154455286,
          0.11079472469247932,
          -0.05434792710598731,
          -0.01663915096625949,
          -0.016407852872066423,
          -0.4542275610130533,
          -0.0312746237691146,
          -0.0037403253213533255,
          0.04544824983199549,
          -0.03242582530374767,
          -0.06278567565334817,
          -0.06369579592975352,
          0.04345425238560374,
          -0.006005705701656661,
          -0.38791551857941065,
          -0.0183544511361238,
          0.011573302617061538,
          -0.028327924328986877,
          -0.33068253665228037,
          -0.33068253665228037,
          -0.3328048095315009,
          -0.3328048095315009,
          -0.23542206323143253,
          -0.23542206323143253,
          -0.23542206323143253,
          -0.052878478174171635,
          -0.0006867224320438745
         ]
        }
       ],
       "layout": {
        "template": {
         "data": {
          "bar": [
           {
            "error_x": {
             "color": "#2a3f5f"
            },
            "error_y": {
             "color": "#2a3f5f"
            },
            "marker": {
             "line": {
              "color": "#E5ECF6",
              "width": 0.5
             }
            },
            "type": "bar"
           }
          ],
          "barpolar": [
           {
            "marker": {
             "line": {
              "color": "#E5ECF6",
              "width": 0.5
             }
            },
            "type": "barpolar"
           }
          ],
          "carpet": [
           {
            "aaxis": {
             "endlinecolor": "#2a3f5f",
             "gridcolor": "white",
             "linecolor": "white",
             "minorgridcolor": "white",
             "startlinecolor": "#2a3f5f"
            },
            "baxis": {
             "endlinecolor": "#2a3f5f",
             "gridcolor": "white",
             "linecolor": "white",
             "minorgridcolor": "white",
             "startlinecolor": "#2a3f5f"
            },
            "type": "carpet"
           }
          ],
          "choropleth": [
           {
            "colorbar": {
             "outlinewidth": 0,
             "ticks": ""
            },
            "type": "choropleth"
           }
          ],
          "contour": [
           {
            "colorbar": {
             "outlinewidth": 0,
             "ticks": ""
            },
            "colorscale": [
             [
              0,
              "#0d0887"
             ],
             [
              0.1111111111111111,
              "#46039f"
             ],
             [
              0.2222222222222222,
              "#7201a8"
             ],
             [
              0.3333333333333333,
              "#9c179e"
             ],
             [
              0.4444444444444444,
              "#bd3786"
             ],
             [
              0.5555555555555556,
              "#d8576b"
             ],
             [
              0.6666666666666666,
              "#ed7953"
             ],
             [
              0.7777777777777778,
              "#fb9f3a"
             ],
             [
              0.8888888888888888,
              "#fdca26"
             ],
             [
              1,
              "#f0f921"
             ]
            ],
            "type": "contour"
           }
          ],
          "contourcarpet": [
           {
            "colorbar": {
             "outlinewidth": 0,
             "ticks": ""
            },
            "type": "contourcarpet"
           }
          ],
          "heatmap": [
           {
            "colorbar": {
             "outlinewidth": 0,
             "ticks": ""
            },
            "colorscale": [
             [
              0,
              "#0d0887"
             ],
             [
              0.1111111111111111,
              "#46039f"
             ],
             [
              0.2222222222222222,
              "#7201a8"
             ],
             [
              0.3333333333333333,
              "#9c179e"
             ],
             [
              0.4444444444444444,
              "#bd3786"
             ],
             [
              0.5555555555555556,
              "#d8576b"
             ],
             [
              0.6666666666666666,
              "#ed7953"
             ],
             [
              0.7777777777777778,
              "#fb9f3a"
             ],
             [
              0.8888888888888888,
              "#fdca26"
             ],
             [
              1,
              "#f0f921"
             ]
            ],
            "type": "heatmap"
           }
          ],
          "heatmapgl": [
           {
            "colorbar": {
             "outlinewidth": 0,
             "ticks": ""
            },
            "colorscale": [
             [
              0,
              "#0d0887"
             ],
             [
              0.1111111111111111,
              "#46039f"
             ],
             [
              0.2222222222222222,
              "#7201a8"
             ],
             [
              0.3333333333333333,
              "#9c179e"
             ],
             [
              0.4444444444444444,
              "#bd3786"
             ],
             [
              0.5555555555555556,
              "#d8576b"
             ],
             [
              0.6666666666666666,
              "#ed7953"
             ],
             [
              0.7777777777777778,
              "#fb9f3a"
             ],
             [
              0.8888888888888888,
              "#fdca26"
             ],
             [
              1,
              "#f0f921"
             ]
            ],
            "type": "heatmapgl"
           }
          ],
          "histogram": [
           {
            "marker": {
             "colorbar": {
              "outlinewidth": 0,
              "ticks": ""
             }
            },
            "type": "histogram"
           }
          ],
          "histogram2d": [
           {
            "colorbar": {
             "outlinewidth": 0,
             "ticks": ""
            },
            "colorscale": [
             [
              0,
              "#0d0887"
             ],
             [
              0.1111111111111111,
              "#46039f"
             ],
             [
              0.2222222222222222,
              "#7201a8"
             ],
             [
              0.3333333333333333,
              "#9c179e"
             ],
             [
              0.4444444444444444,
              "#bd3786"
             ],
             [
              0.5555555555555556,
              "#d8576b"
             ],
             [
              0.6666666666666666,
              "#ed7953"
             ],
             [
              0.7777777777777778,
              "#fb9f3a"
             ],
             [
              0.8888888888888888,
              "#fdca26"
             ],
             [
              1,
              "#f0f921"
             ]
            ],
            "type": "histogram2d"
           }
          ],
          "histogram2dcontour": [
           {
            "colorbar": {
             "outlinewidth": 0,
             "ticks": ""
            },
            "colorscale": [
             [
              0,
              "#0d0887"
             ],
             [
              0.1111111111111111,
              "#46039f"
             ],
             [
              0.2222222222222222,
              "#7201a8"
             ],
             [
              0.3333333333333333,
              "#9c179e"
             ],
             [
              0.4444444444444444,
              "#bd3786"
             ],
             [
              0.5555555555555556,
              "#d8576b"
             ],
             [
              0.6666666666666666,
              "#ed7953"
             ],
             [
              0.7777777777777778,
              "#fb9f3a"
             ],
             [
              0.8888888888888888,
              "#fdca26"
             ],
             [
              1,
              "#f0f921"
             ]
            ],
            "type": "histogram2dcontour"
           }
          ],
          "mesh3d": [
           {
            "colorbar": {
             "outlinewidth": 0,
             "ticks": ""
            },
            "type": "mesh3d"
           }
          ],
          "parcoords": [
           {
            "line": {
             "colorbar": {
              "outlinewidth": 0,
              "ticks": ""
             }
            },
            "type": "parcoords"
           }
          ],
          "pie": [
           {
            "automargin": true,
            "type": "pie"
           }
          ],
          "scatter": [
           {
            "marker": {
             "colorbar": {
              "outlinewidth": 0,
              "ticks": ""
             }
            },
            "type": "scatter"
           }
          ],
          "scatter3d": [
           {
            "line": {
             "colorbar": {
              "outlinewidth": 0,
              "ticks": ""
             }
            },
            "marker": {
             "colorbar": {
              "outlinewidth": 0,
              "ticks": ""
             }
            },
            "type": "scatter3d"
           }
          ],
          "scattercarpet": [
           {
            "marker": {
             "colorbar": {
              "outlinewidth": 0,
              "ticks": ""
             }
            },
            "type": "scattercarpet"
           }
          ],
          "scattergeo": [
           {
            "marker": {
             "colorbar": {
              "outlinewidth": 0,
              "ticks": ""
             }
            },
            "type": "scattergeo"
           }
          ],
          "scattergl": [
           {
            "marker": {
             "colorbar": {
              "outlinewidth": 0,
              "ticks": ""
             }
            },
            "type": "scattergl"
           }
          ],
          "scattermapbox": [
           {
            "marker": {
             "colorbar": {
              "outlinewidth": 0,
              "ticks": ""
             }
            },
            "type": "scattermapbox"
           }
          ],
          "scatterpolar": [
           {
            "marker": {
             "colorbar": {
              "outlinewidth": 0,
              "ticks": ""
             }
            },
            "type": "scatterpolar"
           }
          ],
          "scatterpolargl": [
           {
            "marker": {
             "colorbar": {
              "outlinewidth": 0,
              "ticks": ""
             }
            },
            "type": "scatterpolargl"
           }
          ],
          "scatterternary": [
           {
            "marker": {
             "colorbar": {
              "outlinewidth": 0,
              "ticks": ""
             }
            },
            "type": "scatterternary"
           }
          ],
          "surface": [
           {
            "colorbar": {
             "outlinewidth": 0,
             "ticks": ""
            },
            "colorscale": [
             [
              0,
              "#0d0887"
             ],
             [
              0.1111111111111111,
              "#46039f"
             ],
             [
              0.2222222222222222,
              "#7201a8"
             ],
             [
              0.3333333333333333,
              "#9c179e"
             ],
             [
              0.4444444444444444,
              "#bd3786"
             ],
             [
              0.5555555555555556,
              "#d8576b"
             ],
             [
              0.6666666666666666,
              "#ed7953"
             ],
             [
              0.7777777777777778,
              "#fb9f3a"
             ],
             [
              0.8888888888888888,
              "#fdca26"
             ],
             [
              1,
              "#f0f921"
             ]
            ],
            "type": "surface"
           }
          ],
          "table": [
           {
            "cells": {
             "fill": {
              "color": "#EBF0F8"
             },
             "line": {
              "color": "white"
             }
            },
            "header": {
             "fill": {
              "color": "#C8D4E3"
             },
             "line": {
              "color": "white"
             }
            },
            "type": "table"
           }
          ]
         },
         "layout": {
          "annotationdefaults": {
           "arrowcolor": "#2a3f5f",
           "arrowhead": 0,
           "arrowwidth": 1
          },
          "autotypenumbers": "strict",
          "coloraxis": {
           "colorbar": {
            "outlinewidth": 0,
            "ticks": ""
           }
          },
          "colorscale": {
           "diverging": [
            [
             0,
             "#8e0152"
            ],
            [
             0.1,
             "#c51b7d"
            ],
            [
             0.2,
             "#de77ae"
            ],
            [
             0.3,
             "#f1b6da"
            ],
            [
             0.4,
             "#fde0ef"
            ],
            [
             0.5,
             "#f7f7f7"
            ],
            [
             0.6,
             "#e6f5d0"
            ],
            [
             0.7,
             "#b8e186"
            ],
            [
             0.8,
             "#7fbc41"
            ],
            [
             0.9,
             "#4d9221"
            ],
            [
             1,
             "#276419"
            ]
           ],
           "sequential": [
            [
             0,
             "#0d0887"
            ],
            [
             0.1111111111111111,
             "#46039f"
            ],
            [
             0.2222222222222222,
             "#7201a8"
            ],
            [
             0.3333333333333333,
             "#9c179e"
            ],
            [
             0.4444444444444444,
             "#bd3786"
            ],
            [
             0.5555555555555556,
             "#d8576b"
            ],
            [
             0.6666666666666666,
             "#ed7953"
            ],
            [
             0.7777777777777778,
             "#fb9f3a"
            ],
            [
             0.8888888888888888,
             "#fdca26"
            ],
            [
             1,
             "#f0f921"
            ]
           ],
           "sequentialminus": [
            [
             0,
             "#0d0887"
            ],
            [
             0.1111111111111111,
             "#46039f"
            ],
            [
             0.2222222222222222,
             "#7201a8"
            ],
            [
             0.3333333333333333,
             "#9c179e"
            ],
            [
             0.4444444444444444,
             "#bd3786"
            ],
            [
             0.5555555555555556,
             "#d8576b"
            ],
            [
             0.6666666666666666,
             "#ed7953"
            ],
            [
             0.7777777777777778,
             "#fb9f3a"
            ],
            [
             0.8888888888888888,
             "#fdca26"
            ],
            [
             1,
             "#f0f921"
            ]
           ]
          },
          "colorway": [
           "#636efa",
           "#EF553B",
           "#00cc96",
           "#ab63fa",
           "#FFA15A",
           "#19d3f3",
           "#FF6692",
           "#B6E880",
           "#FF97FF",
           "#FECB52"
          ],
          "font": {
           "color": "#2a3f5f"
          },
          "geo": {
           "bgcolor": "white",
           "lakecolor": "white",
           "landcolor": "#E5ECF6",
           "showlakes": true,
           "showland": true,
           "subunitcolor": "white"
          },
          "hoverlabel": {
           "align": "left"
          },
          "hovermode": "closest",
          "mapbox": {
           "style": "light"
          },
          "paper_bgcolor": "white",
          "plot_bgcolor": "#E5ECF6",
          "polar": {
           "angularaxis": {
            "gridcolor": "white",
            "linecolor": "white",
            "ticks": ""
           },
           "bgcolor": "#E5ECF6",
           "radialaxis": {
            "gridcolor": "white",
            "linecolor": "white",
            "ticks": ""
           }
          },
          "scene": {
           "xaxis": {
            "backgroundcolor": "#E5ECF6",
            "gridcolor": "white",
            "gridwidth": 2,
            "linecolor": "white",
            "showbackground": true,
            "ticks": "",
            "zerolinecolor": "white"
           },
           "yaxis": {
            "backgroundcolor": "#E5ECF6",
            "gridcolor": "white",
            "gridwidth": 2,
            "linecolor": "white",
            "showbackground": true,
            "ticks": "",
            "zerolinecolor": "white"
           },
           "zaxis": {
            "backgroundcolor": "#E5ECF6",
            "gridcolor": "white",
            "gridwidth": 2,
            "linecolor": "white",
            "showbackground": true,
            "ticks": "",
            "zerolinecolor": "white"
           }
          },
          "shapedefaults": {
           "line": {
            "color": "#2a3f5f"
           }
          },
          "ternary": {
           "aaxis": {
            "gridcolor": "white",
            "linecolor": "white",
            "ticks": ""
           },
           "baxis": {
            "gridcolor": "white",
            "linecolor": "white",
            "ticks": ""
           },
           "bgcolor": "#E5ECF6",
           "caxis": {
            "gridcolor": "white",
            "linecolor": "white",
            "ticks": ""
           }
          },
          "title": {
           "x": 0.05
          },
          "xaxis": {
           "automargin": true,
           "gridcolor": "white",
           "linecolor": "white",
           "ticks": "",
           "title": {
            "standoff": 15
           },
           "zerolinecolor": "white",
           "zerolinewidth": 2
          },
          "yaxis": {
           "automargin": true,
           "gridcolor": "white",
           "linecolor": "white",
           "ticks": "",
           "title": {
            "standoff": 15
           },
           "zerolinecolor": "white",
           "zerolinewidth": 2
          }
         }
        },
        "title": {
         "text": "PCA"
        }
       }
      },
      "text/html": [
       "<div>                            <div id=\"6e7d6312-5549-41ae-b8ce-eaf807a91015\" class=\"plotly-graph-div\" style=\"height:525px; width:100%;\"></div>            <script type=\"text/javascript\">                require([\"plotly\"], function(Plotly) {                    window.PLOTLYENV=window.PLOTLYENV || {};                                    if (document.getElementById(\"6e7d6312-5549-41ae-b8ce-eaf807a91015\")) {                    Plotly.newPlot(                        \"6e7d6312-5549-41ae-b8ce-eaf807a91015\",                        [{\"marker\": {\"color\": [\"red\", \"red\", \"red\", \"red\", \"blue\", \"red\", \"blue\", \"red\", \"red\", \"green\", \"blue\", \"green\", \"blue\", \"red\", \"orange\", \"red\", \"red\", \"red\", \"orange\", \"green\", \"red\", \"red\", \"red\", \"green\", \"green\", \"blue\", \"green\", \"green\", \"orange\", \"orange\", \"orange\", \"red\", \"orange\", \"green\", \"green\", \"orange\", \"blue\", \"orange\", \"red\", \"red\", \"red\", \"orange\", \"red\", \"red\", \"green\", \"red\", \"red\", \"green\", \"red\", \"red\", \"green\", \"red\", \"green\", \"green\", \"green\", \"blue\", \"red\", \"blue\", \"green\", \"orange\", \"orange\", \"orange\", \"orange\", \"blue\", \"orange\", \"red\", \"green\", \"blue\", \"blue\", \"green\", \"red\", \"green\", \"orange\", \"green\", \"blue\", \"green\", \"green\", \"red\", \"green\", \"green\", \"red\", \"red\", \"black\", \"black\", \"black\", \"black\", \"green\", \"green\", \"green\", \"red\", \"green\"]}, \"mode\": \"markers\", \"text\": [\"Importante empresa  del sector de consultor\\u00eda de la ciudad de Bogot\\u00e1 requiere para su equipo de trabajo un Analista de miner\\u00eda de datosForma\", \"Importante empresa  del sector de consultor\\u00eda de la ciudad de Bogot\\u00e1 requiere para su equipo de trabajo un Analista de miner\\u00eda de datosForma\", \"Reconocida empresa Contac Center, se encuentra en b\\u00fasqueda de analista An\\u00e1lisis de KPI\\u00b4s Reportes - con 1 a\\u00f1o de experiencia. Preparar, anal\", \"Reconocida empresa Contac Center, se encuentra en b\\u00fasqueda de analista An\\u00e1lisis de KPI\\u00b4s Reportes - con 1 a\\u00f1o de experiencia. Preparar, anal\", \"Importante compa\\u00f1\\u00eda requiere Profesionales en \\u2013 Tecnolog\\u00eda o Ingenier\\u00eda de Sistematizaci\\u00f3n de datos / Estad\\u00edstica o Matem\\u00e1tica. con experien\", \"#TrabajoSiHayMultinacional solicita para su equipo de trabajo DATAMARSHALL - ANALISTA DE BASES DE DATOS CALL CENTER en Bogot\\u00e1, con experienc\", \"Importante Multinacional del sector IT requiere para su equipo de trabajo Analista de Datos Junior con experiencia superior de 6 meses en Mi\", \"Entidad financiera requiere profesional en Ingenier\\u00eda de Sistemas , Economista, estad\\u00edstico, matem\\u00e1tico, con conocimiento en Estad\\u00edstica , m\", \"Reconocida multinacional de telecomunicaciones requiere para su equipo de trabajo Ingeniero de sistemas o afines, con experiencia m\\u00ednima de \", \"Importante compa\\u00f1\\u00eda Call Center requiere para su equipo de trabajo Analista de datos / Controller con experiencia m\\u00ednima de 6 meses en call \", \"BairesDev se enorgullece de ser una de las empresas con m\\u00e1s r\\u00e1pido crecimiento de Am\\u00e9rica Latina y un empleador acogedor altamente calificad\", \"Importante compa\\u00f1\\u00eda Call Center requiere para su equipo de trabajo Analista de datos / Controller con experiencia m\\u00ednima de 6 meses en call \", \"Importante compa\\u00f1ia BPO requiere para su equipo de trabajo Tecn\\u00f3logo o profesional en ingenier\\u00edas o carreras administrativas. Experiencia m\\u00ed\", \"Somos Grupo Nacional de Proyectos GNP l\\u00edderes en el sector de Telecomunicaciones, Marketing y Tecnolog\\u00eda. Nos encontramos en b\\u00fasqueda de T\\u00e9c\", \"Reconocida empresa requiere para su equipo de trabajo ingeniero de sistemas  Profesional con  especializaci\\u00f3n,   4 a\\u00f1os de experiencia en: S\", \"Somos Grupo Nacional de Proyectos GNP l\\u00edderes en el sector de Telecomunicaciones, Marketing y Tecnolog\\u00eda. Nos encontramos en b\\u00fasqueda de T\\u00e9c\", \"Empresa multinacional espa\\u00f1ola del sector Data Management & Analytics busca para su equipo de trabajo a t\\u00e9cnico o estudiante hasta IV semest\", \"Empresa de tecnolog\\u00eda requiere Tecn\\u00f3logo o Estudiante universitario de \\u00faltimos semestres de sistemas o carreras administrativas; Manejo de p\", \"Requerimos para nuestro equipo de trabajo Analista de datos con experiencia m\\u00ednima de 1 a\\u00f1o en manejo de Excel avanzado preferiblemente cono\", \"Reconocida empresa de telecomunicaciones solicita para su equipo de trabajo WORKFORCE, encargado de analizar, controlar y optimizar las capa\", \"Empresa del sector bebidas requiere analista de ventas encargado de Analizar, programar y hacer seguimiento a los datos de ventas con el fin\", \"Se requiere profesional en Ingenier\\u00eda Industrial o \\u00e1reas afines con experiencia de 2 a\\u00f1os en manejo de bases de datos; an\\u00e1lisis de bases de \", \"Importante multinacional de telecomunicaciones dedicada al servicio de call center requiere para su equipo de trabajo Datamarshall o  Analis\", \"Importante empresa de alimentos requiere para su equipo analista  de datos con experiencia  en manejo de bases datos al sistema, manejo alfa\", \"Empresa del sector TI requiere Analista de datos con experiencia en:Experiencia de soporte de usuarios Manejo de Excel  avanzado Manejo de b\", \"Prestigiosa compa\\u00f1\\u00eda del sector farmac\\u00e9utico, se encuentra en b\\u00fasqueda de Profesionales en  Administraci\\u00f3n de empresas, Finanzas, Marketing \", \"Reconocida empresa de mensajer\\u00eda requiere con urgencia para su equipo de trabajo hombres profesionales en ingenier\\u00eda de sistemas Con especia\", \"Reconocida empresa solicita ANALISTA SENIOR ARQUITECTURA DE DATOS,  Ingeniero de sistemas, electr\\u00f3nico o afines, debe tener m\\u00ednimo 2 a\\u00f1os de\", \"Reconocido laboratorio Farmac\\u00e9utico ubicado en puente requiere para su equipo de trabajo Tecnologo en Regencia Farmacia o estudiante m\\u00ednimo \", \"Reconocido laboratorio Farmac\\u00e9utico ubicado en puente requiere para su equipo de trabajo Tecnologo en Regencia Farmacia o estudiante m\\u00ednimo \", \"Reconocido laboratorio Farmac\\u00e9utico ubicado en puente aranda requiere para su equipo de trabajo Tecnologo en Regencia Farmacia o estudiante \", \"Empresa del sector transporte requiere profesional en Ingenier\\u00eda de Sistemas, Ingenier\\u00eda Electr\\u00f3nica, Ingenier\\u00eda El\\u00e9ctrica o Ingenier\\u00eda Meca\", \"Requerimos para nuestro equipo de trabajo Analista de datos con experiencia m\\u00ednima de 1 a\\u00f1o en manejo de Excel avanzado preferiblemente cono\", \"Ingeniero en Sistemas, con conocimientos en administraci\\u00f3n y desarrollo en bases de datos SQL Server (Triggers, procedimientos almacenados, \", \"Profesional en ingenier\\u00eda de sistemas, electr\\u00f3nica o carreras afines con m\\u00ednimo 1 a\\u00f1o de experiencia con conocimientos administraci\\u00f3n de bas\", \"Requerimos para nuestro equipo de trabao analista de Datosl con experiencia m\\u00ednima de 1 a\\u00f1o en manejo de Excel avanzado preferiblemente cono\", \"Empresa de servicios tecnol\\u00f3gicos y outsourcing requiere profesional en Ingenier\\u00eda Industrial, Administraci\\u00f3n de Empresas, Contadur\\u00eda, Finan\", \"Importante Contact Center Ubicado en la ciudad de Bogot\\u00e1 busca para si equipo de trabajo Analista base de datos con experiencia de un 1 a\\u00f1o \", \"Reconocido operador del sector Salud requiere para su equipo de trabajo Ingeniero Industrial.  Horario de contribuci\\u00f3n de Lunes a Viernes de\", \"Limpieza, Estandarizaci\\u00f3n, Unificaci\\u00f3n de datos con bases Excel y MySQL, experiencia m\\u00ednima de un a\\u00f1o en estos programas demostrables. Pacie\", \"Prestigiosa entidad solicita Analista de inteligencia de negocios - Cientifico de datos que cuente con 3 a\\u00f1os de experiencia Miner\\u00eda de dato\", \"Reconocida empresa de telecomunicaciones requieres para su equipo de trabajo Analista base de datos con 2 a\\u00f1os de experiencia en el cargo, e\", \"importante empresa del sector financieroRequiere analista de bases de datos en excel avanzadoDebe contar con un a\\u00f1o de experiencia en VISUAL\", \"Importante empresa del sector se encuentra en b\\u00fasqueda de tecn\\u00f3logo o profesional en sistemas o tecnolog\\u00eda de la informaci\\u00f3n con experiencia\", \"Importante compa\\u00f1\\u00eda del sector log\\u00edstico requiere Profesional en ingenier\\u00eda de sistemas o afines especializado en programaci\\u00f3n o bases de da\", \"Reconocida entidad del sector bancario requiere para su equipo de trabajo Analista de inteligencia de negocios - Cientifico de datos que cue\", \"Objetivo: Elaborar informes y estad\\u00edsticas, con el fin de monitorear el adecuado funcionamiento del negocio, teniendo en cuenta los indicado\", \"Reconocida empresa de mensajer\\u00eda requiere con urgencia para su equipo de trabajo hombres profesionales en ingenier\\u00eda de sistemas Con especia\", \"Nos encontramos en la b\\u00fasqueda de un ANALISTA DE DATOST\\u00e9cnico y/o Estudiante de m\\u00ednimo VI semestre de carreras administrativas, de anal\\u00edtica\", \"Importante empresa prestadora de servicios se encuentra en b\\u00fasqueda de Oficial de Informes y Seguimiento del \\u00e1rea comercial, T\\u00e9cnico y/o Est\", \"Reconocida empresa del sector real solicita Analista Base de Datos. Buscamos profesionales en Ingenier\\u00eda de Sistemas o afines con 2 a\\u00f1os de \", \"Multinacional requiere para su equipo de trabajo Analista de Datos. Experiencia: m\\u00ednimo 1 a\\u00f1o realizando an\\u00e1lisis de datos administrativos. \", \"Profesional en Ingenieria de sistemas,con posgrado temas relacionados con funciones del cargo.\\t\\\"M\\u00ednimo tres (3) a\\u00f1os deexperiencia en la adm\", \"Empresa de servicios log\\u00edsticos requiere personal para desempe\\u00f1arse en el cargo de Analista de Base de DatosIngenieros de sistemas con espec\", \"\\\"Ingeniero de Sistemas, Electr\\u00f3nico y/o afines , conexperiencia en gesti\\u00f3n de datos, deseable Especializaci\\u00f3ny/o cursos en gobierno de datos\", \"Importante Multinacional del sector IT requiere para su equipo de trabajo Analista de Datos Senior con experiencia superior de 3 a\\u00f1os partic\", \"Importante empresa del sector de telecomunicaciones se encuentra en busqueda de datamarshall, controller con un (1) a\\u00f1o de experiencia en el\", \"\\u00bfQu\\u00e9 tal un nuevo reto profesional en el 2021?Nuestro equipo de Data est\\u00e1 buscando profesionales interesados en la toma de decisiones y el a\", \"\\u00a1Tenemos una gran oportunidad para ti!Reconocida empresa requiere para su equipo de trabajo, profesional en Ingenier\\u00eda de Sistemas o Ingenie\", \"Nos encontramos en b\\u00fasqueda de un analista de datos (Excel avanzado) Funciones- Apoyo al proceso de inscripci\\u00f3n y selecci\\u00f3n de candidatos, s\", \"Nos encontramos en b\\u00fasqueda de un analista de datos (Excel avanzado)FuncionesApoyo al proceso de inscripci\\u00f3n y selecci\\u00f3n de candidatos, segu\", \"Nos encontramos en b\\u00fasqueda de un analista de datos (Excel avanzado)FuncionesApoyo al proceso de inscripci\\u00f3n y selecci\\u00f3n de candidatos, segu\", \"Nos encontramos en b\\u00fasqueda de un Analista de datos (Excel avanzado)Funciones\\u2022\\tApoyo al proceso de inscripci\\u00f3n y selecci\\u00f3n de candidatos\\u2022\\tSe\", \"Importante Multinacional del sector IT requiere para su equipo de trabajo Analista de Datos Junior con experiencia superior de 6 meses en Mi\", \"Importante empresa del sector se encuentra en la b\\u00fasqueda de analista de datos (Excel avanzado) Funciones-Apoyo al proceso de inscripci\\u00f3n y \", \"Importante IPS a nivel nacional requiere analista de base de datos EXPERTO EN EXCEL; tecn\\u00f3logo o t\\u00e9cnico en ingenier\\u00eda industrial.Asignaci\\u00f3n\", \"Reconocida empresa del sector Financiero requiere para su equipo de trabajo profesionales en ingenier\\u00eda de sistemas o afines que cuenten con\", \"Determinar el potencial de las ventas.Analizar m\\u00e9tricas web,  predecir la conducta de los clientes referente a nuestro producto y la tendenc\", \"Empresa del sector log\\u00edstico requiere profesional en  ingenieria de sistemas o carreras afines, con especializaci\\u00f3n , cursos en gobierno de \", \"Reconocida empresa de mensajer\\u00eda requiere con urgencia para su equipo de trabajo hombres profesionales en ingenier\\u00eda de sistemas Con especia\", \"Importante multinacional del sector  requiere para su equipo de trabajo Back office CALL CENTER.Si eres t\\u00e9cnico, tecnol\\u00f3go o profesional en \", \"Importante empresa del sector de telecomunicaciones requiere para su equipo de trabajo Analista de Incidencias para realizar funciones como:\", \"Haz parte de nuestro equipo y vive experiencias \\u00a1\\u00fanicas y memorables! Buscamos personas como t\\u00fa, din\\u00e1micas, proactivas y apasionadas, si cum\", \"Se requiere de manera inmediata profesional en Ingeniera de Sistemas con especializaci\\u00f3n culminada y m\\u00ednimo 3 a\\u00f1os de experiencia en bases d\", \"Importante Multinacional del sector IT requiere para su equipo de trabajo Analista de Datos Senior con experiencia superior de 5 a\\u00f1os partic\", \"Profesional titulado en Ingenier\\u00eda de Sistemas Inform\\u00e1tica, Telecomunicaciones, Desarrollador de Software y afines a las TIC, m\\u00ednimo tres a\\u00f1\", \"Importante empresa del sector de pagos y finanzas requiere profesional en ingenier\\u00eda de sistemas con certificaci\\u00f3n en administraci\\u00f3n de base\", \"Manejo y conocimiento de ley de protecci\\u00f3n de datos personalesManejo y conocimiento Reporte Centrales Informaci\\u00f3nManejo de casos relacionado\", \"Empresa del sector log\\u00edstico requiere  ingeniero de sistemas o afines  con especializaci\\u00f3n ,  3 a\\u00f1os de experiencia m\\u00ednimo, en administraci\\u00f3\", \"Servicios M\\u00e9dicos Vital Health Requiere de manera inmediata Perfil: Tecn\\u00f3logo o profesional sistemas, administraci\\u00f3n de empresas o administr\", \"En Jobandtalent empleamos a m\\u00e1s de 15.000 profesionales en toda Colombia y ofrecemos oportunidades de empleo de forma constante para que sie\", \"Empresa de telecomunicaciones ubicada en Toberin, desea vincular a su equipo estudiante de ingenier\\u00eda industrial o afines, con manejo alto d\", \"Consultar y proporcionar la informaci\\u00f3n necesaria para la creaci\\u00f3n de nuevos SKU, etc.Generar y actualizar diferentes informes para brindar \", \"Consultar y proporcionar la informaci\\u00f3n necesaria para la creaci\\u00f3n de nuevos SKU, etc.Generar y actualizar diferentes informes para brindar \", \"1. Consultar y proporcionar la informaci\\u00f3n necesaria para la creaci\\u00f3n de nuevos SKU, etc.Generar y actualizar diferentes informes para brind\", \"1. Consultar y proporcionar la informaci\\u00f3n necesaria para la creaci\\u00f3n de nuevos SKU, etc.Generar y actualizar diferentes informes para brind\", \"Cargo: Big data estrat\\u00e9gicoSalario: $2.500.000 a $2.900.000Importante compa\\u00f1\\u00eda de telecomunicaciones requiere vincular a su equipo de trabaj\", \"Cargo: Big data estrat\\u00e9gicoSalario: $2.500.000 a $2.900.000Importante compa\\u00f1\\u00eda de telecomunicaciones requiere vincular a su equipo de trabaj\", \"Cargo: Big data estrat\\u00e9gicoSalario: $2.500.000 a $2.900.000Importante compa\\u00f1\\u00eda de telecomunicaciones requiere vincular a su equipo de trabaj\", \"Importante empresa multinacional ubicada al norte de la ciudad requiere Analista de bases de datos, para desempe\\u00f1ar actividades enfocadas en\", \"Importante empresa requiere profesional en Ingenier\\u00eda Sistemas, con m\\u00ednimo 3 a\\u00f1os de experiencia en Administraci\\u00f3n y monitoreo de base de da\"], \"type\": \"scatter\", \"x\": [-0.0002903732673836606, -0.0002903732673834324, 0.07453051204504654, 0.0745305120450465, -0.04276568560365819, 0.02218247913818055, -0.04552841557724448, 0.09834932779073481, -0.01758642317312671, -0.006265993163305975, 0.008636755086486057, -0.005675114795071181, 0.055530562678476766, 0.0878656558126506, -0.1011352614091597, 0.07617562894942553, 0.07388963666661755, 0.07301669752593207, -0.01910370617222571, -0.013619445318796001, 0.08019319324588456, -0.043447789373815826, -0.029432694127974068, -0.07386537067297226, -0.06696514222853105, 0.05150545204836306, -0.5246900012615646, -0.0638176979336562, 0.0876930785766865, 0.0876930785766865, 0.08782501179276074, 0.09746035118458032, -0.01910370617222571, -0.07738128649967192, -0.06351789358378493, 0.0001075797095607002, 0.08043713843749768, -0.048146194751765375, -0.018302011649961442, -0.017310796858870957, 0.05599023711653062, -0.009378547694247515, -0.01313032252044237, -0.026109800234487005, -0.1852438394191019, 0.03650988075734511, 0.0753650117640054, -0.5246900012615646, 0.09927908358000087, 0.10822150285085169, -0.034022810026849974, -0.008284303434349823, -0.3756847705628728, -0.06435420887489224, -0.060689094789406775, 0.023076292490425275, 0.06381987505888587, -0.002541601617079595, -0.03993461114557071, -0.04979230869919559, -0.004629855535212485, -0.004629855535212485, -0.0633764991376897, -0.04552841557724448, -0.04318911975606076, 0.00045787816080663287, -0.1740755297811735, 0.0387368927739116, -0.028336432323010256, -0.5246900012615646, -0.011209941818234639, 0.004740933035795301, -0.08880850986451012, -0.1129336370765578, 0.023076292490425275, 0.004134007345853051, -0.07050022849825935, 0.051570223223165956, -0.45482748178985516, 0.04347783624710549, 0.030990487751929623, -0.01385828442497651, 0.8098703641233095, 0.8098703641233095, 0.8056222549142092, 0.8056222549142092, -0.20550957302753903, -0.20550957302753903, -0.20550957302753903, -0.10275436639651511, -0.05607984903178717], \"y\": [0.034309228200339485, 0.0343092282003398, 0.023592845199354624, 0.023592845199354676, -0.07308997619198374, 0.06910753977818562, -0.024221283966470455, -0.0261311745394197, -0.04401462782379985, 0.027620978000627225, 0.05097617424218305, 0.023793596014033965, -0.005416795780831997, 0.06104283477613779, 0.11041854953151295, 0.0349350918481812, -0.058681265877212875, -0.0608212463469931, 0.18746880442508246, 0.0494153510276104, 0.025783113667287246, 0.0007406916010203665, 0.04673393274006775, -0.04381027271545206, -0.06866284578307345, 0.04221134326608999, -0.4542275610130533, -0.0404442885613543, -0.012314852297169391, -0.012314852297169391, -0.012281495074845631, -0.049639709359347035, 0.18746880442508246, 0.023110282339465854, 0.052055862023916384, 0.17936158017377052, 0.013828206527128954, 0.07810057175158648, 0.05965222160315012, 0.04769767452403288, 0.03542285221208676, 0.1647759895996393, -0.01615339827202392, 0.03229151693863402, -0.03718454449817384, 0.019573287846822267, 0.020399435284983822, -0.4542275610130533, 0.11501871083231438, 0.08254124820621625, 0.0035684328320246634, 0.008875828758346938, -0.27845892066778366, -0.04614352819465604, 0.007092798558041066, -0.06278567565334817, 0.015374561200420021, -0.02275604765921819, -0.012415915982012343, 0.6399026474985952, 0.6424788303014296, 0.6424788303014296, 0.5261565384449028, -0.02422128396647046, 0.548824154455286, 0.11079472469247932, -0.05434792710598731, -0.01663915096625949, -0.016407852872066423, -0.4542275610130533, -0.0312746237691146, -0.0037403253213533255, 0.04544824983199549, -0.03242582530374767, -0.06278567565334817, -0.06369579592975352, 0.04345425238560374, -0.006005705701656661, -0.38791551857941065, -0.0183544511361238, 0.011573302617061538, -0.028327924328986877, -0.33068253665228037, -0.33068253665228037, -0.3328048095315009, -0.3328048095315009, -0.23542206323143253, -0.23542206323143253, -0.23542206323143253, -0.052878478174171635, -0.0006867224320438745]}],                        {\"template\": {\"data\": {\"bar\": [{\"error_x\": {\"color\": \"#2a3f5f\"}, \"error_y\": {\"color\": \"#2a3f5f\"}, \"marker\": {\"line\": {\"color\": \"#E5ECF6\", \"width\": 0.5}}, \"type\": \"bar\"}], \"barpolar\": [{\"marker\": {\"line\": {\"color\": \"#E5ECF6\", \"width\": 0.5}}, \"type\": \"barpolar\"}], \"carpet\": [{\"aaxis\": {\"endlinecolor\": \"#2a3f5f\", \"gridcolor\": \"white\", \"linecolor\": \"white\", \"minorgridcolor\": \"white\", \"startlinecolor\": \"#2a3f5f\"}, \"baxis\": {\"endlinecolor\": \"#2a3f5f\", \"gridcolor\": \"white\", \"linecolor\": \"white\", \"minorgridcolor\": \"white\", \"startlinecolor\": \"#2a3f5f\"}, \"type\": \"carpet\"}], \"choropleth\": [{\"colorbar\": {\"outlinewidth\": 0, \"ticks\": \"\"}, \"type\": \"choropleth\"}], \"contour\": [{\"colorbar\": {\"outlinewidth\": 0, \"ticks\": \"\"}, \"colorscale\": [[0.0, \"#0d0887\"], [0.1111111111111111, \"#46039f\"], [0.2222222222222222, \"#7201a8\"], [0.3333333333333333, \"#9c179e\"], [0.4444444444444444, \"#bd3786\"], [0.5555555555555556, \"#d8576b\"], [0.6666666666666666, \"#ed7953\"], [0.7777777777777778, \"#fb9f3a\"], [0.8888888888888888, \"#fdca26\"], [1.0, \"#f0f921\"]], \"type\": \"contour\"}], \"contourcarpet\": [{\"colorbar\": {\"outlinewidth\": 0, \"ticks\": \"\"}, \"type\": \"contourcarpet\"}], \"heatmap\": [{\"colorbar\": {\"outlinewidth\": 0, \"ticks\": \"\"}, \"colorscale\": [[0.0, \"#0d0887\"], [0.1111111111111111, \"#46039f\"], [0.2222222222222222, \"#7201a8\"], [0.3333333333333333, \"#9c179e\"], [0.4444444444444444, \"#bd3786\"], [0.5555555555555556, \"#d8576b\"], [0.6666666666666666, \"#ed7953\"], [0.7777777777777778, \"#fb9f3a\"], [0.8888888888888888, \"#fdca26\"], [1.0, \"#f0f921\"]], \"type\": \"heatmap\"}], \"heatmapgl\": [{\"colorbar\": {\"outlinewidth\": 0, \"ticks\": \"\"}, \"colorscale\": [[0.0, \"#0d0887\"], [0.1111111111111111, \"#46039f\"], [0.2222222222222222, \"#7201a8\"], [0.3333333333333333, \"#9c179e\"], [0.4444444444444444, \"#bd3786\"], [0.5555555555555556, \"#d8576b\"], [0.6666666666666666, \"#ed7953\"], [0.7777777777777778, \"#fb9f3a\"], [0.8888888888888888, \"#fdca26\"], [1.0, \"#f0f921\"]], \"type\": \"heatmapgl\"}], \"histogram\": [{\"marker\": {\"colorbar\": {\"outlinewidth\": 0, \"ticks\": \"\"}}, \"type\": \"histogram\"}], \"histogram2d\": [{\"colorbar\": {\"outlinewidth\": 0, \"ticks\": \"\"}, \"colorscale\": [[0.0, \"#0d0887\"], [0.1111111111111111, \"#46039f\"], [0.2222222222222222, \"#7201a8\"], [0.3333333333333333, \"#9c179e\"], [0.4444444444444444, \"#bd3786\"], [0.5555555555555556, \"#d8576b\"], [0.6666666666666666, \"#ed7953\"], [0.7777777777777778, \"#fb9f3a\"], [0.8888888888888888, \"#fdca26\"], [1.0, \"#f0f921\"]], \"type\": \"histogram2d\"}], \"histogram2dcontour\": [{\"colorbar\": {\"outlinewidth\": 0, \"ticks\": \"\"}, \"colorscale\": [[0.0, \"#0d0887\"], [0.1111111111111111, \"#46039f\"], [0.2222222222222222, \"#7201a8\"], [0.3333333333333333, \"#9c179e\"], [0.4444444444444444, \"#bd3786\"], [0.5555555555555556, \"#d8576b\"], [0.6666666666666666, \"#ed7953\"], [0.7777777777777778, \"#fb9f3a\"], [0.8888888888888888, \"#fdca26\"], [1.0, \"#f0f921\"]], \"type\": \"histogram2dcontour\"}], \"mesh3d\": [{\"colorbar\": {\"outlinewidth\": 0, \"ticks\": \"\"}, \"type\": \"mesh3d\"}], \"parcoords\": [{\"line\": {\"colorbar\": {\"outlinewidth\": 0, \"ticks\": \"\"}}, \"type\": \"parcoords\"}], \"pie\": [{\"automargin\": true, \"type\": \"pie\"}], \"scatter\": [{\"marker\": {\"colorbar\": {\"outlinewidth\": 0, \"ticks\": \"\"}}, \"type\": \"scatter\"}], \"scatter3d\": [{\"line\": {\"colorbar\": {\"outlinewidth\": 0, \"ticks\": \"\"}}, \"marker\": {\"colorbar\": {\"outlinewidth\": 0, \"ticks\": \"\"}}, \"type\": \"scatter3d\"}], \"scattercarpet\": [{\"marker\": {\"colorbar\": {\"outlinewidth\": 0, \"ticks\": \"\"}}, \"type\": \"scattercarpet\"}], \"scattergeo\": [{\"marker\": {\"colorbar\": {\"outlinewidth\": 0, \"ticks\": \"\"}}, \"type\": \"scattergeo\"}], \"scattergl\": [{\"marker\": {\"colorbar\": {\"outlinewidth\": 0, \"ticks\": \"\"}}, \"type\": \"scattergl\"}], \"scattermapbox\": [{\"marker\": {\"colorbar\": {\"outlinewidth\": 0, \"ticks\": \"\"}}, \"type\": \"scattermapbox\"}], \"scatterpolar\": [{\"marker\": {\"colorbar\": {\"outlinewidth\": 0, \"ticks\": \"\"}}, \"type\": \"scatterpolar\"}], \"scatterpolargl\": [{\"marker\": {\"colorbar\": {\"outlinewidth\": 0, \"ticks\": \"\"}}, \"type\": \"scatterpolargl\"}], \"scatterternary\": [{\"marker\": {\"colorbar\": {\"outlinewidth\": 0, \"ticks\": \"\"}}, \"type\": \"scatterternary\"}], \"surface\": [{\"colorbar\": {\"outlinewidth\": 0, \"ticks\": \"\"}, \"colorscale\": [[0.0, \"#0d0887\"], [0.1111111111111111, \"#46039f\"], [0.2222222222222222, \"#7201a8\"], [0.3333333333333333, \"#9c179e\"], [0.4444444444444444, \"#bd3786\"], [0.5555555555555556, \"#d8576b\"], [0.6666666666666666, \"#ed7953\"], [0.7777777777777778, \"#fb9f3a\"], [0.8888888888888888, \"#fdca26\"], [1.0, \"#f0f921\"]], \"type\": \"surface\"}], \"table\": [{\"cells\": {\"fill\": {\"color\": \"#EBF0F8\"}, \"line\": {\"color\": \"white\"}}, \"header\": {\"fill\": {\"color\": \"#C8D4E3\"}, \"line\": {\"color\": \"white\"}}, \"type\": \"table\"}]}, \"layout\": {\"annotationdefaults\": {\"arrowcolor\": \"#2a3f5f\", \"arrowhead\": 0, \"arrowwidth\": 1}, \"autotypenumbers\": \"strict\", \"coloraxis\": {\"colorbar\": {\"outlinewidth\": 0, \"ticks\": \"\"}}, \"colorscale\": {\"diverging\": [[0, \"#8e0152\"], [0.1, \"#c51b7d\"], [0.2, \"#de77ae\"], [0.3, \"#f1b6da\"], [0.4, \"#fde0ef\"], [0.5, \"#f7f7f7\"], [0.6, \"#e6f5d0\"], [0.7, \"#b8e186\"], [0.8, \"#7fbc41\"], [0.9, \"#4d9221\"], [1, \"#276419\"]], \"sequential\": [[0.0, \"#0d0887\"], [0.1111111111111111, \"#46039f\"], [0.2222222222222222, \"#7201a8\"], [0.3333333333333333, \"#9c179e\"], [0.4444444444444444, \"#bd3786\"], [0.5555555555555556, \"#d8576b\"], [0.6666666666666666, \"#ed7953\"], [0.7777777777777778, \"#fb9f3a\"], [0.8888888888888888, \"#fdca26\"], [1.0, \"#f0f921\"]], \"sequentialminus\": [[0.0, \"#0d0887\"], [0.1111111111111111, \"#46039f\"], [0.2222222222222222, \"#7201a8\"], [0.3333333333333333, \"#9c179e\"], [0.4444444444444444, \"#bd3786\"], [0.5555555555555556, \"#d8576b\"], [0.6666666666666666, \"#ed7953\"], [0.7777777777777778, \"#fb9f3a\"], [0.8888888888888888, \"#fdca26\"], [1.0, \"#f0f921\"]]}, \"colorway\": [\"#636efa\", \"#EF553B\", \"#00cc96\", \"#ab63fa\", \"#FFA15A\", \"#19d3f3\", \"#FF6692\", \"#B6E880\", \"#FF97FF\", \"#FECB52\"], \"font\": {\"color\": \"#2a3f5f\"}, \"geo\": {\"bgcolor\": \"white\", \"lakecolor\": \"white\", \"landcolor\": \"#E5ECF6\", \"showlakes\": true, \"showland\": true, \"subunitcolor\": \"white\"}, \"hoverlabel\": {\"align\": \"left\"}, \"hovermode\": \"closest\", \"mapbox\": {\"style\": \"light\"}, \"paper_bgcolor\": \"white\", \"plot_bgcolor\": \"#E5ECF6\", \"polar\": {\"angularaxis\": {\"gridcolor\": \"white\", \"linecolor\": \"white\", \"ticks\": \"\"}, \"bgcolor\": \"#E5ECF6\", \"radialaxis\": {\"gridcolor\": \"white\", \"linecolor\": \"white\", \"ticks\": \"\"}}, \"scene\": {\"xaxis\": {\"backgroundcolor\": \"#E5ECF6\", \"gridcolor\": \"white\", \"gridwidth\": 2, \"linecolor\": \"white\", \"showbackground\": true, \"ticks\": \"\", \"zerolinecolor\": \"white\"}, \"yaxis\": {\"backgroundcolor\": \"#E5ECF6\", \"gridcolor\": \"white\", \"gridwidth\": 2, \"linecolor\": \"white\", \"showbackground\": true, \"ticks\": \"\", \"zerolinecolor\": \"white\"}, \"zaxis\": {\"backgroundcolor\": \"#E5ECF6\", \"gridcolor\": \"white\", \"gridwidth\": 2, \"linecolor\": \"white\", \"showbackground\": true, \"ticks\": \"\", \"zerolinecolor\": \"white\"}}, \"shapedefaults\": {\"line\": {\"color\": \"#2a3f5f\"}}, \"ternary\": {\"aaxis\": {\"gridcolor\": \"white\", \"linecolor\": \"white\", \"ticks\": \"\"}, \"baxis\": {\"gridcolor\": \"white\", \"linecolor\": \"white\", \"ticks\": \"\"}, \"bgcolor\": \"#E5ECF6\", \"caxis\": {\"gridcolor\": \"white\", \"linecolor\": \"white\", \"ticks\": \"\"}}, \"title\": {\"x\": 0.05}, \"xaxis\": {\"automargin\": true, \"gridcolor\": \"white\", \"linecolor\": \"white\", \"ticks\": \"\", \"title\": {\"standoff\": 15}, \"zerolinecolor\": \"white\", \"zerolinewidth\": 2}, \"yaxis\": {\"automargin\": true, \"gridcolor\": \"white\", \"linecolor\": \"white\", \"ticks\": \"\", \"title\": {\"standoff\": 15}, \"zerolinecolor\": \"white\", \"zerolinewidth\": 2}}}, \"title\": {\"text\": \"PCA\"}},                        {\"responsive\": true}                    ).then(function(){\n",
       "                            \n",
       "var gd = document.getElementById('6e7d6312-5549-41ae-b8ce-eaf807a91015');\n",
       "var x = new MutationObserver(function (mutations, observer) {{\n",
       "        var display = window.getComputedStyle(gd).display;\n",
       "        if (!display || display === 'none') {{\n",
       "            console.log([gd, 'removed!']);\n",
       "            Plotly.purge(gd);\n",
       "            observer.disconnect();\n",
       "        }}\n",
       "}});\n",
       "\n",
       "// Listen for the removal of the full notebook cells\n",
       "var notebookContainer = gd.closest('#notebook-container');\n",
       "if (notebookContainer) {{\n",
       "    x.observe(notebookContainer, {childList: true});\n",
       "}}\n",
       "\n",
       "// Listen for the clearing of the current output cell\n",
       "var outputEl = gd.closest('.output');\n",
       "if (outputEl) {{\n",
       "    x.observe(outputEl, {childList: true});\n",
       "}}\n",
       "\n",
       "                        })                };                });            </script>        </div>"
      ]
     },
     "metadata": {},
     "output_type": "display_data"
    }
   ],
   "source": [
    "trace = go.Scatter(x=result['X'].values,\n",
    "                   y=result['Y'].values,\n",
    "                   text=result['texto'].values,\n",
    "                   mode='markers',\n",
    "                   marker=dict(color=result['colores'].values)) \n",
    "\n",
    "layout = go.Layout(title=\"PCA\")\n",
    "\n",
    "fig = go.Figure(data=trace, layout=layout)\n",
    "iplot(fig)"
   ]
  },
  {
   "cell_type": "code",
   "execution_count": 17,
   "id": "lightweight-savings",
   "metadata": {},
   "outputs": [],
   "source": [
    "nuevo = [\"Estructurar proyectos de analítica de datos que permitan satisfacer las necesidades de información de las organizaciones.\", \"Implementar modelos analíticos y predictivos de un alcance básico que respondan a las necesidades de información de las organizaciones\", \"Sintetizar de forma eficiente los resultados obtenidos a partir de la información y del desarrollo de los análisis obtenidos al aplicar las metodologías estadísticas y de machine learning que estén a su alcance, como también comprender los resultantes de las técnicas analíticas y predictivas más avanzadas\", \"Apoyar la puesta en producción de las soluciones obtenidas a partir de un proyecto de analítica\", \"Tomar decisiones estratégicas con base en la información analizada\", \"Comunicar a las audiencias de diferentes áreas los hallazgos encontrados a partir del desarrollo del proyecto de analítica de datos\"]"
   ]
  },
  {
   "cell_type": "code",
   "execution_count": 18,
   "id": "secondary-hungarian",
   "metadata": {},
   "outputs": [
    {
     "data": {
      "text/plain": [
       "['3', '2', '2', '2', '2', '2']"
      ]
     },
     "execution_count": 18,
     "metadata": {},
     "output_type": "execute_result"
    }
   ],
   "source": [
    "nuevo_trans = tfidf_vect.transform(nuevo)\n",
    "[clusters[i] for i in model.predict(nuevo_trans)]"
   ]
  },
  {
   "cell_type": "code",
   "execution_count": null,
   "id": "intended-reason",
   "metadata": {},
   "outputs": [],
   "source": []
  },
  {
   "cell_type": "code",
   "execution_count": null,
   "id": "alert-insider",
   "metadata": {},
   "outputs": [],
   "source": []
  },
  {
   "cell_type": "code",
   "execution_count": null,
   "id": "boxed-appraisal",
   "metadata": {},
   "outputs": [],
   "source": []
  }
 ],
 "metadata": {
  "kernelspec": {
   "display_name": "Python 3",
   "language": "python",
   "name": "python3"
  },
  "language_info": {
   "codemirror_mode": {
    "name": "ipython",
    "version": 3
   },
   "file_extension": ".py",
   "mimetype": "text/x-python",
   "name": "python",
   "nbconvert_exporter": "python",
   "pygments_lexer": "ipython3",
   "version": "3.8.8"
  }
 },
 "nbformat": 4,
 "nbformat_minor": 5
}
