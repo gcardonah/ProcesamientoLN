{
 "cells": [
  {
   "cell_type": "code",
   "execution_count": 21,
   "metadata": {},
   "outputs": [],
   "source": [
    "import re\n",
    "from csv import reader\n",
    "import pandas as pd\n",
    "import numpy as np\n",
    "from collections import Counter\n",
    "\n",
    "from nltk.corpus import stopwords\n",
    "stopwords_sp = stopwords.words('spanish')\n",
    "\n",
    "from sklearn.feature_extraction.text import CountVectorizer"
   ]
  },
  {
   "cell_type": "code",
   "execution_count": 55,
   "metadata": {},
   "outputs": [
    {
     "data": {
      "text/html": [
       "<div>\n",
       "<style scoped>\n",
       "    .dataframe tbody tr th:only-of-type {\n",
       "        vertical-align: middle;\n",
       "    }\n",
       "\n",
       "    .dataframe tbody tr th {\n",
       "        vertical-align: top;\n",
       "    }\n",
       "\n",
       "    .dataframe thead th {\n",
       "        text-align: right;\n",
       "    }\n",
       "</style>\n",
       "<table border=\"1\" class=\"dataframe\">\n",
       "  <thead>\n",
       "    <tr style=\"text-align: right;\">\n",
       "      <th></th>\n",
       "      <th>Locución</th>\n",
       "    </tr>\n",
       "  </thead>\n",
       "  <tbody>\n",
       "    <tr>\n",
       "      <th>0</th>\n",
       "      <td>Francamente no</td>\n",
       "    </tr>\n",
       "    <tr>\n",
       "      <th>1</th>\n",
       "      <td>Lo del canadiense. Por favor, como que vosotro...</td>\n",
       "    </tr>\n",
       "    <tr>\n",
       "      <th>2</th>\n",
       "      <td>Tienes razón. A lo mejor así te liberas de tu ...</td>\n",
       "    </tr>\n",
       "    <tr>\n",
       "      <th>3</th>\n",
       "      <td>Pues, tú sabrás</td>\n",
       "    </tr>\n",
       "    <tr>\n",
       "      <th>4</th>\n",
       "      <td>Para mí que fue Krieger</td>\n",
       "    </tr>\n",
       "    <tr>\n",
       "      <th>...</th>\n",
       "      <td>...</td>\n",
       "    </tr>\n",
       "    <tr>\n",
       "      <th>954</th>\n",
       "      <td>Yo qué sé, digo yo qué será</td>\n",
       "    </tr>\n",
       "    <tr>\n",
       "      <th>955</th>\n",
       "      <td>Lo han entendido mal. Las joyas que venden en ...</td>\n",
       "    </tr>\n",
       "    <tr>\n",
       "      <th>956</th>\n",
       "      <td>Oooo... Me llamo Vivian</td>\n",
       "    </tr>\n",
       "    <tr>\n",
       "      <th>957</th>\n",
       "      <td>¿De dónde? ¿Del coño de tu madre?</td>\n",
       "    </tr>\n",
       "    <tr>\n",
       "      <th>958</th>\n",
       "      <td>Ah, sí esto podría funcionar</td>\n",
       "    </tr>\n",
       "  </tbody>\n",
       "</table>\n",
       "<p>959 rows × 1 columns</p>\n",
       "</div>"
      ],
      "text/plain": [
       "                                              Locución\n",
       "0                                       Francamente no\n",
       "1    Lo del canadiense. Por favor, como que vosotro...\n",
       "2    Tienes razón. A lo mejor así te liberas de tu ...\n",
       "3                                      Pues, tú sabrás\n",
       "4                              Para mí que fue Krieger\n",
       "..                                                 ...\n",
       "954                        Yo qué sé, digo yo qué será\n",
       "955  Lo han entendido mal. Las joyas que venden en ...\n",
       "956                            Oooo... Me llamo Vivian\n",
       "957                  ¿De dónde? ¿Del coño de tu madre?\n",
       "958                       Ah, sí esto podría funcionar\n",
       "\n",
       "[959 rows x 1 columns]"
      ]
     },
     "execution_count": 55,
     "metadata": {},
     "output_type": "execute_result"
    }
   ],
   "source": [
    "import matplotlib.pyplot as plt\n",
    "datos = pd.read_csv('/Users/machd/Desktop/NPL/dialogos.csv')\n",
    "datosinciales = datos\n",
    "datosinciales"
   ]
  },
  {
   "cell_type": "code",
   "execution_count": 183,
   "metadata": {},
   "outputs": [],
   "source": [
    "\n",
    "def textoRegex(quitartildes):\n",
    "    a = quitartildes.replace(\"á\", \"a\")\n",
    "    e = a.replace(\"é\", \"e\")\n",
    "    i = e.replace(\"í\", \"i\")\n",
    "    o = i.replace(\"ó\", \"o\")\n",
    "    u = o.replace(\"ú\", \"u\")\n",
    "    return u\n",
    "\n",
    "def textoOneHotEnc(texto):\n",
    "    textonhot = []\n",
    "    for palabras in texto.split():\n",
    "        textonhot.append(vocab_onehot[palabras].tolist())\n",
    "    print(textonhot)\n"
   ]
  },
  {
   "cell_type": "code",
   "execution_count": null,
   "metadata": {},
   "outputs": [],
   "source": [
    "textooriginal = datosinciales.to_string()\n",
    "textooriginal = textooriginal.strip()\n",
    "#textooriginal = textooriginal.split() # Tokenizar\n",
    "\n",
    "#convertir objeto texto a cadena para realizar las modificaciones\n",
    "#datos = datos.to_string()\n",
    "\n",
    "texto = datos.lower() # Minúscula\n",
    "texto = re.sub(r\"[\\W\\d]\", \" \", texto) # Dejar sólo letras\n",
    "texto = textoRegex(texto)\n",
    "textomodificado = texto.strip()\n",
    "textomodificadoarray = textomodificado.split() # Tokenizar\n",
    "#type(textomodificadoarray)\n",
    "#textomodificadoarray"
   ]
  },
  {
   "cell_type": "code",
   "execution_count": 202,
   "metadata": {},
   "outputs": [
    {
     "name": "stdout",
     "output_type": "stream",
     "text": [
      "[('hablemos', 1), ('brasileño', 2), ('sera', 3), ('harrys', 4), ('permanente', 5), ('pillarte', 6), ('nuevo', 7), ('siquera', 8), ('batido', 9), ('franco', 10), ('joyas', 11), ('moda', 12), ('uno', 13), ('jugando', 14), ('pegado', 15), ('esa', 16), ('cochecito', 17), ('minuto', 18), ('cubrira', 19), ('tercera', 20), ('llaves', 21), ('acompaña', 22), ('sentir', 23), ('cola', 24), ('principal', 25), ('lleves', 26), ('niños', 27), ('grupo', 28), ('blindado', 29), ('auto', 30), ('puerta', 31), ('ellos', 32), ('investigaciones', 33), ('espere', 34), ('peso', 35), ('bienvenidos', 36), ('improvisaciones', 37), ('campo', 38), ('quince', 39), ('aviso', 40), ('pasta', 41), ('avergonzarse', 42), ('tenemos', 43), ('prefiero', 44), ('alegre', 45), ('fotos', 46), ('encargados', 47), ('archivo', 48), ('mano', 49), ('inventor', 50), ('huecos', 51), ('vivian', 52), ('lugar', 53), ('hacerte', 54), ('ibas', 55), ('desangrando', 56), ('mesas', 57), ('reformar', 58), ('esperandome', 59), ('estemos', 60), ('idiotas', 61), ('terminar', 62), ('dura', 63), ('llamamos', 64), ('pidiera', 65), ('argentio', 66), ('santo', 67), ('varios', 68), ('bebida', 69), ('padre', 70), ('suyas', 71), ('hermanita', 72), ('criar', 73), ('slater', 74), ('conduce', 75), ('minutos', 76), ('necesidad', 77), ('entendido', 78), ('crezcas', 79), ('somos', 80), ('atreven', 81), ('estes', 82), ('ancianos', 83), ('resolverlo', 84), ('mueras', 85), ('arbitro', 86), ('señora', 87), ('avion', 88), ('juro', 89), ('acabado', 90), ('caso', 91), ('bikini', 92), ('explotan', 93), ('cierrate', 94), ('perfecto', 95), ('pego', 96), ('crucial', 97), ('dolares', 98), ('salirse', 99), ('bendito', 100), ('conductos', 101), ('apuntado', 102), ('calla', 103), ('riders', 104), ('millones', 105), ('hablar', 106), ('esmeralda', 107), ('aplauso', 108), ('asustado', 109), ('tres', 110), ('puñalara', 111), ('estoy', 112), ('recuerdenlo', 113), ('arriba', 114), ('llamo', 115), ('diez', 116), ('clave', 117), ('mega', 118), ('comenzar', 119), ('pensaba', 120), ('habra', 121), ('jodia', 122), ('evitar', 123), ('caña', 124), ('hara', 125), ('decirte', 126), ('gentil', 127), ('procura', 128), ('papa', 129), ('gusto', 130), ('di', 131), ('supergay', 132), ('botella', 133), ('uh', 134), ('os', 135), ('envidia', 136), ('uniformes', 137), ('g', 138), ('tenerla', 139), ('chovinista', 140), ('entiendes', 141), ('bajos', 142), ('estupido', 143), ('prueba', 144), ('malisima', 145), ('veinte', 146), ('da', 147), ('callas', 148), ('tranquilo', 149), ('niño', 150), ('jugar', 151), ('militar', 152), ('joden', 153), ('estan', 154), ('caballeros', 155), ('profesional', 156), ('querre', 157), ('leccion', 158), ('tantos', 159), ('oido', 160), ('kane', 161), ('crees', 162), ('escuchen', 163), ('lleguen', 164), ('fastidiarse', 165), ('gracias', 166), ('venido', 167), ('provienen', 168), ('tiene', 169), ('sigues', 170), ('sus', 171), ('significa', 172), ('siendo', 173), ('comienzan', 174), ('relacion', 175), ('viviria', 176), ('multiracial', 177), ('mate', 178), ('podrias', 179), ('perstigioso', 180), ('memoria', 181), ('incluida', 182), ('caemos', 183), ('rie', 184), ('himno', 185), ('noventa', 186), ('conte', 187), ('disculpe', 188), ('investigacion', 189), ('oro', 190), ('washington', 191), ('suelo', 192), ('hablaste', 193), ('escuchar', 194), ('limon', 195), ('dejar', 196), ('joderla', 197), ('cero', 198), ('llegar', 199), ('quatorce', 200), ('venimos', 201), ('kay', 202), ('asiatica', 203), ('romper', 204), ('juega', 205), ('cargando', 206), ('hueca', 207), ('mirandolo', 208), ('pensar', 209), ('sospechabamos', 210), ('pisos', 211), ('lecciones', 212), ('usan', 213), ('amenazado', 214), ('lunes', 215), ('acorazada', 216), ('puedo', 217), ('genial', 218), ('identificacion', 219), ('centro', 220), ('llevanos', 221), ('pistol', 222), ('avisarselo', 223), ('retina', 224), ('ido', 225), ('medica', 226), ('venga', 227), ('alegra', 228), ('aprovecha', 229), ('pago', 230), ('entrenarlos', 231), ('o', 232), ('cubreme', 233), ('suerte', 234), ('ciego', 235), ('impresionar', 236), ('bienvenido', 237), ('cerramos', 238), ('sacamos', 239), ('puntos', 240), ('hermosa', 241), ('indicado', 242), ('necesitare', 243), ('has', 244), ('acercarse', 245), ('sufriendo', 246), ('masticaras', 247), ('cantidades', 248), ('virgen', 249), ('quedariamos', 250), ('tome', 251), ('estudiando', 252), ('zona', 253), ('cabecita', 254), ('compasiva', 255), ('provocar', 256), ('ordenador', 257), ('oficial', 258), ('semejante', 259), ('bebe', 260), ('provoca', 261), ('formar', 262), ('quisiera', 263), ('stanley', 264), ('interrupciones', 265), ('chupalas', 266), ('enormes', 267), ('llevando', 268), ('division', 269), ('copa', 270), ('bolas', 271), ('devolvemos', 272), ('trabajo', 273), ('comprador', 274), ('contentisimo', 275), ('falta', 276), ('atrapa', 277), ('fuimos', 278), ('grite', 279), ('usado', 280), ('compasion', 281), ('llame', 282), ('suficientes', 283), ('seguridad', 284), ('cielos', 285), ('golpeen', 286), ('calle', 287), ('gustaran', 288), ('ojala', 289), ('cremoso', 290), ('pais', 291), ('ser', 292), ('todo', 293), ('brazaleta', 294), ('siempre', 295), ('perdido', 296), ('tambien', 297), ('pobrecito', 298), ('podriamos', 299), ('nuestra', 300), ('tiempo', 301), ('viene', 302), ('violadores', 303), ('robado', 304), ('meteria', 305), ('dentro', 306), ('corbatita', 307), ('igualito', 308), ('gruño', 309), ('delantera', 310), ('conoceis', 311), ('necesita', 312), ('sonreiremos', 313), ('esclavizados', 314), ('armado', 315), ('broncos', 316), ('tetfield', 317), ('jhonsson', 318), ('nuestras', 319), ('urdu', 320), ('asusto', 321), ('mala', 322), ('fundidor', 323), ('enviarlo', 324), ('llamen', 325), ('cara', 326), ('tipo', 327), ('traumas', 328), ('ancha', 329), ('disparado', 330), ('creo', 331), ('actos', 332), ('puse', 333), ('mision', 334), ('escupieras', 335), ('olvidarme', 336), ('clavos', 337), ('confundido', 338), ('playa', 339), ('estos', 340), ('sueño', 341), ('lleve', 342), ('mike', 343), ('brasilia', 344), ('cada', 345), ('regalo', 346), ('necesites', 347), ('wohoo', 348), ('gustaria', 349), ('licores', 350), ('barbaros', 351), ('estare', 352), ('habria', 353), ('hico', 354), ('seras', 355), ('ahora', 356), ('ganador', 357), ('andabamos', 358), ('conoce', 359), ('ciborg', 360), ('puede', 361), ('espalda', 362), ('lleno', 363), ('cosa', 364), ('atrape', 365), ('saber', 366), ('conducir', 367), ('cartel', 368), ('saluda', 369), ('television', 370), ('reemplazar', 371), ('visto', 372), ('llamativo', 373), ('laboralista', 374), ('encantan', 375), ('torpe', 376), ('veras', 377), ('queriamos', 378), ('locucion', 379), ('usarla', 380), ('ochenta', 381), ('presionar', 382), ('bienvenida', 383), ('necesitas', 384), ('novatos', 385), ('browns', 386), ('jueguen', 387), ('comprenlo', 388), ('quienquiera', 389), ('llevas', 390), ('quieres', 391), ('seguimos', 392), ('aliado', 393), ('va', 394), ('algunas', 395), ('sentido', 396), ('key', 397), ('haga', 398), ('controles', 399), ('precio', 400), ('ponerte', 401), ('pastor', 402), ('sabian', 403), ('proteger', 404), ('secas', 405), ('bebes', 406), ('crear', 407), ('deportes', 408), ('padres', 409), ('vieja', 410), ('tenia', 411), ('fuego', 412), ('calvos', 413), ('gastaste', 414), ('pobre', 415), ('prohibe', 416), ('entrando', 417), ('sueños', 418), ('central', 419), ('de', 420), ('informatico', 421), ('ello', 422), ('litro', 423), ('echar', 424), ('leido', 425), ('veo', 426), ('funciona', 427), ('custodiada', 428), ('interesantes', 429), ('jugarlo', 430), ('significaba', 431), ('señal', 432), ('hacerlo', 433), ('practicar', 434), ('aceptarlo', 435), ('cuando', 436), ('palabra', 437), ('serio', 438), ('divertiste', 439), ('gritar', 440), ('sabras', 441), ('ese', 442), ('adios', 443), ('tirariais', 444), ('cascos', 445), ('salio', 446), ('mierda', 447), ('volveria', 448), ('volvere', 449), ('intento', 450), ('sharon', 451), ('resuelven', 452), ('pague', 453), ('cerrado', 454), ('molar', 455), ('oigo', 456), ('par', 457), ('dejarlo', 458), ('esto', 459), ('ofensiva', 460), ('mexicanos', 461), ('numero', 462), ('darle', 463), ('cuestan', 464), ('cin', 465), ('venden', 466), ('juntos', 467), ('cargar', 468), ('que', 469), ('teneis', 470), ('era', 471), ('tomandose', 472), ('pario', 473), ('cabrearme', 474), ('jim', 475), ('mujer', 476), ('esfuerzo', 477), ('pasarse', 478), ('relativo', 479), ('parece', 480), ('necesito', 481), ('doy', 482), ('buen', 483), ('ay', 484), ('quedara', 485), ('dijeron', 486), ('dejado', 487), ('infromacion', 488), ('desaparecido', 489), ('datos', 490), ('haz', 491), ('serias', 492), ('tuyos', 493), ('funcionara', 494), ('proviene', 495), ('club', 496), ('parecerse', 497), ('juego', 498), ('genios', 499), ('dile', 500), ('pasa', 501), ('consigo', 502), ('ni', 503), ('rato', 504), ('operan', 505), ('hayan', 506), ('llamame', 507), ('invito', 508), ('he', 509), ('traer', 510), ('agradecerte', 511), ('nieto', 512), ('mamada', 513), ('mire', 514), ('hijo', 515), ('conmocionado', 516), ('eric', 517), ('quidaras', 518), ('refran', 519), ('consiento', 520), ('rayos', 521), ('afortunados', 522), ('cuadras', 523), ('animadoras', 524), ('gramo', 525), ('venta', 526), ('despistar', 527), ('porque', 528), ('muchisimo', 529), ('volvio', 530), ('chupe', 531), ('oiga', 532), ('e', 533), ('mejora', 534), ('rayo', 535), ('servicios', 536), ('nombre', 537), ('queria', 538), ('locos', 539), ('disfrutar', 540), ('supuestos', 541), ('culos', 542), ('especiales', 543), ('bondad', 544), ('hablando', 545), ('tio', 546), ('negamos', 547), ('referia', 548), ('tequila', 549), ('visita', 550), ('j', 551), ('llave', 552), ('convertirlo', 553), ('acceder', 554), ('enfestar', 555), ('rusos', 556), ('resto', 557), ('noches', 558), ('mmm', 559), ('ken', 560), ('guardadas', 561), ('rico', 562), ('noche', 563), ('consultemos', 564), ('shelly', 565), ('chisme', 566), ('persona', 567), ('joder', 568), ('cabrones', 569), ('llevarse', 570), ('casa', 571), ('pasar', 572), ('algunos', 573), ('las', 574), ('mio', 575), ('nacional', 576), ('ultimo', 577), ('salvo', 578), ('indica', 579), ('pense', 580), ('nube', 581), ('estrella', 582), ('producto', 583), ('yurta', 584), ('country', 585), ('cuatorce', 586), ('homofobico', 587), ('ayudaremos', 588), ('tirado', 589), ('hizo', 590), ('inmaduro', 591), ('menos', 592), ('podido', 593), ('valor', 594), ('estaba', 595), ('jugador', 596), ('vienes', 597), ('busca', 598), ('martin', 599), ('niña', 600), ('varias', 601), ('hacernos', 602), ('buscando', 603), ('cadena', 604), ('gramos', 605), ('ven', 606), ('secreto', 607), ('pregunta', 608), ('vacia', 609), ('cual', 610), ('llevare', 611), ('pañales', 612), ('contexto', 613), ('rey', 614), ('gastar', 615), ('deberian', 616), ('brujula', 617), ('vestidos', 618), ('imaginario', 619), ('estaras', 620), ('cuatrao', 621), ('totalmente', 622), ('entrega', 623), ('continue', 624), ('pai', 625), ('secuencia', 626), ('intente', 627), ('solidas', 628), ('presidencia', 629), ('pena', 630), ('divertido', 631), ('quete', 632), ('barra', 633), ('disco', 634), ('token', 635), ('donde', 636), ('mover', 637), ('actuante', 638), ('hombre', 639), ('felicitaciones', 640), ('atleta', 641), ('comprarles', 642), ('simulacro', 643), ('gicante', 644), ('ver', 645), ('como', 646), ('precios', 647), ('comerciales', 648), ('lindas', 649), ('falsos', 650), ('papas', 651), ('directa', 652), ('haria', 653), ('rellenita', 654), ('vera', 655), ('oye', 656), ('foto', 657), ('culpa', 658), ('decia', 659), ('tendriamos', 660), ('logico', 661), ('deciremos', 662), ('enfermedad', 663), ('vida', 664), ('jugo', 665), ('licencia', 666), ('ocupado', 667), ('uuh', 668), ('hermana', 669), ('haceis', 670), ('esperando', 671), ('pensando', 672), ('cañero', 673), ('hacia', 674), ('tengo', 675), ('eh', 676), ('aj', 677), ('partir', 678), ('vuelve', 679), ('corazon', 680), ('ti', 681), ('amenaza', 682), ('rondie', 683), ('guardarla', 684), ('toman', 685), ('stillers', 686), ('norths', 687), ('con', 688), ('niñera', 689), ('gorda', 690), ('nunca', 691), ('hable', 692), ('recargando', 693), ('rancasteis', 694), ('recuperar', 695), ('guardar', 696), ('robo', 697), ('ultima', 698), ('momento', 699), ('lastimen', 700), ('promocion', 701), ('terrible', 702), ('todas', 703), ('verdad', 704), ('otro', 705), ('olvidense', 706), ('entregarte', 707), ('reforzada', 708), ('asi', 709), ('accidentes', 710), ('programa', 711), ('abrazos', 712), ('costoso', 713), ('collares', 714), ('culebron', 715), ('producen', 716), ('aceptamos', 717), ('podria', 718), ('quilates', 719), ('tenias', 720), ('sacara', 721), ('francesa', 722), ('miente', 723), ('lando', 724), ('resumiendo', 725), ('jodemos', 726), ('fanatico', 727), ('mientras', 728), ('recuerdo', 729), ('rompere', 730), ('nuevos', 731), ('formula', 732), ('aretes', 733), ('osito', 734), ('sacarlo', 735), ('la', 736), ('ofrecerte', 737), ('llamemos', 738), ('puedas', 739), ('pateamos', 740), ('intenten', 741), ('lexington', 742), ('enemigo', 743), ('rome', 744), ('woodly', 745), ('guardarlo', 746), ('multicampo', 747), ('sesiones', 748), ('patear', 749), ('antimateria', 750), ('vuelva', 751), ('cosas', 752), ('decirles', 753), ('piso', 754), ('chupamela', 755), ('todavia', 756), ('dicelo', 757), ('botellitas', 758), ('estar', 759), ('otras', 760), ('descortez', 761), ('durmiendo', 762), ('tranquila', 763), ('acuerdo', 764), ('otros', 765), ('compasivos', 766), ('señala', 767), ('personas', 768), ('ayudarme', 769), ('refuerzos', 770), ('callaos', 771), ('peletero', 772), ('flecha', 773), ('abracen', 774), ('compañeros', 775), ('hacer', 776), ('pregunto', 777), ('fallecer', 778), ('turquesa', 779), ('asustar', 780), ('seguidores', 781), ('safiros', 782), ('pelo', 783), ('excusado', 784), ('relleno', 785), ('cuija', 786), ('muchachos', 787), ('dense', 788), ('retiramos', 789), ('sube', 790), ('abrelo', 791), ('imbeciles', 792), ('tienes', 793), ('compasibles', 794), ('autorizada', 795), ('lucen', 796), ('resulta', 797), ('emociona', 798), ('costo', 799), ('maquillaron', 800), ('agradezca', 801), ('caballero', 802), ('sofa', 803), ('señor', 804), ('salgan', 805), ('formas', 806), ('apuesto', 807), ('practicamente', 808), ('vuelvo', 809), ('ojos', 810), ('secuestrado', 811), ('sin', 812), ('ofrece', 813), ('positivo', 814), ('relajar', 815), ('quitado', 816), ('canales', 817), ('realmente', 818), ('compasivo', 819), ('damos', 820), ('maldito', 821), ('clavado', 822), ('corbata', 823), ('improvisable', 824), ('jamontillado', 825), ('contado', 826), ('descaradamente', 827), ('estamos', 828), ('desintoxicandose', 829), ('razon', 830), ('licor', 831), ('espermas', 832), ('aires', 833), ('reventa', 834), ('manos', 835), ('tios', 836), ('efectos', 837), ('atencion', 838), ('triste', 839), ('lugares', 840), ('misma', 841), ('confunden', 842), ('camisa', 843), ('extra', 844), ('amo', 845), ('primo', 846), ('llevar', 847), ('saldremos', 848), ('strip', 849), ('tomar', 850), ('pondre', 851), ('debe', 852), ('maravilloso', 853), ('estado', 854), ('negors', 855), ('mata', 856), ('terraza', 857), ('peor', 858), ('espaldas', 859), ('es', 860), ('buenas', 861), ('veimos', 862), ('kilitos', 863), ('saludaras', 864), ('conseguir', 865), ('portado', 866), ('cuantas', 867), ('guapa', 868), ('posan', 869), ('deje', 870), ('colocar', 871), ('completamete', 872), ('america', 873), ('pedirnos', 874), ('botiquin', 875), ('diste', 876), ('sobre', 877), ('ayudame', 878), ('cambio', 879), ('transmision', 880), ('demas', 881), ('frivolidades', 882), ('mil', 883), ('dicho', 884), ('ciencia', 885), ('dispararme', 886), ('marca', 887), ('hubiera', 888), ('siesta', 889), ('duro', 890), ('hielo', 891), ('amenazar', 892), ('pensamientos', 893), ('amable', 894), ('abracense', 895), ('voluntad', 896), ('vater', 897), ('carambola', 898), ('practica', 899), ('traicioneros', 900), ('llamaras', 901), ('mercado', 902), ('compra', 903), ('fiarme', 904), ('genitalios', 905), ('herir', 906), ('crecido', 907), ('acaba', 908), ('capas', 909), ('problema', 910), ('facil', 911), ('sirven', 912), ('ciertamente', 913), ('cabo', 914), ('majo', 915), ('tono', 916), ('temas', 917), ('pequeña', 918), ('asunto', 919), ('pues', 920), ('demasiado', 921), ('encantaria', 922), ('vuelvete', 923), ('ascani', 924), ('digo', 925), ('oferta', 926), ('voy', 927), ('del', 928), ('cristi', 929), ('escuela', 930), ('coge', 931), ('frente', 932), ('vagamente', 933), ('sujetes', 934), ('grandes', 935), ('generoso', 936), ('mente', 937), ('inaugural', 938), ('tienda', 939), ('ridiculo', 940), ('juegas', 941), ('cruzado', 942), ('espera', 943), ('gane', 944), ('busco', 945), ('altura', 946), ('testamento', 947), ('wow', 948), ('oso', 949), ('estuviera', 950), ('nuestro', 951), ('tarjeta', 952), ('libres', 953), ('intentaron', 954), ('haber', 955), ('agradecernos', 956), ('ocurren', 957), ('cartman', 958), ('perdon', 959), ('garage', 960), ('tenga', 961), ('necesarias', 962), ('doritos', 963), ('cierra', 964), ('patches', 965), ('area', 966), ('conversacion', 967), ('bebemos', 968), ('verte', 969), ('tragado', 970), ('pusiste', 971), ('parte', 972), ('fuera', 973), ('repente', 974), ('carteles', 975), ('puñalada', 976), ('amaba', 977), ('facilmente', 978), ('pistola', 979), ('sientes', 980), ('hecho', 981), ('cientos', 982), ('futuro', 983), ('collar', 984), ('dije', 985), ('ofrezco', 986), ('prometo', 987), ('mali', 988), ('implicare', 989), ('nfl', 990), ('valiosas', 991), ('entusiasma', 992), ('vergon', 993), ('gritan', 994), ('esmeraldas', 995), ('verla', 996), ('hasta', 997), ('partida', 998), ('legal', 999), ('abogada', 1000), ('quise', 1001), ('se', 1002), ('sacaste', 1003), ('cerveza', 1004), ('manera', 1005), ('usted', 1006), ('armas', 1007), ('analogia', 1008), ('tendra', 1009), ('excuso', 1010), ('acero', 1011), ('excesivo', 1012), ('hermosura', 1013), ('primer', 1014), ('dios', 1015), ('entrenador', 1016), ('brasil', 1017), ('barbaridades', 1018), ('parado', 1019), ('golpe', 1020), ('estuve', 1021), ('volver', 1022), ('liberas', 1023), ('realidad', 1024), ('cree', 1025), ('craneo', 1026), ('verdadero', 1027), ('horatio', 1028), ('funcionar', 1029), ('experiencia', 1030), ('sale', 1031), ('unos', 1032), ('mayor', 1033), ('peligroso', 1034), ('globo', 1035), ('correcto', 1036), ('y', 1037), ('sacas', 1038), ('luego', 1039), ('siquiera', 1040), ('hablamos', 1041), ('ofertas', 1042), ('limusina', 1043), ('compren', 1044), ('ray', 1045), ('hindu', 1046), ('preparas', 1047), ('verdadera', 1048), ('buena', 1049), ('dudo', 1050), ('miles', 1051), ('cuatro', 1052), ('abrazas', 1053), ('oy', 1054), ('robaron', 1055), ('sepa', 1056), ('escuelas', 1057), ('estate', 1058), ('tradicional', 1059), ('nueva', 1060), ('mejor', 1061), ('emocionante', 1062), ('autenticos', 1063), ('dificil', 1064), ('confundirme', 1065), ('jilibollas', 1066), ('llamaria', 1067), ('pedir', 1068), ('siglos', 1069), ('muchos', 1070), ('amables', 1071), ('deportaran', 1072), ('nosotros', 1073), ('jackson', 1074), ('arma', 1075), ('gustara', 1076), ('antes', 1077), ('cristal', 1078), ('dejarle', 1079), ('diamantes', 1080), ('arranco', 1081), ('paquistan', 1082), ('decidiamos', 1083), ('sinceridad', 1084), ('tiros', 1085), ('su', 1086), ('mentiste', 1087), ('mañana', 1088), ('quieto', 1089), ('lado', 1090), ('sere', 1091), ('usar', 1092), ('chica', 1093), ('pocos', 1094), ('puesto', 1095), ('trabaja', 1096), ('especial', 1097), ('notaria', 1098), ('cutre', 1099), ('efectivo', 1100), ('toma', 1101), ('canguro', 1102), ('intentan', 1103), ('compran', 1104), ('permiteme', 1105), ('estas', 1106), ('sino', 1107), ('ayudarian', 1108), ('sarcastico', 1109), ('llamas', 1110), ('comida', 1111), ('batir', 1112), ('interpretar', 1113), ('tienen', 1114), ('por', 1115), ('convertir', 1116), ('cien', 1117), ('vete', 1118), ('justo', 1119), ('parecido', 1120), ('sevidor', 1121), ('gaylandia', 1122), ('sabemos', 1123), ('claro', 1124), ('navegantes', 1125), ('cuestion', 1126), ('hace', 1127), ('joderme', 1128), ('innecesariamente', 1129), ('fin', 1130), ('hablaremos', 1131), ('conocido', 1132), ('skynet', 1133), ('cagando', 1134), ('v', 1135), ('eso', 1136), ('termino', 1137), ('lastimado', 1138), ('hicimos', 1139), ('ganando', 1140), ('hola', 1141), ('acabe', 1142), ('digan', 1143), ('vas', 1144), ('teniendo', 1145), ('escuche', 1146), ('usa', 1147), ('siete', 1148), ('miren', 1149), ('estadisticas', 1150), ('tendriais', 1151), ('pidiendo', 1152), ('nos', 1153), ('comunicamos', 1154), ('acompañar', 1155), ('reunion', 1156), ('bell', 1157), ('matematica', 1158), ('dias', 1159), ('oh', 1160), ('pillar', 1161), ('aprendiendo', 1162), ('empezar', 1163), ('terminen', 1164), ('deporte', 1165), ('tanto', 1166), ('decir', 1167), ('racista', 1168), ('nevera', 1169), ('argentina', 1170), ('sincero', 1171), ('dejarme', 1172), ('realista', 1173), ('gran', 1174), ('mexicano', 1175), ('pruebas', 1176), ('capitan', 1177), ('futbol', 1178), ('venir', 1179), ('nadie', 1180), ('negocio', 1181), ('ocurrido', 1182), ('aprendimos', 1183), ('niveles', 1184), ('en', 1185), ('paso', 1186), ('chicos', 1187), ('son', 1188), ('fondos', 1189), ('felices', 1190), ('ponerme', 1191), ('mediante', 1192), ('imbecil', 1193), ('toda', 1194), ('deja', 1195), ('leches', 1196), ('anuales', 1197), ('alzheimer', 1198), ('movil', 1199), ('paracaigas', 1200), ('haremos', 1201), ('hospitalidad', 1202), ('ojo', 1203), ('increible', 1204), ('ventana', 1205), ('disculpas', 1206), ('aquel', 1207), ('mucho', 1208), ('enrique', 1209), ('cuarenta', 1210), ('agotado', 1211), ('regla', 1212), ('boca', 1213), ('estais', 1214), ('llamarlos', 1215), ('caracter', 1216), ('haces', 1217), ('le', 1218), ('preocupados', 1219), ('juegen', 1220), ('palmadas', 1221), ('escapan', 1222), ('ocurriendo', 1223), ('ciber', 1224), ('meta', 1225), ('isis', 1226), ('hijos', 1227), ('sacad', 1228), ('quiera', 1229), ('papel', 1230), ('quedaria', 1231), ('contento', 1232), ('basa', 1233), ('espero', 1234), ('ciberosito', 1235), ('carrachi', 1236), ('decirme', 1237), ('grande', 1238), ('hacen', 1239), ('sabran', 1240), ('randy', 1241), ('algo', 1242), ('bigoton', 1243), ('edad', 1244), ('encantara', 1245), ('ventas', 1246), ('sentare', 1247), ('distinguir', 1248), ('vieron', 1249), ('importa', 1250), ('apta', 1251), ('burrito', 1252), ('cuidar', 1253), ('sedes', 1254), ('matas', 1255), ('tiro', 1256), ('burdel', 1257), ('sucedido', 1258), ('cubierto', 1259), ('canguros', 1260), ('capaz', 1261), ('fuertemente', 1262), ('nego', 1263), ('mansiones', 1264), ('kenny', 1265), ('tomemos', 1266), ('otra', 1267), ('jordana', 1268), ('sigo', 1269), ('gente', 1270), ('actor', 1271), ('regresando', 1272), ('linea', 1273), ('ocupe', 1274), ('tuviera', 1275), ('uy', 1276), ('rebalsa', 1277), ('tiempos', 1278), ('queda', 1279), ('puñado', 1280), ('dama', 1281), ('usando', 1282), ('negro', 1283), ('dijiste', 1284), ('exagera', 1285), ('animal', 1286), ('maestros', 1287), ('seais', 1288), ('gregors', 1289), ('entiendo', 1290), ('balon', 1291), ('alegria', 1292), ('cago', 1293), ('ropa', 1294), ('marchando', 1295), ('armeria', 1296), ('salchichas', 1297), ('muchisimas', 1298), ('denver', 1299), ('escansara', 1300), ('sabes', 1301), ('regalado', 1302), ('pedido', 1303), ('florecente', 1304), ('parecen', 1305), ('imigracion', 1306), ('no', 1307), ('queremos', 1308), ('derrotar', 1309), ('calido', 1310), ('woodhouse', 1311), ('ejemplo', 1312), ('comisionado', 1313), ('comprara', 1314), ('tu', 1315), ('tuya', 1316), ('duda', 1317), ('felicidad', 1318), ('tomo', 1319), ('servicio', 1320), ('dia', 1321), ('importantes', 1322), ('bueno', 1323), ('materna', 1324), ('arbitros', 1325), ('kyle', 1326), ('proveyo', 1327), ('cuesta', 1328), ('adreza', 1329), ('rendirse', 1330), ('park', 1331), ('dar', 1332), ('adentro', 1333), ('jodedor', 1334), ('sopearte', 1335), ('domingo', 1336), ('aseguro', 1337), ('hablo', 1338), ('pegas', 1339), ('van', 1340), ('azucar', 1341), ('quizas', 1342), ('cabra', 1343), ('familia', 1344), ('sabado', 1345), ('encragare', 1346), ('ganan', 1347), ('frecuente', 1348), ('lamentamos', 1349), ('este', 1350), ('normal', 1351), ('eleve', 1352), ('pidio', 1353), ('voto', 1354), ('stines', 1355), ('decide', 1356), ('envian', 1357), ('disfrutamos', 1358), ('escaleras', 1359), ('fuma', 1360), ('dispararon', 1361), ('transferencia', 1362), ('refiere', 1363), ('pronuncia', 1364), ('buscar', 1365), ('boom', 1366), ('deportiva', 1367), ('cambiara', 1368), ('ocultarlo', 1369), ('darme', 1370), ('hmm', 1371), ('violador', 1372), ('entendemos', 1373), ('krieger', 1374), ('solo', 1375), ('piensas', 1376), ('real', 1377), ('coños', 1378), ('urgencia', 1379), ('humo', 1380), ('ocurrir', 1381), ('detras', 1382), ('sangrientas', 1383), ('maneja', 1384), ('corbatas', 1385), ('lana', 1386), ('quiero', 1387), ('europa', 1388), ('excusa', 1389), ('poker', 1390), ('extrañara', 1391), ('feliz', 1392), ('usas', 1393), ('idiota', 1394), ('x', 1395), ('sesos', 1396), ('seguiste', 1397), ('ausencia', 1398), ('gustan', 1399), ('quede', 1400), ('sostenes', 1401), ('sacale', 1402), ('nueve', 1403), ('claramente', 1404), ('doctor', 1405), ('hambre', 1406), ('jolin', 1407), ('tirarte', 1408), ('improbable', 1409), ('deberiamos', 1410), ('trata', 1411), ('yo', 1412), ('fuerzas', 1413), ('cojones', 1414), ('dice', 1415), ('inteligencia', 1416), ('escolares', 1417), ('capital', 1418), ('vendra', 1419), ('felizidad', 1420), ('salidos', 1421), ('encontraran', 1422), ('intentar', 1423), ('preocupado', 1424), ('subir', 1425), ('cuidado', 1426), ('bionica', 1427), ('creemos', 1428), ('golpes', 1429), ('parezcas', 1430), ('contra', 1431), ('calor', 1432), ('asta', 1433), ('preocupes', 1434), ('cena', 1435), ('paciente', 1436), ('negativo', 1437), ('buscaran', 1438), ('latino', 1439), ('pipa', 1440), ('estabais', 1441), ('oooo', 1442), ('selector', 1443), ('humanidad', 1444), ('excusas', 1445), ('sarcasmo', 1446), ('sitio', 1447), ('contar', 1448), ('jerez', 1449), ('bordado', 1450), ('aptece', 1451), ('contarle', 1452), ('vestidor', 1453), ('despeto', 1454), ('ultramoderna', 1455), ('miel', 1456), ('inventaron', 1457), ('gusta', 1458), ('super', 1459), ('perdidio', 1460), ('trajera', 1461), ('colarnos', 1462), ('preocupacion', 1463), ('aha', 1464), ('comer', 1465), ('mis', 1466), ('aburato', 1467), ('perfil', 1468), ('amistad', 1469), ('jodas', 1470), ('recuerda', 1471), ('baño', 1472), ('viejo', 1473), ('aquella', 1474), ('beba', 1475), ('llevamos', 1476), ('laboral', 1477), ('intenta', 1478), ('rimo', 1479), ('hija', 1480), ('jodiendola', 1481), ('tipi', 1482), ('daño', 1483), ('aprovechar', 1484), ('goodell', 1485), ('acuerdas', 1486), ('si', 1487), ('bolsa', 1488), ('tacos', 1489), ('idea', 1490), ('sentimientos', 1491), ('puñalarme', 1492), ('confianza', 1493), ('fundio', 1494), ('ley', 1495), ('saltar', 1496), ('parecemos', 1497), ('cordon', 1498), ('detuvo', 1499), ('disparare', 1500), ('sarcasmobol', 1501), ('dando', 1502), ('dolar', 1503), ('quedaras', 1504), ('hagas', 1505), ('punto', 1506), ('sabias', 1507), ('pido', 1508), ('esperma', 1509), ('stan', 1510), ('preocupada', 1511), ('competitividad', 1512), ('lleva', 1513), ('dividimos', 1514), ('reales', 1515), ('iba', 1516), ('pachata', 1517), ('fresco', 1518), ('iluminarse', 1519), ('eleccion', 1520), ('sudamerica', 1521), ('demos', 1522), ('traiciono', 1523), ('replica', 1524), ('recien', 1525), ('cambios', 1526), ('escoces', 1527), ('nuestros', 1528), ('cabron', 1529), ('puta', 1530), ('unico', 1531), ('seamos', 1532), ('perro', 1533), ('recordadme', 1534), ('sido', 1535), ('haya', 1536), ('timarnos', 1537), ('mujeres', 1538), ('despeche', 1539), ('pelotas', 1540), ('hagamos', 1541), ('soy', 1542), ('energia', 1543), ('interesante', 1544), ('erais', 1545), ('corriendo', 1546), ('cinquenta', 1547), ('jugadas', 1548), ('comisionato', 1549), ('ha', 1550), ('guardas', 1551), ('desempeño', 1552), ('tengas', 1553), ('demostrando', 1554), ('creciente', 1555), ('conway', 1556), ('ten', 1557), ('pan', 1558), ('decirle', 1559), ('desde', 1560), ('hablas', 1561), ('esposa', 1562), ('quiere', 1563), ('craqueoso', 1564), ('canada', 1565), ('despierto', 1566), ('cabras', 1567), ('quien', 1568), ('sarcasticos', 1569), ('montado', 1570), ('sola', 1571), ('feas', 1572), ('pagar', 1573), ('mejorarlo', 1574), ('acceso', 1575), ('rio', 1576), ('guardare', 1577), ('caray', 1578), ('keith', 1579), ('tendrian', 1580), ('deseado', 1581), ('carita', 1582), ('esqueleto', 1583), ('pienso', 1584), ('india', 1585), ('fue', 1586), ('pastel', 1587), ('cal', 1588), ('invento', 1589), ('bret', 1590), ('conchabados', 1591), ('cualquiera', 1592), ('alumnos', 1593), ('pico', 1594), ('porcuro', 1595), ('definitivamente', 1596), ('cantante', 1597), ('skymal', 1598), ('traficante', 1599), ('directamente', 1600), ('maritin', 1601), ('mentia', 1602), ('sumamos', 1603), ('podia', 1604), ('fundir', 1605), ('laboratorio', 1606), ('vale', 1607), ('llevo', 1608), ('creer', 1609), ('eres', 1610), ('gordado', 1611), ('payton', 1612), ('aprovecharse', 1613), ('malpinas', 1614), ('hagamoslo', 1615), ('empleado', 1616), ('compromiso', 1617), ('frase', 1618), ('concentremonos', 1619), ('esprema', 1620), ('perder', 1621), ('roger', 1622), ('te', 1623), ('lo', 1624), ('vuelta', 1625), ('comodines', 1626), ('aun', 1627), ('abrazan', 1628), ('libros', 1629), ('siguiera', 1630), ('cerebro', 1631), ('solidos', 1632), ('comenzo', 1633), ('menudo', 1634), ('pareczo', 1635), ('ordenes', 1636), ('ve', 1637), ('estudo', 1638), ('gas', 1639), ('encuentra', 1640), ('jugadores', 1641), ('cambiar', 1642), ('meneara', 1643), ('decirselo', 1644), ('victimas', 1645), ('prometer', 1646), ('villy', 1647), ('horneando', 1648), ('pantalones', 1649), ('ligas', 1650), ('geneticas', 1651), ('llevaria', 1652), ('sea', 1653), ('llamara', 1654), ('corten', 1655), ('existen', 1656), ('dire', 1657), ('timo', 1658), ('tan', 1659), ('preguntado', 1660), ('clyde', 1661), ('archerizar', 1662), ('desangras', 1663), ('imponentes', 1664), ('mucha', 1665), ('tomen', 1666), ('exito', 1667), ('puto', 1668), ('mi', 1669), ('perdida', 1670), ('retribucion', 1671), ('unas', 1672), ('diarrea', 1673), ('enfrentamiento', 1674), ('leche', 1675), ('abastecido', 1676), ('abrazar', 1677), ('monstruo', 1678), ('suya', 1679), ('ayer', 1680), ('camara', 1681), ('poniendo', 1682), ('hombro', 1683), ('vendemos', 1684), ('vayas', 1685), ('necesario', 1686), ('quienes', 1687), ('hai', 1688), ('streling', 1689), ('vamos', 1690), ('tanzanita', 1691), ('vez', 1692), ('logica', 1693), ('importante', 1694), ('tapadera', 1695), ('ira', 1696), ('platos', 1697), ('jefe', 1698), ('hmmm', 1699), ('ah', 1700), ('confidencial', 1701), ('muchachas', 1702), ('burbon', 1703), ('sacarte', 1704), ('necesitamos', 1705), ('sagrado', 1706), ('deberia', 1707), ('sucia', 1708), ('quere', 1709), ('hoy', 1710), ('tecnologia', 1711), ('nuevas', 1712), ('falsa', 1713), ('claudia', 1714), ('gustof', 1715), ('sosten', 1716), ('literalmente', 1717), ('encuentren', 1718), ('credito', 1719), ('trece', 1720), ('esas', 1721), ('dispararan', 1722), ('una', 1723), ('vendria', 1724), ('cogerla', 1725), ('para', 1726), ('intentado', 1727), ('linda', 1728), ('cinco', 1729), ('recuerdos', 1730), ('bebere', 1731), ('nervioso', 1732), ('miro', 1733), ('poder', 1734), ('k', 1735), ('insultos', 1736), ('regresemos', 1737), ('deben', 1738), ('podemos', 1739), ('chinos', 1740), ('pinta', 1741), ('bien', 1742), ('cuarto', 1743), ('ex', 1744), ('unica', 1745), ('escoria', 1746), ('simbolo', 1747), ('bebas', 1748), ('casi', 1749), ('haciendo', 1750), ('entonces', 1751), ('lograr', 1752), ('ninguno', 1753), ('coño', 1754), ('suelen', 1755), ('bromista', 1756), ('fui', 1757), ('bando', 1758), ('atras', 1759), ('subid', 1760), ('malditas', 1761), ('vimos', 1762), ('parar', 1763), ('pendiente', 1764), ('descubra', 1765), ('excelente', 1766), ('fastidies', 1767), ('pueden', 1768), ('operacion', 1769), ('madre', 1770), ('movimiento', 1771), ('ganas', 1772), ('pueda', 1773), ('puedes', 1774), ('veas', 1775), ('malin', 1776), ('preguntas', 1777), ('mas', 1778), ('mandaste', 1779), ('prestame', 1780), ('dejadme', 1781), ('cuenta', 1782), ('seria', 1783), ('uah', 1784), ('equipo', 1785), ('tendremos', 1786), ('mirad', 1787), ('cansamos', 1788), ('sueltalas', 1789), ('enojemos', 1790), ('oigan', 1791), ('primera', 1792), ('liamos', 1793), ('veia', 1794), ('mejoro', 1795), ('años', 1796), ('acabas', 1797), ('alquimistas', 1798), ('mejorar', 1799), ('espectadores', 1800), ('alta', 1801), ('sede', 1802), ('saca', 1803), ('pasado', 1804), ('al', 1805), ('conseguido', 1806), ('escaneo', 1807), ('dio', 1808), ('jodiendo', 1809), ('dos', 1810), ('confiar', 1811), ('callados', 1812), ('geniales', 1813), ('pam', 1814), ('brazos', 1815), ('dispares', 1816), ('olvidemonos', 1817), ('sentiria', 1818), ('a', 1819), ('viernes', 1820), ('profesionales', 1821), ('cagar', 1822), ('burlarse', 1823), ('mostrar', 1824), ('marcador', 1825), ('loco', 1826), ('hora', 1827), ('lindo', 1828), ('llevara', 1829), ('nada', 1830), ('recibir', 1831), ('mani', 1832), ('hermosos', 1833), ('tonteria', 1834), ('creia', 1835), ('compramos', 1836), ('nagativa', 1837), ('salto', 1838), ('mentirosa', 1839), ('matar', 1840), ('avanzan', 1841), ('espia', 1842), ('lamernos', 1843), ('camraderia', 1844), ('joventud', 1845), ('quitate', 1846), ('cerca', 1847), ('cargo', 1848), ('siguiente', 1849), ('averiguaremos', 1850), ('debilidad', 1851), ('craig', 1852), ('baruk', 1853), ('sol', 1854), ('vuelvas', 1855), ('practicamos', 1856), ('traidor', 1857), ('broma', 1858), ('tobillos', 1859), ('establecio', 1860), ('siento', 1861), ('identidad', 1862), ('comprendemos', 1863), ('salchicha', 1864), ('seguro', 1865), ('amigo', 1866), ('paquistani', 1867), ('despues', 1868), ('mitade', 1869), ('soluciona', 1870), ('haras', 1871), ('duelen', 1872), ('han', 1873), ('horas', 1874), ('economia', 1875), ('asiaticas', 1876), ('levanta', 1877), ('finde', 1878), ('sacado', 1879), ('aire', 1880), ('pilas', 1881), ('copas', 1882), ('quedo', 1883), ('mato', 1884), ('voz', 1885), ('mama', 1886), ('cubrirlo', 1887), ('debo', 1888), ('tener', 1889), ('m', 1890), ('enfermedades', 1891), ('robotizado', 1892), ('les', 1893), ('buenos', 1894), ('enmendarlo', 1895), ('robot', 1896), ('intencion', 1897), ('daba', 1898), ('amigos', 1899), ('crece', 1900), ('alguien', 1901), ('esperar', 1902), ('ella', 1903), ('china', 1904), ('igual', 1905), ('jesus', 1906), ('pongamoslo', 1907), ('deciendo', 1908), ('vosotros', 1909), ('siguen', 1910), ('topo', 1911), ('segura', 1912), ('listo', 1913), ('pesadilla', 1914), ('pasando', 1915), ('disfrutando', 1916), ('paralelo', 1917), ('disparar', 1918), ('pudieseis', 1919), ('complicado', 1920), ('ocurrio', 1921), ('amabilidad', 1922), ('saquen', 1923), ('deseas', 1924), ('ustedes', 1925), ('north', 1926), ('mira', 1927), ('conmociones', 1928), ('tutora', 1929), ('quiza', 1930), ('llamado', 1931), ('entre', 1932), ('comprar', 1933), ('tendria', 1934), ('representante', 1935), ('prioridad', 1936), ('tenido', 1937), ('terminado', 1938), ('detenernos', 1939), ('alguno', 1940), ('faux', 1941), ('ninguna', 1942), ('patadas', 1943), ('sabor', 1944), ('correra', 1945), ('cheryl', 1946), ('junto', 1947), ('preparamos', 1948), ('habernos', 1949), ('dices', 1950), ('primero', 1951), ('saben', 1952), ('socios', 1953), ('negociar', 1954), ('mes', 1955), ('butters', 1956), ('presidente', 1957), ('durante', 1958), ('modo', 1959), ('ofrecer', 1960), ('medio', 1961), ('mal', 1962), ('aubuelo', 1963), ('lideres', 1964), ('determinen', 1965), ('freelance', 1966), ('servidor', 1967), ('encima', 1968), ('genero', 1969), ('maldita', 1970), ('ademas', 1971), ('hacerle', 1972), ('salid', 1973), ('llamar', 1974), ('jodo', 1975), ('cincuenta', 1976), ('murio', 1977), ('sigas', 1978), ('jubilacion', 1979), ('hago', 1980), ('bourbon', 1981), ('pensarlo', 1982), ('alguna', 1983), ('sufras', 1984), ('calrissiano', 1985), ('contarselo', 1986), ('cia', 1987), ('venganza', 1988), ('pierde', 1989), ('fascinante', 1990), ('equacion', 1991), ('bellici', 1992), ('poco', 1993), ('dan', 1994), ('llevan', 1995), ('matais', 1996), ('rojo', 1997), ('habia', 1998), ('carajo', 1999), ('avisarme', 2000), ('ponedlas', 2001), ('mundo', 2002), ('esperad', 2003), ('empanada', 2004), ('apellido', 2005), ('tarde', 2006), ('conmigo', 2007), ('tac', 2008), ('vinieramos', 2009), ('vender', 2010), ('molesta', 2011), ('darte', 2012), ('fundimos', 2013), ('los', 2014), ('ofrecerias', 2015), ('billones', 2016), ('motel', 2017), ('perdona', 2018), ('sombreros', 2019), ('semana', 2020), ('violencia', 2021), ('peligrosas', 2022), ('oakland', 2023), ('aluminio', 2024), ('familiares', 2025), ('porqueria', 2026), ('acepta', 2027), ('sujeto', 2028), ('descansan', 2029), ('habrias', 2030), ('año', 2031), ('deberias', 2032), ('todos', 2033), ('esta', 2034), ('debemos', 2035), ('veces', 2036), ('tal', 2037), ('cyril', 2038), ('hayas', 2039), ('familiar', 2040), ('sistema', 2041), ('dobles', 2042), ('trabajamos', 2043), ('aunque', 2044), ('acaso', 2045), ('sufro', 2046), ('buscad', 2047), ('un', 2048), ('south', 2049), ('entiende', 2050), ('sterling', 2051), ('oidos', 2052), ('cogerlas', 2053), ('fuerte', 2054), ('liga', 2055), ('muchas', 2056), ('literalment', 2057), ('llevaba', 2058), ('hacemos', 2059), ('existe', 2060), ('libre', 2061), ('montar', 2062), ('descubierto', 2063), ('listos', 2064), ('abra', 2065), ('cancer', 2066), ('contratado', 2067), ('cabeza', 2068), ('francamente', 2069), ('cosquillas', 2070), ('abuelo', 2071), ('elegir', 2072), ('me', 2073), ('balas', 2074), ('vaya', 2075), ('canal', 2076), ('empiezo', 2077), ('ir', 2078), ('paties', 2079), ('ben', 2080), ('cartas', 2081), ('narices', 2082), ('litros', 2083), ('ironico', 2084), ('carajos', 2085), ('esos', 2086), ('odia', 2087), ('desgraciado', 2088), ('disparan', 2089), ('veintiquatro', 2090), ('exceso', 2091), ('alli', 2092), ('canadiense', 2093), ('plan', 2094), ('amor', 2095), ('sangre', 2096), ('explicar', 2097), ('rescatarte', 2098), ('cenar', 2099), ('arrancaste', 2100), ('beber', 2101), ('cierto', 2102), ('castaña', 2103), ('cuentas', 2104), ('equivocado', 2105), ('abrochame', 2106), ('apunta', 2107), ('llama', 2108), ('crearla', 2109), ('verbo', 2110), ('malo', 2111), ('hay', 2112), ('preocupa', 2113), ('peluche', 2114), ('agentes', 2115), ('seis', 2116), ('nosotras', 2117), ('infierno', 2118), ('ya', 2119), ('despechada', 2120), ('quieren', 2121), ('algun', 2122), ('tus', 2123), ('pondria', 2124), ('pongas', 2125), ('archer', 2126), ('cuanto', 2127), ('bastante', 2128), ('aprovechen', 2129), ('camaraderia', 2130), ('ningun', 2131), ('propulsor', 2132), ('lentamente', 2133), ('notacion', 2134), ('pasarlo', 2135), ('marsh', 2136), ('domesticos', 2137), ('fondo', 2138), ('peligro', 2139), ('dinero', 2140), ('roba', 2141), ('victoria', 2142), ('supongo', 2143), ('apoyo', 2144), ('refranes', 2145), ('estudian', 2146), ('cuentan', 2147), ('defensor', 2148), ('culpable', 2149), ('mai', 2150), ('ponle', 2151), ('brazaletes', 2152), ('dame', 2153), ('ocasion', 2154), ('tb', 2155), ('decias', 2156), ('sabia', 2157), ('come', 2158), ('joven', 2159), ('pero', 2160), ('intermediarios', 2161), ('sabe', 2162), ('acabo', 2163), ('muy', 2164), ('obligame', 2165), ('tocado', 2166), ('cafe', 2167), ('creerlo', 2168), ('volar', 2169), ('concozco', 2170), ('ocho', 2171), ('recuerdas', 2172), ('dijo', 2173), ('empeño', 2174), ('tremendo', 2175), ('advierto', 2176), ('acerca', 2177), ('haberle', 2178), ('cloro', 2179), ('cria', 2180), ('aqui', 2181), ('callate', 2182), ('telefonos', 2183), ('viejos', 2184), ('recibe', 2185), ('ayuda', 2186), ('vase', 2187), ('llames', 2188), ('eran', 2189), ('llega', 2190), ('cremosidad', 2191), ('sorpresas', 2192), ('salir', 2193), ('pudiera', 2194), ('coronel', 2195), ('cojines', 2196), ('conmocion', 2197), ('modificando', 2198), ('habitacion', 2199), ('heroico', 2200), ('poner', 2201), ('dado', 2202), ('cilo', 2203), ('luces', 2204), ('homofoba', 2205), ('jode', 2206), ('interior', 2207), ('figuro', 2208), ('saco', 2209), ('genuinos', 2210), ('iban', 2211), ('mia', 2212), ('toquecito', 2213), ('contrario', 2214), ('permiten', 2215), ('ves', 2216), ('color', 2217), ('terminarse', 2218), ('favor', 2219), ('robando', 2220), ('pasalo', 2221), ('aspirante', 2222), ('quimica', 2223), ('alias', 2224), ('basicamente', 2225), ('tuve', 2226), ('refiero', 2227), ('lineacion', 2228), ('irme', 2229), ('patos', 2230), ('placer', 2231), ('informacion', 2232), ('quedaba', 2233), ('cielo', 2234), ('amamos', 2235), ('stern', 2236), ('mismo', 2237), ('tejido', 2238), ('pibe', 2239), ('inicial', 2240), ('esperamos', 2241), ('sucios', 2242), ('el', 2243), ('david', 2244), ('azotea', 2245), ('veamos', 2246), ('protesto', 2247), ('caja', 2248)]\n"
     ]
    }
   ],
   "source": [
    "from numpy import array\n",
    "from numpy import argmax\n",
    "from sklearn.preprocessing import LabelEncoder\n",
    "from sklearn.preprocessing import OneHotEncoder\n",
    "\n",
    "dfObj = pd.DataFrame(textomodificadoarray, columns=['texto']) \n",
    "#type(dfObj)\n",
    "\n",
    "vocabulario = dfObj['texto'].str.cat(sep=\" \")\n",
    "vocabulario = set(vocabulario.split())\n",
    "vocabulario = [(palabra,i+1) for i,palabra in enumerate(vocabulario)]\n",
    "print(vocabulario)\n",
    "\n",
    "\n"
   ]
  },
  {
   "cell_type": "code",
   "execution_count": 188,
   "metadata": {},
   "outputs": [],
   "source": []
  },
  {
   "cell_type": "code",
   "execution_count": null,
   "metadata": {},
   "outputs": [],
   "source": []
  },
  {
   "cell_type": "code",
   "execution_count": null,
   "metadata": {},
   "outputs": [],
   "source": []
  },
  {
   "cell_type": "code",
   "execution_count": null,
   "metadata": {},
   "outputs": [],
   "source": []
  },
  {
   "cell_type": "code",
   "execution_count": null,
   "metadata": {},
   "outputs": [],
   "source": []
  }
 ],
 "metadata": {
  "kernelspec": {
   "display_name": "Python 3",
   "language": "python",
   "name": "python3"
  },
  "language_info": {
   "codemirror_mode": {
    "name": "ipython",
    "version": 3
   },
   "file_extension": ".py",
   "mimetype": "text/x-python",
   "name": "python",
   "nbconvert_exporter": "python",
   "pygments_lexer": "ipython3",
   "version": "3.8.3"
  }
 },
 "nbformat": 4,
 "nbformat_minor": 4
}
